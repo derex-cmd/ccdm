{
 "cells": [
  {
   "cell_type": "code",
   "execution_count": 1,
   "id": "c6f5e131",
   "metadata": {},
   "outputs": [],
   "source": [
    "import pandas as pd\n",
    "import numpy as np\n",
    "from sklearn.model_selection import train_test_split, KFold\n",
    "from sklearn.metrics import make_scorer, mean_squared_error, mean_absolute_error, r2_score\n",
    "from sklearn.linear_model import LinearRegression, Lasso\n",
    "from xgboost import XGBRegressor\n",
    "from sklearn.tree import DecisionTreeRegressor\n",
    "from sklearn.ensemble import RandomForestRegressor, GradientBoostingRegressor\n",
    "import matplotlib.pyplot as plt\n",
    "import seaborn as sns\n",
    "from tqdm import tqdm\n",
    "import time\n",
    "import os\n",
    "from skopt import BayesSearchCV\n",
    "from skopt.space import Real, Integer, Categorical\n",
    "import joblib\n",
    "\n",
    "\n",
    "import warnings\n",
    "warnings.filterwarnings('ignore')"
   ]
  },
  {
   "cell_type": "code",
   "execution_count": 2,
   "id": "f9c92096",
   "metadata": {},
   "outputs": [],
   "source": [
    "Path_Data = '3_merged_data3.txt'"
   ]
  },
  {
   "cell_type": "code",
   "execution_count": 3,
   "id": "8c1666ce",
   "metadata": {},
   "outputs": [
    {
     "data": {
      "text/html": [
       "<div>\n",
       "<style scoped>\n",
       "    .dataframe tbody tr th:only-of-type {\n",
       "        vertical-align: middle;\n",
       "    }\n",
       "\n",
       "    .dataframe tbody tr th {\n",
       "        vertical-align: top;\n",
       "    }\n",
       "\n",
       "    .dataframe thead th {\n",
       "        text-align: right;\n",
       "    }\n",
       "</style>\n",
       "<table border=\"1\" class=\"dataframe\">\n",
       "  <thead>\n",
       "    <tr style=\"text-align: right;\">\n",
       "      <th></th>\n",
       "      <th>ID</th>\n",
       "      <th>avg7_calingiri</th>\n",
       "      <th>SNOO_500610_1</th>\n",
       "      <th>SNOO_500610_2</th>\n",
       "      <th>SNOO_505150_1</th>\n",
       "      <th>SNOO_104700A_1</th>\n",
       "      <th>SNOO_104700A_2</th>\n",
       "      <th>SNOO_129020A_1</th>\n",
       "      <th>SNOO_129020A_2</th>\n",
       "      <th>SNOO_414470A_1</th>\n",
       "      <th>...</th>\n",
       "      <th>SNOO_526990_1</th>\n",
       "      <th>SNOO_418580A_1</th>\n",
       "      <th>SNOO_508440_1</th>\n",
       "      <th>SNOO_508440_2</th>\n",
       "      <th>SNOO_103660AB_1</th>\n",
       "      <th>SNOO_152090A_1</th>\n",
       "      <th>SNOO_152090A_2</th>\n",
       "      <th>SNOO_007570A_1</th>\n",
       "      <th>SNOO_153580A_1</th>\n",
       "      <th>SNOO_153580A_2</th>\n",
       "    </tr>\n",
       "  </thead>\n",
       "  <tbody>\n",
       "    <tr>\n",
       "      <th>0</th>\n",
       "      <td>14FG141</td>\n",
       "      <td>4.67</td>\n",
       "      <td>0</td>\n",
       "      <td>1</td>\n",
       "      <td>1</td>\n",
       "      <td>0</td>\n",
       "      <td>1</td>\n",
       "      <td>1</td>\n",
       "      <td>0</td>\n",
       "      <td>1</td>\n",
       "      <td>...</td>\n",
       "      <td>0</td>\n",
       "      <td>1</td>\n",
       "      <td>1</td>\n",
       "      <td>0</td>\n",
       "      <td>1</td>\n",
       "      <td>0</td>\n",
       "      <td>0</td>\n",
       "      <td>0</td>\n",
       "      <td>0</td>\n",
       "      <td>1</td>\n",
       "    </tr>\n",
       "    <tr>\n",
       "      <th>1</th>\n",
       "      <td>15FG033</td>\n",
       "      <td>4.83</td>\n",
       "      <td>1</td>\n",
       "      <td>0</td>\n",
       "      <td>1</td>\n",
       "      <td>1</td>\n",
       "      <td>0</td>\n",
       "      <td>0</td>\n",
       "      <td>0</td>\n",
       "      <td>1</td>\n",
       "      <td>...</td>\n",
       "      <td>1</td>\n",
       "      <td>1</td>\n",
       "      <td>0</td>\n",
       "      <td>1</td>\n",
       "      <td>1</td>\n",
       "      <td>1</td>\n",
       "      <td>0</td>\n",
       "      <td>0</td>\n",
       "      <td>1</td>\n",
       "      <td>0</td>\n",
       "    </tr>\n",
       "    <tr>\n",
       "      <th>2</th>\n",
       "      <td>15FG037</td>\n",
       "      <td>3.33</td>\n",
       "      <td>1</td>\n",
       "      <td>0</td>\n",
       "      <td>1</td>\n",
       "      <td>1</td>\n",
       "      <td>0</td>\n",
       "      <td>0</td>\n",
       "      <td>0</td>\n",
       "      <td>1</td>\n",
       "      <td>...</td>\n",
       "      <td>0</td>\n",
       "      <td>1</td>\n",
       "      <td>0</td>\n",
       "      <td>0</td>\n",
       "      <td>1</td>\n",
       "      <td>1</td>\n",
       "      <td>0</td>\n",
       "      <td>1</td>\n",
       "      <td>1</td>\n",
       "      <td>0</td>\n",
       "    </tr>\n",
       "    <tr>\n",
       "      <th>3</th>\n",
       "      <td>15FG038</td>\n",
       "      <td>5.00</td>\n",
       "      <td>1</td>\n",
       "      <td>0</td>\n",
       "      <td>0</td>\n",
       "      <td>1</td>\n",
       "      <td>0</td>\n",
       "      <td>1</td>\n",
       "      <td>0</td>\n",
       "      <td>0</td>\n",
       "      <td>...</td>\n",
       "      <td>1</td>\n",
       "      <td>0</td>\n",
       "      <td>1</td>\n",
       "      <td>0</td>\n",
       "      <td>1</td>\n",
       "      <td>1</td>\n",
       "      <td>0</td>\n",
       "      <td>0</td>\n",
       "      <td>1</td>\n",
       "      <td>0</td>\n",
       "    </tr>\n",
       "    <tr>\n",
       "      <th>4</th>\n",
       "      <td>15FG047</td>\n",
       "      <td>2.00</td>\n",
       "      <td>1</td>\n",
       "      <td>0</td>\n",
       "      <td>0</td>\n",
       "      <td>0</td>\n",
       "      <td>1</td>\n",
       "      <td>0</td>\n",
       "      <td>0</td>\n",
       "      <td>1</td>\n",
       "      <td>...</td>\n",
       "      <td>1</td>\n",
       "      <td>1</td>\n",
       "      <td>0</td>\n",
       "      <td>1</td>\n",
       "      <td>1</td>\n",
       "      <td>0</td>\n",
       "      <td>1</td>\n",
       "      <td>0</td>\n",
       "      <td>1</td>\n",
       "      <td>0</td>\n",
       "    </tr>\n",
       "  </tbody>\n",
       "</table>\n",
       "<p>5 rows × 33050 columns</p>\n",
       "</div>"
      ],
      "text/plain": [
       "        ID  avg7_calingiri  SNOO_500610_1  SNOO_500610_2  SNOO_505150_1  \\\n",
       "0  14FG141            4.67              0              1              1   \n",
       "1  15FG033            4.83              1              0              1   \n",
       "2  15FG037            3.33              1              0              1   \n",
       "3  15FG038            5.00              1              0              0   \n",
       "4  15FG047            2.00              1              0              0   \n",
       "\n",
       "   SNOO_104700A_1  SNOO_104700A_2  SNOO_129020A_1  SNOO_129020A_2  \\\n",
       "0               0               1               1               0   \n",
       "1               1               0               0               0   \n",
       "2               1               0               0               0   \n",
       "3               1               0               1               0   \n",
       "4               0               1               0               0   \n",
       "\n",
       "   SNOO_414470A_1  ...  SNOO_526990_1  SNOO_418580A_1  SNOO_508440_1  \\\n",
       "0               1  ...              0               1              1   \n",
       "1               1  ...              1               1              0   \n",
       "2               1  ...              0               1              0   \n",
       "3               0  ...              1               0              1   \n",
       "4               1  ...              1               1              0   \n",
       "\n",
       "   SNOO_508440_2  SNOO_103660AB_1  SNOO_152090A_1  SNOO_152090A_2  \\\n",
       "0              0                1               0               0   \n",
       "1              1                1               1               0   \n",
       "2              0                1               1               0   \n",
       "3              0                1               1               0   \n",
       "4              1                1               0               1   \n",
       "\n",
       "   SNOO_007570A_1  SNOO_153580A_1  SNOO_153580A_2  \n",
       "0               0               0               1  \n",
       "1               0               1               0  \n",
       "2               1               1               0  \n",
       "3               0               1               0  \n",
       "4               0               1               0  \n",
       "\n",
       "[5 rows x 33050 columns]"
      ]
     },
     "execution_count": 3,
     "metadata": {},
     "output_type": "execute_result"
    }
   ],
   "source": [
    "df = pd.read_csv(f\"{Path_Data}\", sep='\\t')\n",
    "df.head()"
   ]
  },
  {
   "cell_type": "markdown",
   "id": "2cb43e33",
   "metadata": {},
   "source": [
    "## Splitting Data intro Train/ Test"
   ]
  },
  {
   "cell_type": "code",
   "execution_count": 4,
   "id": "c633bfc8",
   "metadata": {},
   "outputs": [
    {
     "name": "stdout",
     "output_type": "stream",
     "text": [
      "X_train shape: (119, 33048)\n",
      "X_test shape: (30, 33048)\n"
     ]
    }
   ],
   "source": [
    "# Separate features and target\n",
    "X = df.drop(columns=['ID', 'avg7_calingiri'])\n",
    "y = df['avg7_calingiri']\n",
    "\n",
    "X_train, X_test, y_train, y_test = train_test_split(\n",
    "    X, y, test_size=0.2,  random_state=42\n",
    ")\n",
    "\n",
    "print(f\"X_train shape: {X_train.shape}\")  # 80%\n",
    "print(f\"X_test shape: {X_test.shape}\")\n",
    "    # 20%\n"
   ]
  },
  {
   "cell_type": "markdown",
   "id": "6c9458fe",
   "metadata": {},
   "source": [
    "# Bayesian Optimizer"
   ]
  },
  {
   "cell_type": "code",
   "execution_count": 5,
   "id": "191820ff",
   "metadata": {},
   "outputs": [],
   "source": [
    "\n",
    "\n",
    "# Define models\n",
    "def get_models():\n",
    "    return {\n",
    "        \"Linear Regression\": LinearRegression(n_jobs=4),\n",
    "        \"Decision Tree\": DecisionTreeRegressor(),\n",
    "        #\"Random Forest\": RandomForestRegressor(n_jobs=1),\n",
    "        #\"Gradient Boosting\": GradientBoostingRegressor(),\n",
    "        \"Lasso Regression\": Lasso(),\n",
    "    }\n",
    "\n",
    "# Define scoring metrics\n",
    "def get_scoring():\n",
    "    return {\n",
    "        'MSE': make_scorer(mean_squared_error, greater_is_better=False),\n",
    "        'MAE': make_scorer(mean_absolute_error, greater_is_better=False),\n",
    "        'R2': make_scorer(r2_score)\n",
    "    }\n",
    "\n",
    "# Create Bayesian SearchCV setup\n",
    "def create_bayesian_searches(X, y, param_spaces, k_values):\n",
    "    searches = {}\n",
    "    models = get_models()\n",
    "\n",
    "    for model_name, model in models.items():\n",
    "        search_spaces = param_spaces.get(model_name, {})\n",
    "        if not search_spaces:\n",
    "            print(f\"Skipping {model_name} because search space is empty.\")\n",
    "            continue\n",
    "\n",
    "        for k in k_values:\n",
    "            cv = KFold(n_splits=k, shuffle=True, random_state=42)\n",
    "            search = BayesSearchCV(\n",
    "                estimator=model,\n",
    "                search_spaces=search_spaces,\n",
    "                scoring='r2',\n",
    "                cv=cv,\n",
    "                n_iter=32,\n",
    "                n_jobs=-1,\n",
    "                verbose=2,\n",
    "                random_state=42\n",
    "            )\n",
    "            key = f\"{model_name} (K={k})\"\n",
    "            searches[key] = search\n",
    "\n",
    "    return searches\n",
    "\n"
   ]
  },
  {
   "cell_type": "code",
   "execution_count": 6,
   "id": "5c0b662b",
   "metadata": {},
   "outputs": [],
   "source": [
    "param_spaces = {\n",
    "    \"Linear Regression\": {},  # no params to tune\n",
    "    \"Decision Tree\": {\n",
    "        \"max_depth\": Integer(3, 20)  # continuous range from 3 to 20\n",
    "    },\n",
    "    #\"Random Forest\": {\n",
    "     #   \"n_estimators\": Integer(50, 200),\n",
    "      #  \"max_depth\": Integer(5, 20)\n",
    "    #},\n",
    "    #\"Gradient Boosting\": {\n",
    "     #   \"n_estimators\": Integer(50, 200),\n",
    "      #  \"learning_rate\": Real(0.01, 0.1, prior='log-uniform')\n",
    "    #},\n",
    "    \"Lasso Regression\": {\n",
    "        \"alpha\": Real(0.01, 10.0, prior='log-uniform')\n",
    "    }\n",
    "}\n"
   ]
  },
  {
   "cell_type": "code",
   "execution_count": 11,
   "id": "f41c1702",
   "metadata": {},
   "outputs": [],
   "source": [
    "from tqdm import tqdm\n",
    "import time\n",
    "import os\n",
    "import joblib\n",
    "import pandas as pd\n",
    "from sklearn.metrics import mean_squared_error, mean_absolute_error, r2_score\n",
    "\n",
    "def train_with_progress_bayesian(searches, X, y, save_dir=\"saved_models_bayes\"):\n",
    "    all_results = []\n",
    "\n",
    "    os.makedirs(save_dir, exist_ok=True)\n",
    "    total_tasks = len(searches)\n",
    "    pbar = tqdm(total=total_tasks, desc=\"Bayesian Training\", ncols=100)\n",
    "\n",
    "    for idx, (name, search) in enumerate(searches.items(), 1):\n",
    "        print(f\"\\n🔍 Starting training for: {name}\")\n",
    "        start_time = time.time()\n",
    "\n",
    "        # Fit model quietly\n",
    "        search.fit(X, y)\n",
    "\n",
    "        best_model = search.best_estimator_\n",
    "        best_params = search.best_params_\n",
    "\n",
    "        y_pred = best_model.predict(X)\n",
    "\n",
    "        mean_mse = mean_squared_error(y, y_pred)\n",
    "        mean_mae = mean_absolute_error(y, y_pred)\n",
    "        mean_r2  = r2_score(y, y_pred)\n",
    "\n",
    "        safe_name = name.replace(\" \", \"_\").replace(\"(\", \"\").replace(\")\", \"\").replace(\"=\", \"\")\n",
    "        model_path = os.path.join(save_dir, f\"{safe_name}.pkl\")\n",
    "        joblib.dump(best_model, model_path)\n",
    "\n",
    "        elapsed = round(time.time() - start_time, 2)\n",
    "        print(f\"✅ Finished {name} | Time: {elapsed}s | R2: {mean_r2:.4f} | MSE: {mean_mse:.4f}\")\n",
    "\n",
    "        all_results.append({\n",
    "            \"Model\": name,\n",
    "            \"Best Params\": best_params,\n",
    "            \"MSE\": mean_mse,\n",
    "            \"MAE\": mean_mae,\n",
    "            \"R2\": mean_r2,\n",
    "            \"Training Time (s)\": elapsed\n",
    "        })\n",
    "\n",
    "        pbar.update(1)\n",
    "\n",
    "        # Optional: print every 2 or 3 models milestone\n",
    "        if idx % 3 == 0 or idx == total_tasks:\n",
    "            print(f\"🚀 Progress milestone: {idx}/{total_tasks} models trained.\")\n",
    "\n",
    "    pbar.close()\n",
    "\n",
    "    results_df = pd.DataFrame(all_results)\n",
    "    results_df = results_df.sort_values(by=\"R2\", ascending=False)\n",
    "    return results_df\n"
   ]
  },
  {
   "cell_type": "code",
   "execution_count": null,
   "id": "3ab38d21",
   "metadata": {},
   "outputs": [
    {
     "name": "stdout",
     "output_type": "stream",
     "text": [
      "Skipping Linear Regression because search space is empty.\n"
     ]
    },
    {
     "name": "stderr",
     "output_type": "stream",
     "text": [
      "Bayesian Training:   0%|                                                      | 0/6 [00:00<?, ?it/s]"
     ]
    },
    {
     "name": "stdout",
     "output_type": "stream",
     "text": [
      "\n",
      "🔍 Starting training for: Decision Tree (K=3)\n",
      "Fitting 3 folds for each of 1 candidates, totalling 3 fits\n",
      "Fitting 3 folds for each of 1 candidates, totalling 3 fits\n",
      "Fitting 3 folds for each of 1 candidates, totalling 3 fits\n",
      "Fitting 3 folds for each of 1 candidates, totalling 3 fits\n",
      "Fitting 3 folds for each of 1 candidates, totalling 3 fits\n",
      "Fitting 3 folds for each of 1 candidates, totalling 3 fits\n",
      "Fitting 3 folds for each of 1 candidates, totalling 3 fits\n",
      "Fitting 3 folds for each of 1 candidates, totalling 3 fits\n",
      "Fitting 3 folds for each of 1 candidates, totalling 3 fits\n",
      "Fitting 3 folds for each of 1 candidates, totalling 3 fits\n",
      "Fitting 3 folds for each of 1 candidates, totalling 3 fits\n",
      "Fitting 3 folds for each of 1 candidates, totalling 3 fits\n",
      "Fitting 3 folds for each of 1 candidates, totalling 3 fits\n",
      "Fitting 3 folds for each of 1 candidates, totalling 3 fits\n",
      "Fitting 3 folds for each of 1 candidates, totalling 3 fits\n",
      "Fitting 3 folds for each of 1 candidates, totalling 3 fits\n",
      "Fitting 3 folds for each of 1 candidates, totalling 3 fits\n",
      "Fitting 3 folds for each of 1 candidates, totalling 3 fits\n",
      "Fitting 3 folds for each of 1 candidates, totalling 3 fits\n",
      "Fitting 3 folds for each of 1 candidates, totalling 3 fits\n",
      "Fitting 3 folds for each of 1 candidates, totalling 3 fits\n",
      "Fitting 3 folds for each of 1 candidates, totalling 3 fits\n",
      "Fitting 3 folds for each of 1 candidates, totalling 3 fits\n",
      "Fitting 3 folds for each of 1 candidates, totalling 3 fits\n",
      "Fitting 3 folds for each of 1 candidates, totalling 3 fits\n",
      "Fitting 3 folds for each of 1 candidates, totalling 3 fits\n",
      "Fitting 3 folds for each of 1 candidates, totalling 3 fits\n",
      "Fitting 3 folds for each of 1 candidates, totalling 3 fits\n",
      "Fitting 3 folds for each of 1 candidates, totalling 3 fits\n",
      "Fitting 3 folds for each of 1 candidates, totalling 3 fits\n",
      "Fitting 3 folds for each of 1 candidates, totalling 3 fits\n",
      "Fitting 3 folds for each of 1 candidates, totalling 3 fits\n"
     ]
    },
    {
     "name": "stderr",
     "output_type": "stream",
     "text": [
      "Bayesian Training:  17%|███████▋                                      | 1/6 [00:32<02:43, 32.79s/it]"
     ]
    },
    {
     "name": "stdout",
     "output_type": "stream",
     "text": [
      "✅ Finished Decision Tree (K=3) | Time: 32.79s | R2: 0.8568 | MSE: 0.2307\n",
      "\n",
      "🔍 Starting training for: Decision Tree (K=5)\n",
      "Fitting 5 folds for each of 1 candidates, totalling 5 fits\n",
      "Fitting 5 folds for each of 1 candidates, totalling 5 fits\n",
      "Fitting 5 folds for each of 1 candidates, totalling 5 fits\n",
      "Fitting 5 folds for each of 1 candidates, totalling 5 fits\n",
      "Fitting 5 folds for each of 1 candidates, totalling 5 fits\n",
      "Fitting 5 folds for each of 1 candidates, totalling 5 fits\n",
      "Fitting 5 folds for each of 1 candidates, totalling 5 fits\n",
      "Fitting 5 folds for each of 1 candidates, totalling 5 fits\n",
      "Fitting 5 folds for each of 1 candidates, totalling 5 fits\n",
      "Fitting 5 folds for each of 1 candidates, totalling 5 fits\n",
      "Fitting 5 folds for each of 1 candidates, totalling 5 fits\n",
      "Fitting 5 folds for each of 1 candidates, totalling 5 fits\n",
      "Fitting 5 folds for each of 1 candidates, totalling 5 fits\n",
      "Fitting 5 folds for each of 1 candidates, totalling 5 fits\n",
      "Fitting 5 folds for each of 1 candidates, totalling 5 fits\n",
      "Fitting 5 folds for each of 1 candidates, totalling 5 fits\n",
      "Fitting 5 folds for each of 1 candidates, totalling 5 fits\n",
      "Fitting 5 folds for each of 1 candidates, totalling 5 fits\n",
      "Fitting 5 folds for each of 1 candidates, totalling 5 fits\n",
      "Fitting 5 folds for each of 1 candidates, totalling 5 fits\n",
      "Fitting 5 folds for each of 1 candidates, totalling 5 fits\n",
      "Fitting 5 folds for each of 1 candidates, totalling 5 fits\n",
      "Fitting 5 folds for each of 1 candidates, totalling 5 fits\n",
      "Fitting 5 folds for each of 1 candidates, totalling 5 fits\n",
      "Fitting 5 folds for each of 1 candidates, totalling 5 fits\n",
      "Fitting 5 folds for each of 1 candidates, totalling 5 fits\n",
      "Fitting 5 folds for each of 1 candidates, totalling 5 fits\n",
      "Fitting 5 folds for each of 1 candidates, totalling 5 fits\n",
      "Fitting 5 folds for each of 1 candidates, totalling 5 fits\n",
      "Fitting 5 folds for each of 1 candidates, totalling 5 fits\n",
      "Fitting 5 folds for each of 1 candidates, totalling 5 fits\n",
      "Fitting 5 folds for each of 1 candidates, totalling 5 fits\n"
     ]
    },
    {
     "name": "stderr",
     "output_type": "stream",
     "text": [
      "Bayesian Training:  33%|███████████████▎                              | 2/6 [01:03<02:06, 31.71s/it]"
     ]
    },
    {
     "name": "stdout",
     "output_type": "stream",
     "text": [
      "✅ Finished Decision Tree (K=5) | Time: 30.96s | R2: 0.4771 | MSE: 0.8420\n",
      "\n",
      "🔍 Starting training for: Decision Tree (K=7)\n",
      "Fitting 7 folds for each of 1 candidates, totalling 7 fits\n",
      "Fitting 7 folds for each of 1 candidates, totalling 7 fits\n",
      "Fitting 7 folds for each of 1 candidates, totalling 7 fits\n",
      "Fitting 7 folds for each of 1 candidates, totalling 7 fits\n",
      "Fitting 7 folds for each of 1 candidates, totalling 7 fits\n",
      "Fitting 7 folds for each of 1 candidates, totalling 7 fits\n",
      "Fitting 7 folds for each of 1 candidates, totalling 7 fits\n",
      "Fitting 7 folds for each of 1 candidates, totalling 7 fits\n",
      "Fitting 7 folds for each of 1 candidates, totalling 7 fits\n",
      "Fitting 7 folds for each of 1 candidates, totalling 7 fits\n",
      "Fitting 7 folds for each of 1 candidates, totalling 7 fits\n",
      "Fitting 7 folds for each of 1 candidates, totalling 7 fits\n",
      "Fitting 7 folds for each of 1 candidates, totalling 7 fits\n",
      "Fitting 7 folds for each of 1 candidates, totalling 7 fits\n",
      "Fitting 7 folds for each of 1 candidates, totalling 7 fits\n",
      "Fitting 7 folds for each of 1 candidates, totalling 7 fits\n",
      "Fitting 7 folds for each of 1 candidates, totalling 7 fits\n",
      "Fitting 7 folds for each of 1 candidates, totalling 7 fits\n",
      "Fitting 7 folds for each of 1 candidates, totalling 7 fits\n",
      "Fitting 7 folds for each of 1 candidates, totalling 7 fits\n",
      "Fitting 7 folds for each of 1 candidates, totalling 7 fits\n",
      "Fitting 7 folds for each of 1 candidates, totalling 7 fits\n",
      "Fitting 7 folds for each of 1 candidates, totalling 7 fits\n",
      "Fitting 7 folds for each of 1 candidates, totalling 7 fits\n",
      "Fitting 7 folds for each of 1 candidates, totalling 7 fits\n",
      "Fitting 7 folds for each of 1 candidates, totalling 7 fits\n",
      "Fitting 7 folds for each of 1 candidates, totalling 7 fits\n",
      "Fitting 7 folds for each of 1 candidates, totalling 7 fits\n",
      "Fitting 7 folds for each of 1 candidates, totalling 7 fits\n",
      "Fitting 7 folds for each of 1 candidates, totalling 7 fits\n",
      "Fitting 7 folds for each of 1 candidates, totalling 7 fits\n",
      "Fitting 7 folds for each of 1 candidates, totalling 7 fits\n"
     ]
    },
    {
     "name": "stderr",
     "output_type": "stream",
     "text": [
      "Bayesian Training:  50%|███████████████████████                       | 3/6 [01:37<01:37, 32.57s/it]"
     ]
    },
    {
     "name": "stdout",
     "output_type": "stream",
     "text": [
      "✅ Finished Decision Tree (K=7) | Time: 33.58s | R2: 0.4771 | MSE: 0.8420\n",
      "🚀 Progress milestone: 3/6 models trained.\n",
      "\n",
      "🔍 Starting training for: Lasso Regression (K=3)\n",
      "Fitting 3 folds for each of 1 candidates, totalling 3 fits\n",
      "Fitting 3 folds for each of 1 candidates, totalling 3 fits\n",
      "Fitting 3 folds for each of 1 candidates, totalling 3 fits\n",
      "Fitting 3 folds for each of 1 candidates, totalling 3 fits\n",
      "Fitting 3 folds for each of 1 candidates, totalling 3 fits\n",
      "Fitting 3 folds for each of 1 candidates, totalling 3 fits\n",
      "Fitting 3 folds for each of 1 candidates, totalling 3 fits\n",
      "Fitting 3 folds for each of 1 candidates, totalling 3 fits\n",
      "Fitting 3 folds for each of 1 candidates, totalling 3 fits\n",
      "Fitting 3 folds for each of 1 candidates, totalling 3 fits\n",
      "Fitting 3 folds for each of 1 candidates, totalling 3 fits\n",
      "Fitting 3 folds for each of 1 candidates, totalling 3 fits\n",
      "Fitting 3 folds for each of 1 candidates, totalling 3 fits\n",
      "Fitting 3 folds for each of 1 candidates, totalling 3 fits\n",
      "Fitting 3 folds for each of 1 candidates, totalling 3 fits\n",
      "Fitting 3 folds for each of 1 candidates, totalling 3 fits\n",
      "Fitting 3 folds for each of 1 candidates, totalling 3 fits\n",
      "Fitting 3 folds for each of 1 candidates, totalling 3 fits\n",
      "Fitting 3 folds for each of 1 candidates, totalling 3 fits\n",
      "Fitting 3 folds for each of 1 candidates, totalling 3 fits\n",
      "Fitting 3 folds for each of 1 candidates, totalling 3 fits\n",
      "Fitting 3 folds for each of 1 candidates, totalling 3 fits\n",
      "Fitting 3 folds for each of 1 candidates, totalling 3 fits\n",
      "Fitting 3 folds for each of 1 candidates, totalling 3 fits\n",
      "Fitting 3 folds for each of 1 candidates, totalling 3 fits\n",
      "Fitting 3 folds for each of 1 candidates, totalling 3 fits\n",
      "Fitting 3 folds for each of 1 candidates, totalling 3 fits\n",
      "Fitting 3 folds for each of 1 candidates, totalling 3 fits\n",
      "Fitting 3 folds for each of 1 candidates, totalling 3 fits\n",
      "Fitting 3 folds for each of 1 candidates, totalling 3 fits\n",
      "Fitting 3 folds for each of 1 candidates, totalling 3 fits\n",
      "Fitting 3 folds for each of 1 candidates, totalling 3 fits\n"
     ]
    },
    {
     "name": "stderr",
     "output_type": "stream",
     "text": [
      "Bayesian Training:  67%|██████████████████████████████▋               | 4/6 [01:59<00:56, 28.47s/it]"
     ]
    },
    {
     "name": "stdout",
     "output_type": "stream",
     "text": [
      "✅ Finished Lasso Regression (K=3) | Time: 22.2s | R2: 0.0000 | MSE: 1.6102\n",
      "\n",
      "🔍 Starting training for: Lasso Regression (K=5)\n",
      "Fitting 5 folds for each of 1 candidates, totalling 5 fits\n",
      "Fitting 5 folds for each of 1 candidates, totalling 5 fits\n",
      "Fitting 5 folds for each of 1 candidates, totalling 5 fits\n",
      "Fitting 5 folds for each of 1 candidates, totalling 5 fits\n",
      "Fitting 5 folds for each of 1 candidates, totalling 5 fits\n",
      "Fitting 5 folds for each of 1 candidates, totalling 5 fits\n",
      "Fitting 5 folds for each of 1 candidates, totalling 5 fits\n",
      "Fitting 5 folds for each of 1 candidates, totalling 5 fits\n",
      "Fitting 5 folds for each of 1 candidates, totalling 5 fits\n",
      "Fitting 5 folds for each of 1 candidates, totalling 5 fits\n",
      "Fitting 5 folds for each of 1 candidates, totalling 5 fits\n",
      "Fitting 5 folds for each of 1 candidates, totalling 5 fits\n",
      "Fitting 5 folds for each of 1 candidates, totalling 5 fits\n",
      "Fitting 5 folds for each of 1 candidates, totalling 5 fits\n",
      "Fitting 5 folds for each of 1 candidates, totalling 5 fits\n",
      "Fitting 5 folds for each of 1 candidates, totalling 5 fits\n",
      "Fitting 5 folds for each of 1 candidates, totalling 5 fits\n",
      "Fitting 5 folds for each of 1 candidates, totalling 5 fits\n",
      "Fitting 5 folds for each of 1 candidates, totalling 5 fits\n",
      "Fitting 5 folds for each of 1 candidates, totalling 5 fits\n",
      "Fitting 5 folds for each of 1 candidates, totalling 5 fits\n",
      "Fitting 5 folds for each of 1 candidates, totalling 5 fits\n",
      "Fitting 5 folds for each of 1 candidates, totalling 5 fits\n",
      "Fitting 5 folds for each of 1 candidates, totalling 5 fits\n",
      "Fitting 5 folds for each of 1 candidates, totalling 5 fits\n",
      "Fitting 5 folds for each of 1 candidates, totalling 5 fits\n",
      "Fitting 5 folds for each of 1 candidates, totalling 5 fits\n",
      "Fitting 5 folds for each of 1 candidates, totalling 5 fits\n",
      "Fitting 5 folds for each of 1 candidates, totalling 5 fits\n",
      "Fitting 5 folds for each of 1 candidates, totalling 5 fits\n",
      "Fitting 5 folds for each of 1 candidates, totalling 5 fits\n",
      "Fitting 5 folds for each of 1 candidates, totalling 5 fits\n"
     ]
    },
    {
     "name": "stderr",
     "output_type": "stream",
     "text": [
      "Bayesian Training:  83%|██████████████████████████████████████▎       | 5/6 [02:24<00:27, 27.19s/it]"
     ]
    },
    {
     "name": "stdout",
     "output_type": "stream",
     "text": [
      "✅ Finished Lasso Regression (K=5) | Time: 24.92s | R2: 0.0000 | MSE: 1.6102\n",
      "\n",
      "🔍 Starting training for: Lasso Regression (K=7)\n",
      "Fitting 7 folds for each of 1 candidates, totalling 7 fits\n",
      "Fitting 7 folds for each of 1 candidates, totalling 7 fits\n",
      "Fitting 7 folds for each of 1 candidates, totalling 7 fits\n",
      "Fitting 7 folds for each of 1 candidates, totalling 7 fits\n",
      "Fitting 7 folds for each of 1 candidates, totalling 7 fits\n",
      "Fitting 7 folds for each of 1 candidates, totalling 7 fits\n",
      "Fitting 7 folds for each of 1 candidates, totalling 7 fits\n",
      "Fitting 7 folds for each of 1 candidates, totalling 7 fits\n",
      "Fitting 7 folds for each of 1 candidates, totalling 7 fits\n",
      "Fitting 7 folds for each of 1 candidates, totalling 7 fits\n",
      "Fitting 7 folds for each of 1 candidates, totalling 7 fits\n",
      "Fitting 7 folds for each of 1 candidates, totalling 7 fits\n",
      "Fitting 7 folds for each of 1 candidates, totalling 7 fits\n",
      "Fitting 7 folds for each of 1 candidates, totalling 7 fits\n",
      "Fitting 7 folds for each of 1 candidates, totalling 7 fits\n",
      "Fitting 7 folds for each of 1 candidates, totalling 7 fits\n",
      "Fitting 7 folds for each of 1 candidates, totalling 7 fits\n",
      "Fitting 7 folds for each of 1 candidates, totalling 7 fits\n",
      "Fitting 7 folds for each of 1 candidates, totalling 7 fits\n",
      "Fitting 7 folds for each of 1 candidates, totalling 7 fits\n",
      "Fitting 7 folds for each of 1 candidates, totalling 7 fits\n",
      "Fitting 7 folds for each of 1 candidates, totalling 7 fits\n",
      "Fitting 7 folds for each of 1 candidates, totalling 7 fits\n",
      "Fitting 7 folds for each of 1 candidates, totalling 7 fits\n",
      "Fitting 7 folds for each of 1 candidates, totalling 7 fits\n",
      "Fitting 7 folds for each of 1 candidates, totalling 7 fits\n",
      "Fitting 7 folds for each of 1 candidates, totalling 7 fits\n",
      "Fitting 7 folds for each of 1 candidates, totalling 7 fits\n",
      "Fitting 7 folds for each of 1 candidates, totalling 7 fits\n",
      "Fitting 7 folds for each of 1 candidates, totalling 7 fits\n",
      "Fitting 7 folds for each of 1 candidates, totalling 7 fits\n",
      "Fitting 7 folds for each of 1 candidates, totalling 7 fits\n"
     ]
    },
    {
     "name": "stderr",
     "output_type": "stream",
     "text": [
      "Bayesian Training: 100%|██████████████████████████████████████████████| 6/6 [02:56<00:00, 29.47s/it]"
     ]
    },
    {
     "name": "stdout",
     "output_type": "stream",
     "text": [
      "✅ Finished Lasso Regression (K=7) | Time: 32.36s | R2: 0.2195 | MSE: 1.2567\n",
      "🚀 Progress milestone: 6/6 models trained.\n"
     ]
    },
    {
     "name": "stderr",
     "output_type": "stream",
     "text": [
      "\n"
     ]
    }
   ],
   "source": [
    "k_values = [3,5,7]\n",
    "# Create grid searches\n",
    "searches = create_bayesian_searches(X_train, y_train, param_spaces, k_values)\n",
    "\n",
    "# Run training\n",
    "results_df = train_with_progress_bayesian(searches, X_train, y_train)\n"
   ]
  },
  {
   "cell_type": "code",
   "execution_count": 9,
   "id": "8b5e4d1f",
   "metadata": {},
   "outputs": [],
   "source": [
    "results_df.to_csv(\"model_results.csv\", index=False)\n"
   ]
  },
  {
   "cell_type": "markdown",
   "id": "95a1c56f",
   "metadata": {},
   "source": [
    "### Load best model and predict"
   ]
  },
  {
   "cell_type": "code",
   "execution_count": 21,
   "id": "95095c8d",
   "metadata": {},
   "outputs": [],
   "source": [
    "import os\n",
    "import joblib\n",
    "import pandas as pd\n",
    "from sklearn.metrics import r2_score, mean_absolute_error, mean_squared_error\n",
    "from sklearn.preprocessing import MinMaxScaler\n",
    "\n",
    "def parse_model_filename(model_name: str) -> str:\n",
    "    \"\"\"\n",
    "    Converts 'Random Forest (K=5)' → 'Random_Forest_K5.pkl'\n",
    "    \"\"\"\n",
    "    import re\n",
    "    name_clean = model_name.split(\" (\")[0].replace(\" \", \"_\")\n",
    "    k_match = re.search(r\"K=(\\d+)\", model_name)\n",
    "    k_value = f\"K{k_match.group(1)}\" if k_match else \"\"\n",
    "    return f\"{name_clean}_{k_value}.pkl\"\n",
    "\n",
    "def evaluate_and_predict_best_model(results_df, X_test, y_test, save_dir=\"saved_models_bayes\"):\n",
    "    df = results_df.copy()\n",
    "\n",
    "    # Normalize metrics for combined score\n",
    "    df[\"Inv_MSE\"] = -df[\"MSE\"]\n",
    "    df[\"Inv_MAE\"] = -df[\"MAE\"]\n",
    "    scaler = MinMaxScaler()\n",
    "    df[[\"Norm_R2\", \"Norm_MSE\", \"Norm_MAE\"]] = scaler.fit_transform(df[[\"R2\", \"Inv_MSE\", \"Inv_MAE\"]])\n",
    "    df[\"Combined_Score\"] = df[\"Norm_R2\"] + df[\"Norm_MSE\"] + df[\"Norm_MAE\"]\n",
    "\n",
    "    # Pick best model\n",
    "    best_model_info = df.sort_values(\"Combined_Score\", ascending=False).iloc[0]\n",
    "    model_name = best_model_info[\"Model\"]\n",
    "    model_file = parse_model_filename(model_name)\n",
    "    model_path = os.path.join(save_dir, model_file)\n",
    "\n",
    "    print(\"🏆 Best Model Info:\")\n",
    "    print(best_model_info[[\"Model\", \"R2\", \"MSE\", \"MAE\", \"Combined_Score\"]])\n",
    "    print(f\"\\n📦 Loading model from: {model_path}\")\n",
    "\n",
    "    # Load and predict\n",
    "    best_model = joblib.load(model_path)\n",
    "    y_pred = best_model.predict(X_test)\n",
    "\n",
    "    # Evaluate\n",
    "    r2 = r2_score(y_test, y_pred)\n",
    "    mae = mean_absolute_error(y_test, y_pred)\n",
    "    mse = mean_squared_error(y_test, y_pred)\n",
    "\n",
    "    print(\"\\n📊 Evaluation on Test Set:\")\n",
    "    print(f\"R² Score: {r2:.4f}\")\n",
    "    print(f\"MAE: {mae:.4f}\")\n",
    "    print(f\"MSE: {mse:.4f}\")\n",
    "\n",
    "    # Compare predictions\n",
    "    df_compare = pd.DataFrame({\"Actual\": y_test[:10], \"Predicted\": y_pred[:10]})\n",
    "    print(\"\\n🔍 Actual vs Predicted (First 10 Samples):\")\n",
    "    print(df_compare)\n",
    "\n",
    "    return best_model_info, y_pred\n"
   ]
  },
  {
   "cell_type": "code",
   "execution_count": 22,
   "id": "351c0e60",
   "metadata": {},
   "outputs": [
    {
     "name": "stdout",
     "output_type": "stream",
     "text": [
      "🏆 Best Model Info:\n",
      "Model             Decision Tree (K=3)\n",
      "R2                           0.856755\n",
      "MSE                          0.230651\n",
      "MAE                          0.311042\n",
      "Combined_Score                    3.0\n",
      "Name: 0, dtype: object\n",
      "\n",
      "📦 Loading model from: saved_models_bayes\\Decision_Tree_K3.pkl\n",
      "\n",
      "📊 Evaluation on Test Set:\n",
      "R² Score: -0.9792\n",
      "MAE: 1.2771\n",
      "MSE: 2.7268\n",
      "\n",
      "🔍 Actual vs Predicted (First 10 Samples):\n",
      "     Actual  Predicted\n",
      "73     4.67   4.808462\n",
      "18     5.00   3.330000\n",
      "117    2.33   3.882000\n",
      "78     3.33   3.000000\n",
      "76     5.00   3.330000\n",
      "31     6.00   5.670000\n",
      "64     4.33   3.123750\n",
      "140    3.33   4.808462\n",
      "68     5.33   5.670000\n",
      "82     6.83   3.330000\n"
     ]
    }
   ],
   "source": [
    "best_model_info, y_pred = evaluate_and_predict_best_model(results_df, X_test, y_test)\n"
   ]
  },
  {
   "cell_type": "markdown",
   "id": "5171f0f4",
   "metadata": {},
   "source": [
    "## Visualizations"
   ]
  },
  {
   "cell_type": "markdown",
   "id": "8e6ae4df",
   "metadata": {},
   "source": [
    "### Model Comparison (Bar Plot of R², MAE, MSE)"
   ]
  },
  {
   "cell_type": "code",
   "execution_count": 23,
   "id": "87a3168b",
   "metadata": {},
   "outputs": [],
   "source": [
    "import matplotlib.pyplot as plt\n",
    "import seaborn as sns\n",
    "\n",
    "def plot_model_performance(results_df):\n",
    "    metrics = ['R2', 'MAE', 'MSE']\n",
    "    titles = {'R2': 'R² Score', 'MAE': 'Mean Absolute Error', 'MSE': 'Mean Squared Error'}\n",
    "\n",
    "    plt.figure(figsize=(18, 6))  # Wider figure for 3 subplots\n",
    "\n",
    "    for i, metric in enumerate(metrics, 1):\n",
    "        plt.subplot(1, 3, i)\n",
    "        sns.barplot(data=results_df, x='Model', y=metric, palette='viridis')\n",
    "        plt.title(titles[metric])\n",
    "        plt.xticks(rotation=45)\n",
    "        plt.grid(True)\n",
    "        plt.tight_layout()\n",
    "\n",
    "    plt.suptitle(\"Model Performance Comparison\", fontsize=16, y=1.05)\n",
    "    plt.show()\n"
   ]
  },
  {
   "cell_type": "code",
   "execution_count": 24,
   "id": "27916fb7",
   "metadata": {},
   "outputs": [
    {
     "data": {
      "image/png": "[encoded data removed]",
      "text/plain": [
       "<Figure size 1800x600 with 3 Axes>"
      ]
     },
     "metadata": {},
     "output_type": "display_data"
    }
   ],
   "source": [
    "# 1. Bar charts for R2, MAE, MSE\n",
    "plot_model_performance(results_df)"
   ]
  },
  {
   "cell_type": "markdown",
   "id": "e8c92e6b",
   "metadata": {},
   "source": [
    "### Actual vs Predicted (Scatter Plot)"
   ]
  },
  {
   "cell_type": "code",
   "execution_count": 25,
   "id": "cb28083f",
   "metadata": {},
   "outputs": [],
   "source": [
    "def plot_actual_vs_predicted(y_true, y_pred, model_name=\"Model\"):\n",
    "    plt.figure(figsize=(6, 6))\n",
    "    plt.scatter(y_true, y_pred, alpha=0.6, edgecolors='k')\n",
    "    plt.plot([min(y_true), max(y_true)], [min(y_true), max(y_true)], 'r--')\n",
    "    plt.xlabel(\"Actual Values\")\n",
    "    plt.ylabel(\"Predicted Values\")\n",
    "    plt.title(f\"Actual vs Predicted: {model_name}\")\n",
    "    plt.grid(True)\n",
    "    plt.tight_layout()\n",
    "    plt.show()\n"
   ]
  },
  {
   "cell_type": "code",
   "execution_count": 26,
   "id": "63294f2a",
   "metadata": {},
   "outputs": [
    {
     "data": {
      "image/png": "[encoded data removed]",
      "text/plain": [
       "<Figure size 600x600 with 1 Axes>"
      ]
     },
     "metadata": {},
     "output_type": "display_data"
    }
   ],
   "source": [
    "# Plot actual vs predicted\n",
    "plot_actual_vs_predicted(y_test, y_pred, model_name=best_model[\"Model\"])\n"
   ]
  },
  {
   "cell_type": "markdown",
   "id": "85c0c80e",
   "metadata": {},
   "source": [
    "### Training Time vs Performance (Bubble Plot)"
   ]
  },
  {
   "cell_type": "code",
   "execution_count": 27,
   "id": "b10e188b",
   "metadata": {},
   "outputs": [],
   "source": [
    "def plot_time_vs_r2(results_df):\n",
    "    plt.figure(figsize=(8, 6))\n",
    "    sns.scatterplot(\n",
    "        data=results_df,\n",
    "        x='Training Time (s)',\n",
    "        y='R2',\n",
    "        size='R2',\n",
    "        hue='Model',\n",
    "        sizes=(50, 300),\n",
    "        palette='coolwarm',\n",
    "        legend=False\n",
    "    )\n",
    "    plt.title(\"Training Time vs R² Score\")\n",
    "    plt.xlabel(\"Training Time (seconds)\")\n",
    "    plt.ylabel(\"R² Score\")\n",
    "    plt.grid(True)\n",
    "    plt.tight_layout()\n",
    "    plt.show()\n"
   ]
  },
  {
   "cell_type": "code",
   "execution_count": 28,
   "id": "884c43de",
   "metadata": {},
   "outputs": [
    {
     "data": {
      "image/png": "[encoded data removed]",
      "text/plain": [
       "<Figure size 800x600 with 1 Axes>"
      ]
     },
     "metadata": {},
     "output_type": "display_data"
    }
   ],
   "source": [
    "plot_time_vs_r2(results_df)"
   ]
  },
  {
   "cell_type": "markdown",
   "id": "20aa6598",
   "metadata": {},
   "source": [
    "### Error Distribution Histogram"
   ]
  },
  {
   "cell_type": "code",
   "execution_count": 29,
   "id": "77c6e605",
   "metadata": {},
   "outputs": [],
   "source": [
    "def plot_error_distribution(y_true, y_pred, model_name=\"Model\"):\n",
    "    errors = y_true - y_pred\n",
    "    plt.figure(figsize=(8, 5))\n",
    "    sns.histplot(errors, bins=30, kde=True, color='purple')\n",
    "    plt.title(f\"Prediction Error Distribution: {model_name}\")\n",
    "    plt.xlabel(\"Error\")\n",
    "    plt.ylabel(\"Frequency\")\n",
    "    plt.grid(True)\n",
    "    plt.tight_layout()\n",
    "    plt.show()\n"
   ]
  },
  {
   "cell_type": "code",
   "execution_count": 30,
   "id": "dc889842",
   "metadata": {},
   "outputs": [
    {
     "data": {
      "image/png": "[encoded data removed]",
      "text/plain": [
       "<Figure size 800x500 with 1 Axes>"
      ]
     },
     "metadata": {},
     "output_type": "display_data"
    }
   ],
   "source": [
    "# Assuming you already have y_test and y_pred from the best model\n",
    "plot_error_distribution(y_test, y_pred, model_name=best_model[\"Model\"])\n"
   ]
  }
 ],
 "metadata": {
  "kernelspec": {
   "display_name": "Python 3",
   "language": "python",
   "name": "python3"
  },
  "language_info": {
   "codemirror_mode": {
    "name": "ipython",
    "version": 3
   },
   "file_extension": ".py",
   "mimetype": "text/x-python",
   "name": "python",
   "nbconvert_exporter": "python",
   "pygments_lexer": "ipython3",
   "version": "3.10.11"
  }
 },
 "nbformat": 4,
 "nbformat_minor": 5
}
