{
 "cells": [
  {
   "cell_type": "code",
   "execution_count": 1,
   "id": "8e820141",
   "metadata": {},
   "outputs": [
    {
     "name": "stderr",
     "output_type": "stream",
     "text": [
      "c:\\Users\\aadi2\\AppData\\Local\\Programs\\Python\\Python310\\lib\\site-packages\\tqdm\\auto.py:21: TqdmWarning: IProgress not found. Please update jupyter and ipywidgets. See https://ipywidgets.readthedocs.io/en/stable/user_install.html\n",
      "  from .autonotebook import tqdm as notebook_tqdm\n"
     ]
    }
   ],
   "source": [
    "import os\n",
    "import joblib\n",
    "import optuna\n",
    "import pandas as pd\n",
    "import matplotlib.pyplot as plt\n",
    "import seaborn as sns\n",
    "import numpy as np\n",
    "from tqdm import tqdm\n",
    "from sklearn.pipeline import Pipeline\n",
    "from sklearn.tree import DecisionTreeRegressor\n",
    "import xgboost as xgb\n",
    "from sklearn.ensemble import RandomForestRegressor, GradientBoostingRegressor\n",
    "from sklearn.linear_model import LinearRegression, Lasso\n",
    "from sklearn.preprocessing import StandardScaler\n",
    "import optuna.visualization as vis\n",
    "from sklearn.model_selection import KFold, cross_val_score\n",
    "from sklearn.metrics import mean_absolute_error, r2_score, mean_squared_error\n",
    "from sklearn.model_selection import train_test_split, KFold\n"
   ]
  },
  {
   "cell_type": "code",
   "execution_count": 2,
   "id": "efb37aaf",
   "metadata": {},
   "outputs": [],
   "source": [
    "Path_Data = '3_merged_data3.txt'\n",
    "df = pd.read_csv(f\"{Path_Data}\", sep='\\t')\n"
   ]
  },
  {
   "cell_type": "code",
   "execution_count": 3,
   "id": "e489385c",
   "metadata": {},
   "outputs": [
    {
     "name": "stdout",
     "output_type": "stream",
     "text": [
      "X_train shape: (119, 33048)\n",
      "X_test shape: (30, 33048)\n"
     ]
    }
   ],
   "source": [
    "# Separate features and target\n",
    "X = df.drop(columns=['ID', 'avg7_calingiri'])\n",
    "y = df['avg7_calingiri']\n",
    "\n",
    "X_train, X_test, y_train, y_test = train_test_split(\n",
    "    X, y, test_size=0.2,  random_state=42\n",
    ")\n",
    "\n",
    "print(f\"X_train shape: {X_train.shape}\")  # 80%\n",
    "print(f\"X_test shape: {X_test.shape}\")    # 20%\n"
   ]
  },
  {
   "cell_type": "code",
   "execution_count": 4,
   "id": "6f82693b",
   "metadata": {},
   "outputs": [],
   "source": [
    "def objective(trial, estimator_class, param_space, X, y, cv):\n",
    "    # Suggest parameters for current trial based on param_space dict\n",
    "    params = {}\n",
    "    for param_name, param_range in param_space.items():\n",
    "        if isinstance(param_range, tuple):  # Let's define range as tuples (low, high)\n",
    "            low, high = param_range\n",
    "            if isinstance(low, int) and isinstance(high, int):\n",
    "                params[param_name] = trial.suggest_int(param_name, low, high)\n",
    "            else:\n",
    "                params[param_name] = trial.suggest_float(param_name, low, high, log=True)\n",
    "        elif isinstance(param_range, list):\n",
    "            params[param_name] = trial.suggest_categorical(param_name, param_range)\n",
    "        else:\n",
    "            raise ValueError(f\"Unknown param range type for {param_name}\")\n",
    "    \n",
    "    model = estimator_class(**params)\n",
    "    pipe = Pipeline([\n",
    "        (\"scaler\", StandardScaler()),\n",
    "        (\"model\", model)\n",
    "    ])\n",
    "\n",
    "    # Use neg MSE as scoring so we maximize\n",
    "    scores = cross_val_score(pipe, X, y, cv=cv, scoring='neg_mean_squared_error', n_jobs=-1)\n",
    "    # Return mean score for Optuna to maximize\n",
    "    return scores.mean()\n",
    "\n",
    "import time\n",
    "\n",
    "def train_with_optuna(model_name, estimator_class, param_space, X_train, y_train, k=3, n_trials=50):\n",
    "    kf = KFold(n_splits=k, shuffle=True, random_state=42)\n",
    "\n",
    "    start_time = time.time()\n",
    "    \n",
    "    study = optuna.create_study(direction='maximize')\n",
    "    func = lambda trial: objective(trial, estimator_class, param_space, X_train, y_train, kf)\n",
    "    study.optimize(func, n_trials=n_trials, n_jobs=1, show_progress_bar=False)\n",
    "    \n",
    "    best_params = study.best_params\n",
    "    best_model = estimator_class(**best_params)\n",
    "    pipe = Pipeline([\n",
    "        (\"scaler\", StandardScaler()),\n",
    "        (\"model\", best_model)\n",
    "    ])\n",
    "    pipe.fit(X_train, y_train)\n",
    "    \n",
    "    elapsed_time = time.time() - start_time\n",
    "\n",
    "    # Save model\n",
    "    safe_model_name = f\"{model_name.replace(' ', '_')}_K{k}_optuna\"\n",
    "    os.makedirs(\"saved_models_optuna\", exist_ok=True)\n",
    "    joblib.dump(pipe, f\"saved_models_optuna/{safe_model_name}.pkl\")\n",
    "    \n",
    "    # Predict & metrics on training set\n",
    "    y_train_pred = pipe.predict(X_train)\n",
    "    mse = mean_squared_error(y_train, y_train_pred)\n",
    "    mae = mean_absolute_error(y_train, y_train_pred)\n",
    "    r2 = r2_score(y_train, y_train_pred)\n",
    "    \n",
    "    return {\n",
    "        \"Model\": f\"{model_name} (K={k})\",\n",
    "        \"Best Params\": best_params,\n",
    "        \"MSE\": mse,\n",
    "        \"Study\": study, \n",
    "        \"MAE\": mae,\n",
    "        \"R2\": r2,\n",
    "                \"Training Time (s)\": elapsed_time,\n",
    "\n",
    "        \"Trials\": study.trials_dataframe()\n",
    "    }"
   ]
  },
  {
   "cell_type": "code",
   "execution_count": null,
   "id": "eb4eefe6",
   "metadata": {},
   "outputs": [],
   "source": [
    "search_spaces_optuna = {\n",
    "    \"Decision Tree\": {\n",
    "        \"estimator\": DecisionTreeRegressor,\n",
    "        \"params\": {\n",
    "            \"max_depth\": (2, 10),          # integer range\n",
    "            \"min_samples_split\": (2, 10)  # integer range\n",
    "        }\n",
    "    },\n",
    "    \"Random Forest\": {\n",
    "        \"estimator\": RandomForestRegressor,\n",
    "        \"params\": {\n",
    "            \"n_estimators\": (50, 150),    # integer range\n",
    "            \"max_depth\": (2, 10),\n",
    "            \"min_samples_split\": (2, 10)\n",
    "        }\n",
    "    },\n",
    "    \"Lasso Regression\": {\n",
    "        \"estimator\": Lasso,\n",
    "        \"params\": {\n",
    "            \"alpha\": (1e-4, 10.0)         # float range (log scale)\n",
    "        }\n",
    "    },\n",
    "    \"Gradient Boosting\": {\n",
    "        \"estimator\": GradientBoostingRegressor,\n",
    "        \"params\": {\n",
    "            \"n_estimators\": (50, 200),\n",
    "            \"max_depth\": (2, 8),\n",
    "            \"learning_rate\": (0.01, 0.3),   # float range\n",
    "            \"subsample\": (0.5, 1.0)         # float range\n",
    "        }\n",
    "    },\n",
    "    \"Linear Regression\": {\n",
    "        \"estimator\": LinearRegression,\n",
    "        \"params\": {\n",
    "        }\n",
    "    },\n",
    "    \"XGBoost\": {\n",
    "        \"estimator\": xgb.XGBRegressor,\n",
    "        \"params\": {\n",
    "            \"n_estimators\": (50, 200),\n",
    "            \"max_depth\": (2, 10),\n",
    "            \"learning_rate\": (0.01, 0.3),\n",
    "            \"subsample\": (0.5, 1.0),\n",
    "            \"colsample_bytree\": (0.5, 1.0)\n",
    "        }\n",
    "    }\n",
    "}"
   ]
  },
  {
   "cell_type": "code",
   "execution_count": 9,
   "id": "2e24015b",
   "metadata": {},
   "outputs": [
    {
     "name": "stderr",
     "output_type": "stream",
     "text": [
      "Model Families:   0%|          | 0/2 [00:00<?, ?it/s][I 2025-05-31 10:21:19,146] A new study created in memory with name: no-name-eee4dc30-0a70-4aec-8ff2-413539710fc8\n",
      "[I 2025-05-31 10:21:21,123] Trial 0 finished with value: -2.3406603804704003 and parameters: {'alpha': 0.003246426596097123}. Best is trial 0 with value: -2.3406603804704003.\n",
      "[I 2025-05-31 10:21:22,067] Trial 1 finished with value: -2.0895850786045305 and parameters: {'alpha': 0.05454232982862997}. Best is trial 1 with value: -2.0895850786045305.\n",
      "[I 2025-05-31 10:21:24,054] Trial 2 finished with value: -2.316933753442859 and parameters: {'alpha': 0.008267994638444184}. Best is trial 1 with value: -2.0895850786045305.\n",
      "[I 2025-05-31 10:21:25,184] Trial 3 finished with value: -2.0335313716428947 and parameters: {'alpha': 0.07207349911030816}. Best is trial 3 with value: -2.0335313716428947.\n",
      "[I 2025-05-31 10:21:27,100] Trial 4 finished with value: -2.3938883388709975 and parameters: {'alpha': 0.000229893830504038}. Best is trial 3 with value: -2.0335313716428947.\n",
      "[I 2025-05-31 10:21:28,260] Trial 5 finished with value: -2.181662405580609 and parameters: {'alpha': 0.04129534917509442}. Best is trial 3 with value: -2.0335313716428947.\n",
      "[I 2025-05-31 10:21:28,874] Trial 6 finished with value: -1.5939659066180376 and parameters: {'alpha': 0.3756287924060061}. Best is trial 6 with value: -1.5939659066180376.\n",
      "[I 2025-05-31 10:21:30,404] Trial 7 finished with value: -2.286258914619083 and parameters: {'alpha': 0.01954400768883654}. Best is trial 6 with value: -1.5939659066180376.\n",
      "[I 2025-05-31 10:21:30,982] Trial 8 finished with value: -1.6125775026649487 and parameters: {'alpha': 1.0040305801934168}. Best is trial 6 with value: -1.5939659066180376.\n",
      "[I 2025-05-31 10:21:31,656] Trial 9 finished with value: -1.6125775026649487 and parameters: {'alpha': 0.8606533901703}. Best is trial 6 with value: -1.5939659066180376.\n",
      "[I 2025-05-31 10:21:32,221] Trial 10 finished with value: -1.6125775026649487 and parameters: {'alpha': 8.709692903775839}. Best is trial 6 with value: -1.5939659066180376.\n",
      "[I 2025-05-31 10:21:32,800] Trial 11 finished with value: -1.6125775026649487 and parameters: {'alpha': 1.10797706700239}. Best is trial 6 with value: -1.5939659066180376.\n",
      "[I 2025-05-31 10:21:33,380] Trial 12 finished with value: -1.6125775026649487 and parameters: {'alpha': 0.7017187513780635}. Best is trial 6 with value: -1.5939659066180376.\n",
      "[I 2025-05-31 10:21:33,961] Trial 13 finished with value: -1.6125775026649487 and parameters: {'alpha': 9.786112336764797}. Best is trial 6 with value: -1.5939659066180376.\n",
      "[I 2025-05-31 10:21:34,580] Trial 14 finished with value: -1.627214324087367 and parameters: {'alpha': 0.311610746845845}. Best is trial 6 with value: -1.5939659066180376.\n",
      "[I 2025-05-31 10:21:35,136] Trial 15 finished with value: -1.6125775026649487 and parameters: {'alpha': 2.332522899623346}. Best is trial 6 with value: -1.5939659066180376.\n",
      "[I 2025-05-31 10:21:35,798] Trial 16 finished with value: -1.7381360006370732 and parameters: {'alpha': 0.1886816526628077}. Best is trial 6 with value: -1.5939659066180376.\n",
      "[I 2025-05-31 10:21:37,685] Trial 17 finished with value: -2.514730433011776 and parameters: {'alpha': 0.0013077298108242637}. Best is trial 6 with value: -1.5939659066180376.\n",
      "[I 2025-05-31 10:21:38,354] Trial 18 finished with value: -1.7414943992052745 and parameters: {'alpha': 0.18659956195858102}. Best is trial 6 with value: -1.5939659066180376.\n",
      "[I 2025-05-31 10:21:38,917] Trial 19 finished with value: -1.6125775026649487 and parameters: {'alpha': 2.3334238573619923}. Best is trial 6 with value: -1.5939659066180376.\n",
      "[I 2025-05-31 10:21:39,653] Trial 20 finished with value: -1.6299320017423804 and parameters: {'alpha': 0.29687034124025397}. Best is trial 6 with value: -1.5939659066180376.\n",
      "[I 2025-05-31 10:21:40,216] Trial 21 finished with value: -1.6125775026649487 and parameters: {'alpha': 2.1600021968750642}. Best is trial 6 with value: -1.5939659066180376.\n",
      "[I 2025-05-31 10:21:40,901] Trial 22 finished with value: -1.6125775026649487 and parameters: {'alpha': 0.7520361510269553}. Best is trial 6 with value: -1.5939659066180376.\n",
      "[I 2025-05-31 10:21:41,523] Trial 23 finished with value: -1.6125775026649487 and parameters: {'alpha': 3.7417561973527222}. Best is trial 6 with value: -1.5939659066180376.\n",
      "[I 2025-05-31 10:21:42,246] Trial 24 finished with value: -1.9481421934789747 and parameters: {'alpha': 0.10449398228308182}. Best is trial 6 with value: -1.5939659066180376.\n",
      "[I 2025-05-31 10:21:42,813] Trial 25 finished with value: -1.6125775026649487 and parameters: {'alpha': 0.5484777555909787}. Best is trial 6 with value: -1.5939659066180376.\n",
      "[I 2025-05-31 10:21:44,430] Trial 26 finished with value: -2.2866026266352333 and parameters: {'alpha': 0.01891177138581842}. Best is trial 6 with value: -1.5939659066180376.\n",
      "[I 2025-05-31 10:21:44,999] Trial 27 finished with value: -1.6125775026649487 and parameters: {'alpha': 1.2119564152604172}. Best is trial 6 with value: -1.5939659066180376.\n",
      "[I 2025-05-31 10:21:45,559] Trial 28 finished with value: -1.6125775026649487 and parameters: {'alpha': 4.5338037939652605}. Best is trial 6 with value: -1.5939659066180376.\n",
      "[I 2025-05-31 10:21:46,171] Trial 29 finished with value: -1.5881787971746641 and parameters: {'alpha': 0.3948693226236837}. Best is trial 29 with value: -1.5881787971746641.\n",
      "[I 2025-05-31 10:21:48,236] Trial 30 finished with value: -2.3307426949357333 and parameters: {'alpha': 0.0034039624757569143}. Best is trial 29 with value: -1.5881787971746641.\n",
      "[I 2025-05-31 10:21:48,830] Trial 31 finished with value: -1.5873728574496078 and parameters: {'alpha': 0.3977418773179583}. Best is trial 31 with value: -1.5873728574496078.\n",
      "[I 2025-05-31 10:21:49,623] Trial 32 finished with value: -1.8470596869708593 and parameters: {'alpha': 0.1495524566132301}. Best is trial 31 with value: -1.5873728574496078.\n",
      "[I 2025-05-31 10:21:50,220] Trial 33 finished with value: -1.5877358623997548 and parameters: {'alpha': 0.39654604794707626}. Best is trial 31 with value: -1.5873728574496078.\n",
      "[I 2025-05-31 10:21:50,801] Trial 34 finished with value: -1.5872655021291564 and parameters: {'alpha': 0.420562515403877}. Best is trial 34 with value: -1.5872655021291564.\n",
      "[I 2025-05-31 10:21:51,776] Trial 35 finished with value: -1.9947167342487457 and parameters: {'alpha': 0.08400190491848486}. Best is trial 34 with value: -1.5872655021291564.\n",
      "[I 2025-05-31 10:21:53,190] Trial 36 finished with value: -2.2812739793925267 and parameters: {'alpha': 0.022552187233029593}. Best is trial 34 with value: -1.5872655021291564.\n",
      "[I 2025-05-31 10:21:54,133] Trial 37 finished with value: -2.088061990884383 and parameters: {'alpha': 0.054815381987363965}. Best is trial 34 with value: -1.5872655021291564.\n",
      "[I 2025-05-31 10:21:56,131] Trial 38 finished with value: -2.401684209289797 and parameters: {'alpha': 0.0001085297679477891}. Best is trial 34 with value: -1.5872655021291564.\n",
      "[I 2025-05-31 10:21:57,912] Trial 39 finished with value: -2.3171094602755096 and parameters: {'alpha': 0.007906927212606855}. Best is trial 34 with value: -1.5872655021291564.\n",
      "[I 2025-05-31 10:21:58,551] Trial 40 finished with value: -1.694314557939815 and parameters: {'alpha': 0.2228391993370713}. Best is trial 34 with value: -1.5872655021291564.\n",
      "[I 2025-05-31 10:21:59,126] Trial 41 finished with value: -1.5862559452073528 and parameters: {'alpha': 0.40936154462310437}. Best is trial 41 with value: -1.5862559452073528.\n",
      "[I 2025-05-31 10:21:59,691] Trial 42 finished with value: -1.5914334091191413 and parameters: {'alpha': 0.44275040456723413}. Best is trial 41 with value: -1.5862559452073528.\n",
      "[I 2025-05-31 10:22:00,284] Trial 43 finished with value: -1.5918308655752043 and parameters: {'alpha': 0.4445362246407611}. Best is trial 41 with value: -1.5862559452073528.\n",
      "[I 2025-05-31 10:22:01,019] Trial 44 finished with value: -1.8978098457227504 and parameters: {'alpha': 0.12421234033425649}. Best is trial 41 with value: -1.5862559452073528.\n",
      "[I 2025-05-31 10:22:01,611] Trial 45 finished with value: -1.6125775026649487 and parameters: {'alpha': 1.441662672411715}. Best is trial 41 with value: -1.5862559452073528.\n",
      "[I 2025-05-31 10:22:02,723] Trial 46 finished with value: -2.20692816099899 and parameters: {'alpha': 0.03915104967352528}. Best is trial 41 with value: -1.5862559452073528.\n",
      "[I 2025-05-31 10:22:03,270] Trial 47 finished with value: -1.6125775026649487 and parameters: {'alpha': 0.5842537039011344}. Best is trial 41 with value: -1.5862559452073528.\n",
      "[I 2025-05-31 10:22:03,823] Trial 48 finished with value: -1.6125775026649487 and parameters: {'alpha': 5.002263449993269}. Best is trial 41 with value: -1.5862559452073528.\n",
      "[I 2025-05-31 10:22:04,436] Trial 49 finished with value: -1.6270528891687288 and parameters: {'alpha': 0.31264339780610706}. Best is trial 41 with value: -1.5862559452073528.\n",
      "[I 2025-05-31 10:22:04,873] A new study created in memory with name: no-name-a5de0115-33a3-45a5-85c9-64cedf5a318b\n",
      "[I 2025-05-31 10:22:05,562] Trial 0 finished with value: -1.6188012682258281 and parameters: {'alpha': 0.3181470217948021}. Best is trial 0 with value: -1.6188012682258281.\n",
      "[I 2025-05-31 10:22:06,768] Trial 1 finished with value: -1.9748725294928235 and parameters: {'alpha': 0.059909579715716824}. Best is trial 0 with value: -1.6188012682258281.\n",
      "[I 2025-05-31 10:22:07,616] Trial 2 finished with value: -1.8354576668692295 and parameters: {'alpha': 0.13503689808295832}. Best is trial 0 with value: -1.6188012682258281.\n",
      "[I 2025-05-31 10:22:10,637] Trial 3 finished with value: -2.326285195765389 and parameters: {'alpha': 0.0026437041685816345}. Best is trial 0 with value: -1.6188012682258281.\n",
      "[I 2025-05-31 10:22:11,875] Trial 4 finished with value: -1.9893262619786487 and parameters: {'alpha': 0.05146364974185018}. Best is trial 0 with value: -1.6188012682258281.\n",
      "[I 2025-05-31 10:22:14,887] Trial 5 finished with value: -2.4546147956225806 and parameters: {'alpha': 0.0009539186577130781}. Best is trial 0 with value: -1.6188012682258281.\n",
      "[I 2025-05-31 10:22:16,505] Trial 6 finished with value: -2.0956965107236494 and parameters: {'alpha': 0.025304324476001467}. Best is trial 0 with value: -1.6188012682258281.\n",
      "[I 2025-05-31 10:22:17,984] Trial 7 finished with value: -2.017996626032141 and parameters: {'alpha': 0.03788854940771018}. Best is trial 0 with value: -1.6188012682258281.\n",
      "[I 2025-05-31 10:22:20,979] Trial 8 finished with value: -2.4410991754685716 and parameters: {'alpha': 0.0010313035467271578}. Best is trial 0 with value: -1.6188012682258281.\n",
      "[I 2025-05-31 10:22:24,001] Trial 9 finished with value: -2.834192124846543 and parameters: {'alpha': 0.00029124169117933797}. Best is trial 0 with value: -1.6188012682258281.\n",
      "[I 2025-05-31 10:22:24,631] Trial 10 finished with value: -1.6307638881392328 and parameters: {'alpha': 8.722708504940492}. Best is trial 0 with value: -1.6188012682258281.\n",
      "[I 2025-05-31 10:22:25,364] Trial 11 finished with value: -1.6307638881392328 and parameters: {'alpha': 8.49237502178681}. Best is trial 0 with value: -1.6188012682258281.\n",
      "[I 2025-05-31 10:22:25,992] Trial 12 finished with value: -1.6307638881392328 and parameters: {'alpha': 9.856561037759581}. Best is trial 0 with value: -1.6188012682258281.\n",
      "[I 2025-05-31 10:22:26,624] Trial 13 finished with value: -1.6307638881392328 and parameters: {'alpha': 1.3076189627486707}. Best is trial 0 with value: -1.6188012682258281.\n",
      "[I 2025-05-31 10:22:27,364] Trial 14 finished with value: -1.6307638881392328 and parameters: {'alpha': 0.8278789956425229}. Best is trial 0 with value: -1.6188012682258281.\n",
      "[I 2025-05-31 10:22:27,995] Trial 15 finished with value: -1.6307638881392328 and parameters: {'alpha': 1.0275773370046053}. Best is trial 0 with value: -1.6188012682258281.\n",
      "[I 2025-05-31 10:22:28,701] Trial 16 finished with value: -1.6158442112826954 and parameters: {'alpha': 0.32345086129100636}. Best is trial 16 with value: -1.6158442112826954.\n",
      "[I 2025-05-31 10:22:29,424] Trial 17 finished with value: -1.62844923343916 and parameters: {'alpha': 0.29982360991134166}. Best is trial 16 with value: -1.6158442112826954.\n",
      "[I 2025-05-31 10:22:32,332] Trial 18 finished with value: -2.265428602147105 and parameters: {'alpha': 0.00609181736976828}. Best is trial 16 with value: -1.6158442112826954.\n",
      "[I 2025-05-31 10:22:33,105] Trial 19 finished with value: -1.683484414414019 and parameters: {'alpha': 0.2218165231118172}. Best is trial 16 with value: -1.6158442112826954.\n",
      "[I 2025-05-31 10:22:33,720] Trial 20 finished with value: -1.6307638881392328 and parameters: {'alpha': 2.3353303751714334}. Best is trial 16 with value: -1.6158442112826954.\n",
      "[I 2025-05-31 10:22:34,538] Trial 21 finished with value: -1.7115285527700794 and parameters: {'alpha': 0.20231448659265971}. Best is trial 16 with value: -1.6158442112826954.\n",
      "[I 2025-05-31 10:22:35,191] Trial 22 finished with value: -1.6155366246853329 and parameters: {'alpha': 0.41247369731882266}. Best is trial 22 with value: -1.6155366246853329.\n",
      "[I 2025-05-31 10:22:37,803] Trial 23 finished with value: -2.183403090149642 and parameters: {'alpha': 0.015587265123966455}. Best is trial 22 with value: -1.6155366246853329.\n",
      "[I 2025-05-31 10:22:38,445] Trial 24 finished with value: -1.6241848038829485 and parameters: {'alpha': 0.4670918883435125}. Best is trial 22 with value: -1.6155366246853329.\n",
      "[I 2025-05-31 10:22:39,074] Trial 25 finished with value: -1.6307638881392328 and parameters: {'alpha': 3.5307616825112764}. Best is trial 22 with value: -1.6155366246853329.\n",
      "[I 2025-05-31 10:22:39,894] Trial 26 finished with value: -1.8765204251817793 and parameters: {'alpha': 0.11177629506964744}. Best is trial 22 with value: -1.6155366246853329.\n",
      "[I 2025-05-31 10:22:40,540] Trial 27 finished with value: -1.6307638881392328 and parameters: {'alpha': 0.6137015721373705}. Best is trial 22 with value: -1.6155366246853329.\n",
      "[I 2025-05-31 10:22:41,168] Trial 28 finished with value: -1.6307638881392328 and parameters: {'alpha': 2.3997927310124822}. Best is trial 22 with value: -1.6155366246853329.\n",
      "[I 2025-05-31 10:22:42,111] Trial 29 finished with value: -1.9235637064628635 and parameters: {'alpha': 0.07711230603317384}. Best is trial 22 with value: -1.6155366246853329.\n",
      "[I 2025-05-31 10:22:44,521] Trial 30 finished with value: -2.1804808485241916 and parameters: {'alpha': 0.015811712851953347}. Best is trial 22 with value: -1.6155366246853329.\n",
      "[I 2025-05-31 10:22:45,129] Trial 31 finished with value: -1.6307638881392328 and parameters: {'alpha': 0.6107420663116702}. Best is trial 22 with value: -1.6155366246853329.\n",
      "[I 2025-05-31 10:22:45,898] Trial 32 finished with value: -1.6099418019377247 and parameters: {'alpha': 0.39007789623056843}. Best is trial 32 with value: -1.6099418019377247.\n",
      "[I 2025-05-31 10:22:46,682] Trial 33 finished with value: -1.839364897005359 and parameters: {'alpha': 0.1331469328541631}. Best is trial 32 with value: -1.6099418019377247.\n",
      "[I 2025-05-31 10:22:47,394] Trial 34 finished with value: -1.6231529335855215 and parameters: {'alpha': 0.30983450345283764}. Best is trial 32 with value: -1.6099418019377247.\n",
      "[I 2025-05-31 10:22:48,020] Trial 35 finished with value: -1.6307638881392328 and parameters: {'alpha': 1.4887343528597918}. Best is trial 32 with value: -1.6099418019377247.\n",
      "[I 2025-05-31 10:22:48,904] Trial 36 finished with value: -1.8962782440791845 and parameters: {'alpha': 0.09122099097568745}. Best is trial 32 with value: -1.6099418019377247.\n",
      "[I 2025-05-31 10:22:50,193] Trial 37 finished with value: -1.9995378398311214 and parameters: {'alpha': 0.04492186107213791}. Best is trial 32 with value: -1.6099418019377247.\n",
      "[I 2025-05-31 10:22:51,025] Trial 38 finished with value: -1.722813556584325 and parameters: {'alpha': 0.19607552986287854}. Best is trial 32 with value: -1.6099418019377247.\n",
      "[I 2025-05-31 10:22:51,653] Trial 39 finished with value: -1.6307638881392328 and parameters: {'alpha': 4.1790795142361015}. Best is trial 32 with value: -1.6099418019377247.\n",
      "[I 2025-05-31 10:22:52,311] Trial 40 finished with value: -1.6214071242601968 and parameters: {'alpha': 0.43794894783402005}. Best is trial 32 with value: -1.6099418019377247.\n",
      "[I 2025-05-31 10:22:52,998] Trial 41 finished with value: -1.6071762138363432 and parameters: {'alpha': 0.37033914018148417}. Best is trial 41 with value: -1.6071762138363432.\n",
      "[I 2025-05-31 10:22:56,050] Trial 42 finished with value: -2.7474958797703803 and parameters: {'alpha': 0.00010337648408503766}. Best is trial 41 with value: -1.6071762138363432.\n",
      "[I 2025-05-31 10:22:56,738] Trial 43 finished with value: -1.6125706780137672 and parameters: {'alpha': 0.32872687927080246}. Best is trial 41 with value: -1.6071762138363432.\n",
      "[I 2025-05-31 10:22:58,343] Trial 44 finished with value: -2.0899626501234914 and parameters: {'alpha': 0.025849955726581702}. Best is trial 41 with value: -1.6071762138363432.\n",
      "[I 2025-05-31 10:22:59,156] Trial 45 finished with value: -1.7634076103503193 and parameters: {'alpha': 0.17109558104304848}. Best is trial 41 with value: -1.6071762138363432.\n",
      "[I 2025-05-31 10:23:00,277] Trial 46 finished with value: -1.962914366619879 and parameters: {'alpha': 0.06456084476569524}. Best is trial 41 with value: -1.6071762138363432.\n",
      "[I 2025-05-31 10:23:00,891] Trial 47 finished with value: -1.6307638881392328 and parameters: {'alpha': 0.8299904901165772}. Best is trial 41 with value: -1.6071762138363432.\n",
      "[I 2025-05-31 10:23:01,564] Trial 48 finished with value: -1.6075098234826855 and parameters: {'alpha': 0.3731256646948253}. Best is trial 41 with value: -1.6071762138363432.\n",
      "[I 2025-05-31 10:23:02,192] Trial 49 finished with value: -1.6307638881392328 and parameters: {'alpha': 1.4141657721505645}. Best is trial 41 with value: -1.6071762138363432.\n",
      "[I 2025-05-31 10:23:02,641] A new study created in memory with name: no-name-bd6c9ba4-57a3-4a09-a9fa-f4a6296b5139\n",
      "[I 2025-05-31 10:23:06,904] Trial 0 finished with value: -2.17458104186506 and parameters: {'alpha': 0.0015253628754028786}. Best is trial 0 with value: -2.17458104186506.\n",
      "[I 2025-05-31 10:23:11,193] Trial 1 finished with value: -2.299145140089706 and parameters: {'alpha': 0.0006322584685966961}. Best is trial 0 with value: -2.17458104186506.\n",
      "[I 2025-05-31 10:23:15,446] Trial 2 finished with value: -2.354473864444004 and parameters: {'alpha': 0.0005474323441620707}. Best is trial 0 with value: -2.17458104186506.\n",
      "[I 2025-05-31 10:23:16,899] Trial 3 finished with value: -1.9653619913448757 and parameters: {'alpha': 0.049542014919331016}. Best is trial 3 with value: -1.9653619913448757.\n",
      "[I 2025-05-31 10:23:17,619] Trial 4 finished with value: -1.6325547564123688 and parameters: {'alpha': 1.4680901536606525}. Best is trial 4 with value: -1.6325547564123688.\n",
      "[I 2025-05-31 10:23:18,340] Trial 5 finished with value: -1.6325547564123688 and parameters: {'alpha': 2.1574810838161276}. Best is trial 4 with value: -1.6325547564123688.\n",
      "[I 2025-05-31 10:23:19,037] Trial 6 finished with value: -1.6325547564123688 and parameters: {'alpha': 0.9982866976750683}. Best is trial 4 with value: -1.6325547564123688.\n",
      "[I 2025-05-31 10:23:19,737] Trial 7 finished with value: -1.6325547564123688 and parameters: {'alpha': 1.369252498677712}. Best is trial 4 with value: -1.6325547564123688.\n",
      "[I 2025-05-31 10:23:23,740] Trial 8 finished with value: -2.2318167117856693 and parameters: {'alpha': 0.008382829148119322}. Best is trial 4 with value: -1.6325547564123688.\n",
      "[I 2025-05-31 10:23:28,005] Trial 9 finished with value: -2.2718195496294857 and parameters: {'alpha': 0.0006916202026035737}. Best is trial 4 with value: -1.6325547564123688.\n",
      "[I 2025-05-31 10:23:29,007] Trial 10 finished with value: -1.600346458634695 and parameters: {'alpha': 0.1845975682396997}. Best is trial 10 with value: -1.600346458634695.\n",
      "[I 2025-05-31 10:23:30,048] Trial 11 finished with value: -1.7399236391886939 and parameters: {'alpha': 0.1088627219544595}. Best is trial 10 with value: -1.600346458634695.\n",
      "[I 2025-05-31 10:23:30,872] Trial 12 finished with value: -1.572799960725447 and parameters: {'alpha': 0.3177076574320315}. Best is trial 12 with value: -1.572799960725447.\n",
      "[I 2025-05-31 10:23:31,897] Trial 13 finished with value: -1.6757134071045687 and parameters: {'alpha': 0.13535143227709512}. Best is trial 12 with value: -1.572799960725447.\n",
      "[I 2025-05-31 10:23:32,685] Trial 14 finished with value: -1.5893024826586124 and parameters: {'alpha': 0.3660720975907412}. Best is trial 12 with value: -1.572799960725447.\n",
      "[I 2025-05-31 10:23:33,395] Trial 15 finished with value: -1.6325547564123688 and parameters: {'alpha': 6.438958726192925}. Best is trial 12 with value: -1.572799960725447.\n",
      "[I 2025-05-31 10:23:37,202] Trial 16 finished with value: -2.2305629129361604 and parameters: {'alpha': 0.010875216947328119}. Best is trial 12 with value: -1.572799960725447.\n",
      "[I 2025-05-31 10:23:37,975] Trial 17 finished with value: -1.595361097797952 and parameters: {'alpha': 0.37929034205216944}. Best is trial 12 with value: -1.572799960725447.\n",
      "[I 2025-05-31 10:23:42,431] Trial 18 finished with value: -2.5466694614379852 and parameters: {'alpha': 0.0001220876901202824}. Best is trial 12 with value: -1.572799960725447.\n",
      "[I 2025-05-31 10:23:43,173] Trial 19 finished with value: -1.6325547564123688 and parameters: {'alpha': 9.495167340113023}. Best is trial 12 with value: -1.572799960725447.\n",
      "[I 2025-05-31 10:23:46,097] Trial 20 finished with value: -2.160016817154639 and parameters: {'alpha': 0.019419728314013514}. Best is trial 12 with value: -1.572799960725447.\n",
      "[I 2025-05-31 10:23:46,810] Trial 21 finished with value: -1.620869244486826 and parameters: {'alpha': 0.42912612488405116}. Best is trial 12 with value: -1.572799960725447.\n",
      "[I 2025-05-31 10:23:47,532] Trial 22 finished with value: -1.6265560452048662 and parameters: {'alpha': 0.44863700188785843}. Best is trial 12 with value: -1.572799960725447.\n",
      "[I 2025-05-31 10:23:48,315] Trial 23 finished with value: -1.5828788176595923 and parameters: {'alpha': 0.3531929938895791}. Best is trial 12 with value: -1.572799960725447.\n",
      "[I 2025-05-31 10:23:49,730] Trial 24 finished with value: -1.9591483886373753 and parameters: {'alpha': 0.05046356550559719}. Best is trial 12 with value: -1.572799960725447.\n",
      "[I 2025-05-31 10:23:50,549] Trial 25 finished with value: -1.550491922390386 and parameters: {'alpha': 0.27778371673991614}. Best is trial 25 with value: -1.550491922390386.\n",
      "[I 2025-05-31 10:23:51,258] Trial 26 finished with value: -1.6325547564123688 and parameters: {'alpha': 3.0414341681942103}. Best is trial 25 with value: -1.550491922390386.\n",
      "[I 2025-05-31 10:23:52,629] Trial 27 finished with value: -1.8949603626912068 and parameters: {'alpha': 0.06234577570438618}. Best is trial 25 with value: -1.550491922390386.\n",
      "[I 2025-05-31 10:23:53,321] Trial 28 finished with value: -1.6325547564123688 and parameters: {'alpha': 0.81109344514132}. Best is trial 25 with value: -1.550491922390386.\n",
      "[I 2025-05-31 10:23:54,282] Trial 29 finished with value: -1.5764720798977798 and parameters: {'alpha': 0.19906197489286231}. Best is trial 25 with value: -1.550491922390386.\n",
      "[I 2025-05-31 10:23:58,482] Trial 30 finished with value: -2.2418809250270457 and parameters: {'alpha': 0.004342963180915428}. Best is trial 25 with value: -1.550491922390386.\n",
      "[I 2025-05-31 10:23:59,475] Trial 31 finished with value: -1.566732681472887 and parameters: {'alpha': 0.2049382125095551}. Best is trial 25 with value: -1.550491922390386.\n",
      "[I 2025-05-31 10:24:00,616] Trial 32 finished with value: -1.7686548095191772 and parameters: {'alpha': 0.09907961072793539}. Best is trial 25 with value: -1.550491922390386.\n",
      "[I 2025-05-31 10:24:01,613] Trial 33 finished with value: -1.6041863078443104 and parameters: {'alpha': 0.18268911906182161}. Best is trial 25 with value: -1.550491922390386.\n",
      "[I 2025-05-31 10:24:02,658] Trial 34 finished with value: -1.560158566674021 and parameters: {'alpha': 0.20908353806518423}. Best is trial 25 with value: -1.550491922390386.\n",
      "[I 2025-05-31 10:24:04,872] Trial 35 finished with value: -2.143749849920756 and parameters: {'alpha': 0.024432590700969436}. Best is trial 25 with value: -1.550491922390386.\n",
      "[I 2025-05-31 10:24:05,577] Trial 36 finished with value: -1.6325547564123688 and parameters: {'alpha': 4.0422032987877845}. Best is trial 25 with value: -1.550491922390386.\n",
      "[I 2025-05-31 10:24:06,285] Trial 37 finished with value: -1.6325547564123688 and parameters: {'alpha': 0.8279195267211797}. Best is trial 25 with value: -1.550491922390386.\n",
      "[I 2025-05-31 10:24:07,515] Trial 38 finished with value: -1.8868222177826344 and parameters: {'alpha': 0.06624318203508402}. Best is trial 25 with value: -1.550491922390386.\n",
      "[I 2025-05-31 10:24:09,250] Trial 39 finished with value: -2.0740695001352862 and parameters: {'alpha': 0.03283995349328272}. Best is trial 25 with value: -1.550491922390386.\n",
      "[I 2025-05-31 10:24:09,971] Trial 40 finished with value: -1.6325547564123688 and parameters: {'alpha': 1.6840238726031793}. Best is trial 25 with value: -1.550491922390386.\n",
      "[I 2025-05-31 10:24:10,831] Trial 41 finished with value: -1.5536791967720924 and parameters: {'alpha': 0.2846224206202751}. Best is trial 25 with value: -1.550491922390386.\n",
      "[I 2025-05-31 10:24:11,558] Trial 42 finished with value: -1.6325547564123688 and parameters: {'alpha': 0.6518912613442611}. Best is trial 25 with value: -1.550491922390386.\n",
      "[I 2025-05-31 10:24:12,449] Trial 43 finished with value: -1.54219929993266 and parameters: {'alpha': 0.24149343853369856}. Best is trial 43 with value: -1.54219929993266.\n",
      "[I 2025-05-31 10:24:13,702] Trial 44 finished with value: -1.8391761687230677 and parameters: {'alpha': 0.08054307322994865}. Best is trial 43 with value: -1.54219929993266.\n",
      "[I 2025-05-31 10:24:14,610] Trial 45 finished with value: -1.5419695183246236 and parameters: {'alpha': 0.2356508271265808}. Best is trial 45 with value: -1.5419695183246236.\n",
      "[I 2025-05-31 10:24:15,300] Trial 46 finished with value: -1.6325547564123688 and parameters: {'alpha': 1.5057900713804293}. Best is trial 45 with value: -1.5419695183246236.\n",
      "[I 2025-05-31 10:24:16,980] Trial 47 finished with value: -2.0690237606242223 and parameters: {'alpha': 0.033819810663946244}. Best is trial 45 with value: -1.5419695183246236.\n",
      "[I 2025-05-31 10:24:18,032] Trial 48 finished with value: -1.6474493559651335 and parameters: {'alpha': 0.15553017100311486}. Best is trial 45 with value: -1.5419695183246236.\n",
      "[I 2025-05-31 10:24:18,863] Trial 49 finished with value: -1.6325547564123688 and parameters: {'alpha': 0.5817028343699934}. Best is trial 45 with value: -1.5419695183246236.\n",
      "Model Families:  50%|█████     | 1/2 [03:00<03:00, 180.25s/it][I 2025-05-31 10:24:19,393] A new study created in memory with name: no-name-69c29ffb-4838-49be-970b-cb693b029bf4\n",
      "[I 2025-05-31 10:24:20,211] Trial 0 finished with value: -1.940815809807486 and parameters: {}. Best is trial 0 with value: -1.940815809807486.\n",
      "[I 2025-05-31 10:24:20,993] Trial 1 finished with value: -1.940815809807486 and parameters: {}. Best is trial 0 with value: -1.940815809807486.\n",
      "[I 2025-05-31 10:24:21,795] Trial 2 finished with value: -1.940815809807486 and parameters: {}. Best is trial 0 with value: -1.940815809807486.\n",
      "[I 2025-05-31 10:24:22,592] Trial 3 finished with value: -1.940815809807486 and parameters: {}. Best is trial 0 with value: -1.940815809807486.\n",
      "[I 2025-05-31 10:24:23,378] Trial 4 finished with value: -1.940815809807486 and parameters: {}. Best is trial 0 with value: -1.940815809807486.\n",
      "[I 2025-05-31 10:24:24,196] Trial 5 finished with value: -1.940815809807486 and parameters: {}. Best is trial 0 with value: -1.940815809807486.\n",
      "[I 2025-05-31 10:24:24,996] Trial 6 finished with value: -1.940815809807486 and parameters: {}. Best is trial 0 with value: -1.940815809807486.\n",
      "[I 2025-05-31 10:24:25,919] Trial 7 finished with value: -1.940815809807486 and parameters: {}. Best is trial 0 with value: -1.940815809807486.\n",
      "[I 2025-05-31 10:24:26,737] Trial 8 finished with value: -1.940815809807486 and parameters: {}. Best is trial 0 with value: -1.940815809807486.\n",
      "[I 2025-05-31 10:24:27,629] Trial 9 finished with value: -1.940815809807486 and parameters: {}. Best is trial 0 with value: -1.940815809807486.\n",
      "[I 2025-05-31 10:24:28,430] Trial 10 finished with value: -1.940815809807486 and parameters: {}. Best is trial 0 with value: -1.940815809807486.\n",
      "[I 2025-05-31 10:24:29,324] Trial 11 finished with value: -1.940815809807486 and parameters: {}. Best is trial 0 with value: -1.940815809807486.\n",
      "[I 2025-05-31 10:24:30,237] Trial 12 finished with value: -1.940815809807486 and parameters: {}. Best is trial 0 with value: -1.940815809807486.\n",
      "[I 2025-05-31 10:24:31,253] Trial 13 finished with value: -1.940815809807486 and parameters: {}. Best is trial 0 with value: -1.940815809807486.\n",
      "[I 2025-05-31 10:24:32,051] Trial 14 finished with value: -1.940815809807486 and parameters: {}. Best is trial 0 with value: -1.940815809807486.\n",
      "[I 2025-05-31 10:24:32,864] Trial 15 finished with value: -1.940815809807486 and parameters: {}. Best is trial 0 with value: -1.940815809807486.\n",
      "[I 2025-05-31 10:24:33,649] Trial 16 finished with value: -1.940815809807486 and parameters: {}. Best is trial 0 with value: -1.940815809807486.\n",
      "[I 2025-05-31 10:24:34,461] Trial 17 finished with value: -1.940815809807486 and parameters: {}. Best is trial 0 with value: -1.940815809807486.\n",
      "[I 2025-05-31 10:24:35,365] Trial 18 finished with value: -1.940815809807486 and parameters: {}. Best is trial 0 with value: -1.940815809807486.\n",
      "[I 2025-05-31 10:24:36,131] Trial 19 finished with value: -1.940815809807486 and parameters: {}. Best is trial 0 with value: -1.940815809807486.\n",
      "[I 2025-05-31 10:24:36,943] Trial 20 finished with value: -1.940815809807486 and parameters: {}. Best is trial 0 with value: -1.940815809807486.\n",
      "[I 2025-05-31 10:24:37,780] Trial 21 finished with value: -1.940815809807486 and parameters: {}. Best is trial 0 with value: -1.940815809807486.\n",
      "[I 2025-05-31 10:24:38,607] Trial 22 finished with value: -1.940815809807486 and parameters: {}. Best is trial 0 with value: -1.940815809807486.\n",
      "[I 2025-05-31 10:24:39,390] Trial 23 finished with value: -1.940815809807486 and parameters: {}. Best is trial 0 with value: -1.940815809807486.\n",
      "[I 2025-05-31 10:24:40,202] Trial 24 finished with value: -1.940815809807486 and parameters: {}. Best is trial 0 with value: -1.940815809807486.\n",
      "[I 2025-05-31 10:24:41,006] Trial 25 finished with value: -1.940815809807486 and parameters: {}. Best is trial 0 with value: -1.940815809807486.\n",
      "[I 2025-05-31 10:24:41,791] Trial 26 finished with value: -1.940815809807486 and parameters: {}. Best is trial 0 with value: -1.940815809807486.\n",
      "[I 2025-05-31 10:24:42,619] Trial 27 finished with value: -1.940815809807486 and parameters: {}. Best is trial 0 with value: -1.940815809807486.\n",
      "[I 2025-05-31 10:24:43,405] Trial 28 finished with value: -1.940815809807486 and parameters: {}. Best is trial 0 with value: -1.940815809807486.\n",
      "[I 2025-05-31 10:24:44,192] Trial 29 finished with value: -1.940815809807486 and parameters: {}. Best is trial 0 with value: -1.940815809807486.\n",
      "[I 2025-05-31 10:24:44,994] Trial 30 finished with value: -1.940815809807486 and parameters: {}. Best is trial 0 with value: -1.940815809807486.\n",
      "[I 2025-05-31 10:24:45,883] Trial 31 finished with value: -1.940815809807486 and parameters: {}. Best is trial 0 with value: -1.940815809807486.\n",
      "[I 2025-05-31 10:24:46,694] Trial 32 finished with value: -1.940815809807486 and parameters: {}. Best is trial 0 with value: -1.940815809807486.\n",
      "[I 2025-05-31 10:24:47,497] Trial 33 finished with value: -1.940815809807486 and parameters: {}. Best is trial 0 with value: -1.940815809807486.\n",
      "[I 2025-05-31 10:24:48,293] Trial 34 finished with value: -1.940815809807486 and parameters: {}. Best is trial 0 with value: -1.940815809807486.\n",
      "[I 2025-05-31 10:24:49,080] Trial 35 finished with value: -1.940815809807486 and parameters: {}. Best is trial 0 with value: -1.940815809807486.\n",
      "[I 2025-05-31 10:24:49,870] Trial 36 finished with value: -1.940815809807486 and parameters: {}. Best is trial 0 with value: -1.940815809807486.\n",
      "[I 2025-05-31 10:24:50,655] Trial 37 finished with value: -1.940815809807486 and parameters: {}. Best is trial 0 with value: -1.940815809807486.\n",
      "[I 2025-05-31 10:24:51,473] Trial 38 finished with value: -1.940815809807486 and parameters: {}. Best is trial 0 with value: -1.940815809807486.\n",
      "[I 2025-05-31 10:24:52,267] Trial 39 finished with value: -1.940815809807486 and parameters: {}. Best is trial 0 with value: -1.940815809807486.\n",
      "[I 2025-05-31 10:24:53,074] Trial 40 finished with value: -1.940815809807486 and parameters: {}. Best is trial 0 with value: -1.940815809807486.\n",
      "[I 2025-05-31 10:24:53,879] Trial 41 finished with value: -1.940815809807486 and parameters: {}. Best is trial 0 with value: -1.940815809807486.\n",
      "[I 2025-05-31 10:24:54,696] Trial 42 finished with value: -1.940815809807486 and parameters: {}. Best is trial 0 with value: -1.940815809807486.\n",
      "[I 2025-05-31 10:24:55,484] Trial 43 finished with value: -1.940815809807486 and parameters: {}. Best is trial 0 with value: -1.940815809807486.\n",
      "[I 2025-05-31 10:24:56,269] Trial 44 finished with value: -1.940815809807486 and parameters: {}. Best is trial 0 with value: -1.940815809807486.\n",
      "[I 2025-05-31 10:24:56,969] Trial 45 finished with value: -1.940815809807486 and parameters: {}. Best is trial 0 with value: -1.940815809807486.\n",
      "[I 2025-05-31 10:24:57,757] Trial 46 finished with value: -1.940815809807486 and parameters: {}. Best is trial 0 with value: -1.940815809807486.\n",
      "[I 2025-05-31 10:24:58,556] Trial 47 finished with value: -1.940815809807486 and parameters: {}. Best is trial 0 with value: -1.940815809807486.\n",
      "[I 2025-05-31 10:24:59,461] Trial 48 finished with value: -1.940815809807486 and parameters: {}. Best is trial 0 with value: -1.940815809807486.\n",
      "[I 2025-05-31 10:25:00,395] Trial 49 finished with value: -1.940815809807486 and parameters: {}. Best is trial 0 with value: -1.940815809807486.\n",
      "[I 2025-05-31 10:25:01,071] A new study created in memory with name: no-name-c045366d-bb2a-49d6-a208-f623f73f44bf\n",
      "[I 2025-05-31 10:25:02,205] Trial 0 finished with value: -2.1255829863822986 and parameters: {}. Best is trial 0 with value: -2.1255829863822986.\n",
      "[I 2025-05-31 10:25:03,313] Trial 1 finished with value: -2.1255829863822986 and parameters: {}. Best is trial 0 with value: -2.1255829863822986.\n",
      "[I 2025-05-31 10:25:04,413] Trial 2 finished with value: -2.1255829863822986 and parameters: {}. Best is trial 0 with value: -2.1255829863822986.\n",
      "[I 2025-05-31 10:25:05,512] Trial 3 finished with value: -2.1255829863822986 and parameters: {}. Best is trial 0 with value: -2.1255829863822986.\n",
      "[I 2025-05-31 10:25:06,635] Trial 4 finished with value: -2.1255829863822986 and parameters: {}. Best is trial 0 with value: -2.1255829863822986.\n",
      "[I 2025-05-31 10:25:07,777] Trial 5 finished with value: -2.1255829863822986 and parameters: {}. Best is trial 0 with value: -2.1255829863822986.\n",
      "[I 2025-05-31 10:25:08,914] Trial 6 finished with value: -2.1255829863822986 and parameters: {}. Best is trial 0 with value: -2.1255829863822986.\n",
      "[I 2025-05-31 10:25:10,038] Trial 7 finished with value: -2.1255829863822986 and parameters: {}. Best is trial 0 with value: -2.1255829863822986.\n",
      "[I 2025-05-31 10:25:11,167] Trial 8 finished with value: -2.1255829863822986 and parameters: {}. Best is trial 0 with value: -2.1255829863822986.\n",
      "[I 2025-05-31 10:25:12,292] Trial 9 finished with value: -2.1255829863822986 and parameters: {}. Best is trial 0 with value: -2.1255829863822986.\n",
      "[I 2025-05-31 10:25:13,412] Trial 10 finished with value: -2.1255829863822986 and parameters: {}. Best is trial 0 with value: -2.1255829863822986.\n",
      "[I 2025-05-31 10:25:14,531] Trial 11 finished with value: -2.1255829863822986 and parameters: {}. Best is trial 0 with value: -2.1255829863822986.\n",
      "[I 2025-05-31 10:25:15,651] Trial 12 finished with value: -2.1255829863822986 and parameters: {}. Best is trial 0 with value: -2.1255829863822986.\n",
      "[I 2025-05-31 10:25:16,895] Trial 13 finished with value: -2.1255829863822986 and parameters: {}. Best is trial 0 with value: -2.1255829863822986.\n",
      "[I 2025-05-31 10:25:18,023] Trial 14 finished with value: -2.1255829863822986 and parameters: {}. Best is trial 0 with value: -2.1255829863822986.\n",
      "[I 2025-05-31 10:25:19,166] Trial 15 finished with value: -2.1255829863822986 and parameters: {}. Best is trial 0 with value: -2.1255829863822986.\n",
      "[I 2025-05-31 10:25:20,297] Trial 16 finished with value: -2.1255829863822986 and parameters: {}. Best is trial 0 with value: -2.1255829863822986.\n",
      "[I 2025-05-31 10:25:21,452] Trial 17 finished with value: -2.1255829863822986 and parameters: {}. Best is trial 0 with value: -2.1255829863822986.\n",
      "[I 2025-05-31 10:25:22,597] Trial 18 finished with value: -2.1255829863822986 and parameters: {}. Best is trial 0 with value: -2.1255829863822986.\n",
      "[I 2025-05-31 10:25:23,718] Trial 19 finished with value: -2.1255829863822986 and parameters: {}. Best is trial 0 with value: -2.1255829863822986.\n",
      "[I 2025-05-31 10:25:24,888] Trial 20 finished with value: -2.1255829863822986 and parameters: {}. Best is trial 0 with value: -2.1255829863822986.\n",
      "[I 2025-05-31 10:25:26,043] Trial 21 finished with value: -2.1255829863822986 and parameters: {}. Best is trial 0 with value: -2.1255829863822986.\n",
      "[I 2025-05-31 10:25:27,172] Trial 22 finished with value: -2.1255829863822986 and parameters: {}. Best is trial 0 with value: -2.1255829863822986.\n",
      "[I 2025-05-31 10:25:28,330] Trial 23 finished with value: -2.1255829863822986 and parameters: {}. Best is trial 0 with value: -2.1255829863822986.\n",
      "[I 2025-05-31 10:25:29,459] Trial 24 finished with value: -2.1255829863822986 and parameters: {}. Best is trial 0 with value: -2.1255829863822986.\n",
      "[I 2025-05-31 10:25:30,612] Trial 25 finished with value: -2.1255829863822986 and parameters: {}. Best is trial 0 with value: -2.1255829863822986.\n",
      "[I 2025-05-31 10:25:31,764] Trial 26 finished with value: -2.1255829863822986 and parameters: {}. Best is trial 0 with value: -2.1255829863822986.\n",
      "[I 2025-05-31 10:25:32,897] Trial 27 finished with value: -2.1255829863822986 and parameters: {}. Best is trial 0 with value: -2.1255829863822986.\n",
      "[I 2025-05-31 10:25:34,013] Trial 28 finished with value: -2.1255829863822986 and parameters: {}. Best is trial 0 with value: -2.1255829863822986.\n",
      "[I 2025-05-31 10:25:35,142] Trial 29 finished with value: -2.1255829863822986 and parameters: {}. Best is trial 0 with value: -2.1255829863822986.\n",
      "[I 2025-05-31 10:25:36,406] Trial 30 finished with value: -2.1255829863822986 and parameters: {}. Best is trial 0 with value: -2.1255829863822986.\n",
      "[I 2025-05-31 10:25:37,537] Trial 31 finished with value: -2.1255829863822986 and parameters: {}. Best is trial 0 with value: -2.1255829863822986.\n",
      "[I 2025-05-31 10:25:38,681] Trial 32 finished with value: -2.1255829863822986 and parameters: {}. Best is trial 0 with value: -2.1255829863822986.\n",
      "[I 2025-05-31 10:25:39,920] Trial 33 finished with value: -2.1255829863822986 and parameters: {}. Best is trial 0 with value: -2.1255829863822986.\n",
      "[I 2025-05-31 10:25:41,048] Trial 34 finished with value: -2.1255829863822986 and parameters: {}. Best is trial 0 with value: -2.1255829863822986.\n",
      "[I 2025-05-31 10:25:42,210] Trial 35 finished with value: -2.1255829863822986 and parameters: {}. Best is trial 0 with value: -2.1255829863822986.\n",
      "[I 2025-05-31 10:25:43,355] Trial 36 finished with value: -2.1255829863822986 and parameters: {}. Best is trial 0 with value: -2.1255829863822986.\n",
      "[I 2025-05-31 10:25:44,505] Trial 37 finished with value: -2.1255829863822986 and parameters: {}. Best is trial 0 with value: -2.1255829863822986.\n",
      "[I 2025-05-31 10:25:45,647] Trial 38 finished with value: -2.1255829863822986 and parameters: {}. Best is trial 0 with value: -2.1255829863822986.\n",
      "[I 2025-05-31 10:25:46,799] Trial 39 finished with value: -2.1255829863822986 and parameters: {}. Best is trial 0 with value: -2.1255829863822986.\n",
      "[I 2025-05-31 10:25:47,946] Trial 40 finished with value: -2.1255829863822986 and parameters: {}. Best is trial 0 with value: -2.1255829863822986.\n",
      "[I 2025-05-31 10:25:49,084] Trial 41 finished with value: -2.1255829863822986 and parameters: {}. Best is trial 0 with value: -2.1255829863822986.\n",
      "[I 2025-05-31 10:25:50,227] Trial 42 finished with value: -2.1255829863822986 and parameters: {}. Best is trial 0 with value: -2.1255829863822986.\n",
      "[I 2025-05-31 10:25:51,391] Trial 43 finished with value: -2.1255829863822986 and parameters: {}. Best is trial 0 with value: -2.1255829863822986.\n",
      "[I 2025-05-31 10:25:52,627] Trial 44 finished with value: -2.1255829863822986 and parameters: {}. Best is trial 0 with value: -2.1255829863822986.\n",
      "[I 2025-05-31 10:25:53,772] Trial 45 finished with value: -2.1255829863822986 and parameters: {}. Best is trial 0 with value: -2.1255829863822986.\n",
      "[I 2025-05-31 10:25:54,873] Trial 46 finished with value: -2.1255829863822986 and parameters: {}. Best is trial 0 with value: -2.1255829863822986.\n",
      "[I 2025-05-31 10:25:56,002] Trial 47 finished with value: -2.1255829863822986 and parameters: {}. Best is trial 0 with value: -2.1255829863822986.\n",
      "[I 2025-05-31 10:25:57,117] Trial 48 finished with value: -2.1255829863822986 and parameters: {}. Best is trial 0 with value: -2.1255829863822986.\n",
      "[I 2025-05-31 10:25:58,251] Trial 49 finished with value: -2.1255829863822986 and parameters: {}. Best is trial 0 with value: -2.1255829863822986.\n",
      "[I 2025-05-31 10:25:58,934] A new study created in memory with name: no-name-191f343f-8a98-470b-9c5e-12c20123a7a9\n",
      "[I 2025-05-31 10:26:00,506] Trial 0 finished with value: -2.0438409973790193 and parameters: {}. Best is trial 0 with value: -2.0438409973790193.\n",
      "[I 2025-05-31 10:26:02,033] Trial 1 finished with value: -2.0438409973790193 and parameters: {}. Best is trial 0 with value: -2.0438409973790193.\n",
      "[I 2025-05-31 10:26:03,569] Trial 2 finished with value: -2.0438409973790193 and parameters: {}. Best is trial 0 with value: -2.0438409973790193.\n",
      "[I 2025-05-31 10:26:05,125] Trial 3 finished with value: -2.0438409973790193 and parameters: {}. Best is trial 0 with value: -2.0438409973790193.\n",
      "[I 2025-05-31 10:26:06,709] Trial 4 finished with value: -2.0438409973790193 and parameters: {}. Best is trial 0 with value: -2.0438409973790193.\n",
      "[I 2025-05-31 10:26:08,240] Trial 5 finished with value: -2.0438409973790193 and parameters: {}. Best is trial 0 with value: -2.0438409973790193.\n",
      "[I 2025-05-31 10:26:09,738] Trial 6 finished with value: -2.0438409973790193 and parameters: {}. Best is trial 0 with value: -2.0438409973790193.\n",
      "[I 2025-05-31 10:26:11,246] Trial 7 finished with value: -2.0438409973790193 and parameters: {}. Best is trial 0 with value: -2.0438409973790193.\n",
      "[I 2025-05-31 10:26:12,743] Trial 8 finished with value: -2.0438409973790193 and parameters: {}. Best is trial 0 with value: -2.0438409973790193.\n",
      "[I 2025-05-31 10:26:14,282] Trial 9 finished with value: -2.0438409973790193 and parameters: {}. Best is trial 0 with value: -2.0438409973790193.\n",
      "[I 2025-05-31 10:26:15,827] Trial 10 finished with value: -2.0438409973790193 and parameters: {}. Best is trial 0 with value: -2.0438409973790193.\n",
      "[I 2025-05-31 10:26:17,386] Trial 11 finished with value: -2.0438409973790193 and parameters: {}. Best is trial 0 with value: -2.0438409973790193.\n",
      "[I 2025-05-31 10:26:18,930] Trial 12 finished with value: -2.0438409973790193 and parameters: {}. Best is trial 0 with value: -2.0438409973790193.\n",
      "[I 2025-05-31 10:26:20,499] Trial 13 finished with value: -2.0438409973790193 and parameters: {}. Best is trial 0 with value: -2.0438409973790193.\n",
      "[I 2025-05-31 10:26:22,039] Trial 14 finished with value: -2.0438409973790193 and parameters: {}. Best is trial 0 with value: -2.0438409973790193.\n",
      "[I 2025-05-31 10:26:23,600] Trial 15 finished with value: -2.0438409973790193 and parameters: {}. Best is trial 0 with value: -2.0438409973790193.\n",
      "[I 2025-05-31 10:26:25,185] Trial 16 finished with value: -2.0438409973790193 and parameters: {}. Best is trial 0 with value: -2.0438409973790193.\n",
      "[I 2025-05-31 10:26:26,893] Trial 17 finished with value: -2.0438409973790193 and parameters: {}. Best is trial 0 with value: -2.0438409973790193.\n",
      "[I 2025-05-31 10:26:28,436] Trial 18 finished with value: -2.0438409973790193 and parameters: {}. Best is trial 0 with value: -2.0438409973790193.\n",
      "[I 2025-05-31 10:26:30,075] Trial 19 finished with value: -2.0438409973790193 and parameters: {}. Best is trial 0 with value: -2.0438409973790193.\n",
      "[I 2025-05-31 10:26:31,713] Trial 20 finished with value: -2.0438409973790193 and parameters: {}. Best is trial 0 with value: -2.0438409973790193.\n",
      "[I 2025-05-31 10:26:33,294] Trial 21 finished with value: -2.0438409973790193 and parameters: {}. Best is trial 0 with value: -2.0438409973790193.\n",
      "[I 2025-05-31 10:26:34,863] Trial 22 finished with value: -2.0438409973790193 and parameters: {}. Best is trial 0 with value: -2.0438409973790193.\n",
      "[I 2025-05-31 10:26:36,486] Trial 23 finished with value: -2.0438409973790193 and parameters: {}. Best is trial 0 with value: -2.0438409973790193.\n",
      "[I 2025-05-31 10:26:38,058] Trial 24 finished with value: -2.0438409973790193 and parameters: {}. Best is trial 0 with value: -2.0438409973790193.\n",
      "[I 2025-05-31 10:26:39,616] Trial 25 finished with value: -2.0438409973790193 and parameters: {}. Best is trial 0 with value: -2.0438409973790193.\n",
      "[I 2025-05-31 10:26:41,130] Trial 26 finished with value: -2.0438409973790193 and parameters: {}. Best is trial 0 with value: -2.0438409973790193.\n",
      "[I 2025-05-31 10:26:42,658] Trial 27 finished with value: -2.0438409973790193 and parameters: {}. Best is trial 0 with value: -2.0438409973790193.\n",
      "[I 2025-05-31 10:26:44,185] Trial 28 finished with value: -2.0438409973790193 and parameters: {}. Best is trial 0 with value: -2.0438409973790193.\n",
      "[I 2025-05-31 10:26:45,690] Trial 29 finished with value: -2.0438409973790193 and parameters: {}. Best is trial 0 with value: -2.0438409973790193.\n",
      "[I 2025-05-31 10:26:47,187] Trial 30 finished with value: -2.0438409973790193 and parameters: {}. Best is trial 0 with value: -2.0438409973790193.\n",
      "[I 2025-05-31 10:26:48,702] Trial 31 finished with value: -2.0438409973790193 and parameters: {}. Best is trial 0 with value: -2.0438409973790193.\n",
      "[I 2025-05-31 10:26:50,240] Trial 32 finished with value: -2.0438409973790193 and parameters: {}. Best is trial 0 with value: -2.0438409973790193.\n",
      "[I 2025-05-31 10:26:51,795] Trial 33 finished with value: -2.0438409973790193 and parameters: {}. Best is trial 0 with value: -2.0438409973790193.\n",
      "[I 2025-05-31 10:26:53,352] Trial 34 finished with value: -2.0438409973790193 and parameters: {}. Best is trial 0 with value: -2.0438409973790193.\n",
      "[I 2025-05-31 10:26:54,863] Trial 35 finished with value: -2.0438409973790193 and parameters: {}. Best is trial 0 with value: -2.0438409973790193.\n",
      "[I 2025-05-31 10:26:56,389] Trial 36 finished with value: -2.0438409973790193 and parameters: {}. Best is trial 0 with value: -2.0438409973790193.\n",
      "[I 2025-05-31 10:26:57,917] Trial 37 finished with value: -2.0438409973790193 and parameters: {}. Best is trial 0 with value: -2.0438409973790193.\n",
      "[I 2025-05-31 10:26:59,436] Trial 38 finished with value: -2.0438409973790193 and parameters: {}. Best is trial 0 with value: -2.0438409973790193.\n",
      "[I 2025-05-31 10:27:01,007] Trial 39 finished with value: -2.0438409973790193 and parameters: {}. Best is trial 0 with value: -2.0438409973790193.\n",
      "[I 2025-05-31 10:27:02,512] Trial 40 finished with value: -2.0438409973790193 and parameters: {}. Best is trial 0 with value: -2.0438409973790193.\n",
      "[I 2025-05-31 10:27:04,002] Trial 41 finished with value: -2.0438409973790193 and parameters: {}. Best is trial 0 with value: -2.0438409973790193.\n",
      "[I 2025-05-31 10:27:05,533] Trial 42 finished with value: -2.0438409973790193 and parameters: {}. Best is trial 0 with value: -2.0438409973790193.\n",
      "[I 2025-05-31 10:27:07,195] Trial 43 finished with value: -2.0438409973790193 and parameters: {}. Best is trial 0 with value: -2.0438409973790193.\n",
      "[I 2025-05-31 10:27:08,738] Trial 44 finished with value: -2.0438409973790193 and parameters: {}. Best is trial 0 with value: -2.0438409973790193.\n",
      "[I 2025-05-31 10:27:10,271] Trial 45 finished with value: -2.0438409973790193 and parameters: {}. Best is trial 0 with value: -2.0438409973790193.\n",
      "[I 2025-05-31 10:27:11,812] Trial 46 finished with value: -2.0438409973790193 and parameters: {}. Best is trial 0 with value: -2.0438409973790193.\n",
      "[I 2025-05-31 10:27:13,349] Trial 47 finished with value: -2.0438409973790193 and parameters: {}. Best is trial 0 with value: -2.0438409973790193.\n",
      "[I 2025-05-31 10:27:14,877] Trial 48 finished with value: -2.0438409973790193 and parameters: {}. Best is trial 0 with value: -2.0438409973790193.\n",
      "[I 2025-05-31 10:27:16,497] Trial 49 finished with value: -2.0438409973790193 and parameters: {}. Best is trial 0 with value: -2.0438409973790193.\n",
      "Model Families: 100%|██████████| 2/2 [05:58<00:00, 179.01s/it]"
     ]
    },
    {
     "name": "stdout",
     "output_type": "stream",
     "text": [
      "\n",
      "Best Models Summary:\n",
      "\n",
      "Model: Lasso Regression | K-Folds: 3\n",
      "Best Params: {'alpha': 0.40936154462310437}\n",
      "MSE: 1.5438 | MAE: 1.0230 | R2: 0.0412\n",
      "Training Time (s): 45.60\n",
      "--------------------------------------------------\n",
      "Model: Lasso Regression | K-Folds: 5\n",
      "Best Params: {'alpha': 0.37033914018148417}\n",
      "MSE: 1.4838 | MAE: 0.9987 | R2: 0.0785\n",
      "Training Time (s): 57.64\n",
      "--------------------------------------------------\n",
      "Model: Lasso Regression | K-Folds: 7\n",
      "Best Params: {'alpha': 0.2356508271265808}\n",
      "MSE: 1.1133 | MAE: 0.8573 | R2: 0.3086\n",
      "Training Time (s): 76.62\n",
      "--------------------------------------------------\n",
      "Model: Linear Regression | K-Folds: 3\n",
      "Best Params: {}\n",
      "MSE: 0.0000 | MAE: 0.0000 | R2: 1.0000\n",
      "Training Time (s): 41.55\n",
      "--------------------------------------------------\n",
      "Model: Linear Regression | K-Folds: 5\n",
      "Best Params: {}\n",
      "MSE: 0.0000 | MAE: 0.0000 | R2: 1.0000\n",
      "Training Time (s): 57.73\n",
      "--------------------------------------------------\n",
      "Model: Linear Regression | K-Folds: 7\n",
      "Best Params: {}\n",
      "MSE: 0.0000 | MAE: 0.0000 | R2: 1.0000\n",
      "Training Time (s): 78.10\n",
      "--------------------------------------------------\n"
     ]
    },
    {
     "name": "stderr",
     "output_type": "stream",
     "text": [
      "\n"
     ]
    }
   ],
   "source": [
    "results = []\n",
    "best_results = {}\n",
    "\n",
    "for model_name, model_info in tqdm(search_spaces_optuna.items(), desc=\"Model Families\"):\n",
    "    for k in [3, 5, 7]:\n",
    "        # Run training with Optuna, but keep verbosity off inside train_with_optuna\n",
    "        res = train_with_optuna(\n",
    "            model_name=model_name,\n",
    "            estimator_class=model_info[\"estimator\"],\n",
    "            param_space=model_info[\"params\"],\n",
    "            X_train=X_train,\n",
    "            y_train=y_train,\n",
    "            k=k,\n",
    "            n_trials=50\n",
    "        )\n",
    "        \n",
    "        results.append(res)\n",
    "        \n",
    "        # Keep track of the best model per (model_name, k) based on R2 score\n",
    "        key = (model_name, k)\n",
    "        if key not in best_results or res[\"R2\"] > best_results[key][\"R2\"]:\n",
    "            best_results[key] = res\n",
    "\n",
    "# Now print only the best results summary per model and k\n",
    "print(\"\\nBest Models Summary:\\n\")\n",
    "for (model_name, k), res in sorted(best_results.items()):\n",
    "    print(f\"Model: {model_name} | K-Folds: {k}\")\n",
    "    print(f\"Best Params: {res['Best Params']}\")\n",
    "    print(f\"MSE: {res['MSE']:.4f} | MAE: {res['MAE']:.4f} | R2: {res['R2']:.4f}\")\n",
    "    print(f\"Training Time (s): {res['Training Time (s)']:.2f}\")\n",
    "    print(\"-\" * 50)\n"
   ]
  },
  {
   "cell_type": "code",
   "execution_count": 10,
   "id": "9917360e",
   "metadata": {},
   "outputs": [],
   "source": [
    "df_results = pd.DataFrame(results)\n"
   ]
  },
  {
   "cell_type": "code",
   "execution_count": 11,
   "id": "aa02d930",
   "metadata": {},
   "outputs": [
    {
     "data": {
      "application/vnd.plotly.v1+json": {
       "config": {
        "plotlyServerURL": "https://plot.ly"
       },
       "data": [
        {
         "mode": "markers",
         "name": "Objective Value",
         "type": "scatter",
         "x": [
          0,
          1,
          2,
          3,
          4,
          5,
          6,
          7,
          8,
          9,
          10,
          11,
          12,
          13,
          14,
          15,
          16,
          17,
          18,
          19,
          20,
          21,
          22,
          23,
          24,
          25,
          26,
          27,
          28,
          29,
          30,
          31,
          32,
          33,
          34,
          35,
          36,
          37,
          38,
          39,
          40,
          41,
          42,
          43,
          44,
          45,
          46,
          47,
          48,
          49
         ],
         "y": [
          -2.3406603804704003,
          -2.0895850786045305,
          -2.316933753442859,
          -2.0335313716428947,
          -2.3938883388709975,
          -2.181662405580609,
          -1.5939659066180376,
          -2.286258914619083,
          -1.6125775026649487,
          -1.6125775026649487,
          -1.6125775026649487,
          -1.6125775026649487,
          -1.6125775026649487,
          -1.6125775026649487,
          -1.627214324087367,
          -1.6125775026649487,
          -1.7381360006370732,
          -2.514730433011776,
          -1.7414943992052745,
          -1.6125775026649487,
          -1.6299320017423804,
          -1.6125775026649487,
          -1.6125775026649487,
          -1.6125775026649487,
          -1.9481421934789747,
          -1.6125775026649487,
          -2.2866026266352333,
          -1.6125775026649487,
          -1.6125775026649487,
          -1.5881787971746641,
          -2.3307426949357333,
          -1.5873728574496078,
          -1.8470596869708593,
          -1.5877358623997548,
          -1.5872655021291564,
          -1.9947167342487457,
          -2.2812739793925267,
          -2.088061990884383,
          -2.401684209289797,
          -2.3171094602755096,
          -1.694314557939815,
          -1.5862559452073528,
          -1.5914334091191413,
          -1.5918308655752043,
          -1.8978098457227504,
          -1.6125775026649487,
          -2.20692816099899,
          -1.6125775026649487,
          -1.6125775026649487,
          -1.6270528891687288
         ]
        },
        {
         "mode": "lines",
         "name": "Best Value",
         "type": "scatter",
         "x": [
          0,
          1,
          2,
          3,
          4,
          5,
          6,
          7,
          8,
          9,
          10,
          11,
          12,
          13,
          14,
          15,
          16,
          17,
          18,
          19,
          20,
          21,
          22,
          23,
          24,
          25,
          26,
          27,
          28,
          29,
          30,
          31,
          32,
          33,
          34,
          35,
          36,
          37,
          38,
          39,
          40,
          41,
          42,
          43,
          44,
          45,
          46,
          47,
          48,
          49
         ],
         "y": [
          -2.3406603804704003,
          -2.0895850786045305,
          -2.0895850786045305,
          -2.0335313716428947,
          -2.0335313716428947,
          -2.0335313716428947,
          -1.5939659066180376,
          -1.5939659066180376,
          -1.5939659066180376,
          -1.5939659066180376,
          -1.5939659066180376,
          -1.5939659066180376,
          -1.5939659066180376,
          -1.5939659066180376,
          -1.5939659066180376,
          -1.5939659066180376,
          -1.5939659066180376,
          -1.5939659066180376,
          -1.5939659066180376,
          -1.5939659066180376,
          -1.5939659066180376,
          -1.5939659066180376,
          -1.5939659066180376,
          -1.5939659066180376,
          -1.5939659066180376,
          -1.5939659066180376,
          -1.5939659066180376,
          -1.5939659066180376,
          -1.5939659066180376,
          -1.5881787971746641,
          -1.5881787971746641,
          -1.5873728574496078,
          -1.5873728574496078,
          -1.5873728574496078,
          -1.5872655021291564,
          -1.5872655021291564,
          -1.5872655021291564,
          -1.5872655021291564,
          -1.5872655021291564,
          -1.5872655021291564,
          -1.5872655021291564,
          -1.5862559452073528,
          -1.5862559452073528,
          -1.5862559452073528,
          -1.5862559452073528,
          -1.5862559452073528,
          -1.5862559452073528,
          -1.5862559452073528,
          -1.5862559452073528,
          -1.5862559452073528
         ]
        },
        {
         "marker": {
          "color": "#cccccc"
         },
         "mode": "markers",
         "name": "Infeasible Trial",
         "showlegend": false,
         "type": "scatter",
         "x": [],
         "y": []
        }
       ],
       "layout": {
        "template": {
         "data": {
          "bar": [
           {
            "error_x": {
             "color": "#2a3f5f"
            },
            "error_y": {
             "color": "#2a3f5f"
            },
            "marker": {
             "line": {
              "color": "#E5ECF6",
              "width": 0.5
             },
             "pattern": {
              "fillmode": "overlay",
              "size": 10,
              "solidity": 0.2
             }
            },
            "type": "bar"
           }
          ],
          "barpolar": [
           {
            "marker": {
             "line": {
              "color": "#E5ECF6",
              "width": 0.5
             },
             "pattern": {
              "fillmode": "overlay",
              "size": 10,
              "solidity": 0.2
             }
            },
            "type": "barpolar"
           }
          ],
          "carpet": [
           {
            "aaxis": {
             "endlinecolor": "#2a3f5f",
             "gridcolor": "white",
             "linecolor": "white",
             "minorgridcolor": "white",
             "startlinecolor": "#2a3f5f"
            },
            "baxis": {
             "endlinecolor": "#2a3f5f",
             "gridcolor": "white",
             "linecolor": "white",
             "minorgridcolor": "white",
             "startlinecolor": "#2a3f5f"
            },
            "type": "carpet"
           }
          ],
          "choropleth": [
           {
            "colorbar": {
             "outlinewidth": 0,
             "ticks": ""
            },
            "type": "choropleth"
           }
          ],
          "contour": [
           {
            "colorbar": {
             "outlinewidth": 0,
             "ticks": ""
            },
            "colorscale": [
             [
              0,
              "#0d0887"
             ],
             [
              0.1111111111111111,
              "#46039f"
             ],
             [
              0.2222222222222222,
              "#7201a8"
             ],
             [
              0.3333333333333333,
              "#9c179e"
             ],
             [
              0.4444444444444444,
              "#bd3786"
             ],
             [
              0.5555555555555556,
              "#d8576b"
             ],
             [
              0.6666666666666666,
              "#ed7953"
             ],
             [
              0.7777777777777778,
              "#fb9f3a"
             ],
             [
              0.8888888888888888,
              "#fdca26"
             ],
             [
              1,
              "#f0f921"
             ]
            ],
            "type": "contour"
           }
          ],
          "contourcarpet": [
           {
            "colorbar": {
             "outlinewidth": 0,
             "ticks": ""
            },
            "type": "contourcarpet"
           }
          ],
          "heatmap": [
           {
            "colorbar": {
             "outlinewidth": 0,
             "ticks": ""
            },
            "colorscale": [
             [
              0,
              "#0d0887"
             ],
             [
              0.1111111111111111,
              "#46039f"
             ],
             [
              0.2222222222222222,
              "#7201a8"
             ],
             [
              0.3333333333333333,
              "#9c179e"
             ],
             [
              0.4444444444444444,
              "#bd3786"
             ],
             [
              0.5555555555555556,
              "#d8576b"
             ],
             [
              0.6666666666666666,
              "#ed7953"
             ],
             [
              0.7777777777777778,
              "#fb9f3a"
             ],
             [
              0.8888888888888888,
              "#fdca26"
             ],
             [
              1,
              "#f0f921"
             ]
            ],
            "type": "heatmap"
           }
          ],
          "histogram": [
           {
            "marker": {
             "pattern": {
              "fillmode": "overlay",
              "size": 10,
              "solidity": 0.2
             }
            },
            "type": "histogram"
           }
          ],
          "histogram2d": [
           {
            "colorbar": {
             "outlinewidth": 0,
             "ticks": ""
            },
            "colorscale": [
             [
              0,
              "#0d0887"
             ],
             [
              0.1111111111111111,
              "#46039f"
             ],
             [
              0.2222222222222222,
              "#7201a8"
             ],
             [
              0.3333333333333333,
              "#9c179e"
             ],
             [
              0.4444444444444444,
              "#bd3786"
             ],
             [
              0.5555555555555556,
              "#d8576b"
             ],
             [
              0.6666666666666666,
              "#ed7953"
             ],
             [
              0.7777777777777778,
              "#fb9f3a"
             ],
             [
              0.8888888888888888,
              "#fdca26"
             ],
             [
              1,
              "#f0f921"
             ]
            ],
            "type": "histogram2d"
           }
          ],
          "histogram2dcontour": [
           {
            "colorbar": {
             "outlinewidth": 0,
             "ticks": ""
            },
            "colorscale": [
             [
              0,
              "#0d0887"
             ],
             [
              0.1111111111111111,
              "#46039f"
             ],
             [
              0.2222222222222222,
              "#7201a8"
             ],
             [
              0.3333333333333333,
              "#9c179e"
             ],
             [
              0.4444444444444444,
              "#bd3786"
             ],
             [
              0.5555555555555556,
              "#d8576b"
             ],
             [
              0.6666666666666666,
              "#ed7953"
             ],
             [
              0.7777777777777778,
              "#fb9f3a"
             ],
             [
              0.8888888888888888,
              "#fdca26"
             ],
             [
              1,
              "#f0f921"
             ]
            ],
            "type": "histogram2dcontour"
           }
          ],
          "mesh3d": [
           {
            "colorbar": {
             "outlinewidth": 0,
             "ticks": ""
            },
            "type": "mesh3d"
           }
          ],
          "parcoords": [
           {
            "line": {
             "colorbar": {
              "outlinewidth": 0,
              "ticks": ""
             }
            },
            "type": "parcoords"
           }
          ],
          "pie": [
           {
            "automargin": true,
            "type": "pie"
           }
          ],
          "scatter": [
           {
            "fillpattern": {
             "fillmode": "overlay",
             "size": 10,
             "solidity": 0.2
            },
            "type": "scatter"
           }
          ],
          "scatter3d": [
           {
            "line": {
             "colorbar": {
              "outlinewidth": 0,
              "ticks": ""
             }
            },
            "marker": {
             "colorbar": {
              "outlinewidth": 0,
              "ticks": ""
             }
            },
            "type": "scatter3d"
           }
          ],
          "scattercarpet": [
           {
            "marker": {
             "colorbar": {
              "outlinewidth": 0,
              "ticks": ""
             }
            },
            "type": "scattercarpet"
           }
          ],
          "scattergeo": [
           {
            "marker": {
             "colorbar": {
              "outlinewidth": 0,
              "ticks": ""
             }
            },
            "type": "scattergeo"
           }
          ],
          "scattergl": [
           {
            "marker": {
             "colorbar": {
              "outlinewidth": 0,
              "ticks": ""
             }
            },
            "type": "scattergl"
           }
          ],
          "scattermap": [
           {
            "marker": {
             "colorbar": {
              "outlinewidth": 0,
              "ticks": ""
             }
            },
            "type": "scattermap"
           }
          ],
          "scattermapbox": [
           {
            "marker": {
             "colorbar": {
              "outlinewidth": 0,
              "ticks": ""
             }
            },
            "type": "scattermapbox"
           }
          ],
          "scatterpolar": [
           {
            "marker": {
             "colorbar": {
              "outlinewidth": 0,
              "ticks": ""
             }
            },
            "type": "scatterpolar"
           }
          ],
          "scatterpolargl": [
           {
            "marker": {
             "colorbar": {
              "outlinewidth": 0,
              "ticks": ""
             }
            },
            "type": "scatterpolargl"
           }
          ],
          "scatterternary": [
           {
            "marker": {
             "colorbar": {
              "outlinewidth": 0,
              "ticks": ""
             }
            },
            "type": "scatterternary"
           }
          ],
          "surface": [
           {
            "colorbar": {
             "outlinewidth": 0,
             "ticks": ""
            },
            "colorscale": [
             [
              0,
              "#0d0887"
             ],
             [
              0.1111111111111111,
              "#46039f"
             ],
             [
              0.2222222222222222,
              "#7201a8"
             ],
             [
              0.3333333333333333,
              "#9c179e"
             ],
             [
              0.4444444444444444,
              "#bd3786"
             ],
             [
              0.5555555555555556,
              "#d8576b"
             ],
             [
              0.6666666666666666,
              "#ed7953"
             ],
             [
              0.7777777777777778,
              "#fb9f3a"
             ],
             [
              0.8888888888888888,
              "#fdca26"
             ],
             [
              1,
              "#f0f921"
             ]
            ],
            "type": "surface"
           }
          ],
          "table": [
           {
            "cells": {
             "fill": {
              "color": "#EBF0F8"
             },
             "line": {
              "color": "white"
             }
            },
            "header": {
             "fill": {
              "color": "#C8D4E3"
             },
             "line": {
              "color": "white"
             }
            },
            "type": "table"
           }
          ]
         },
         "layout": {
          "annotationdefaults": {
           "arrowcolor": "#2a3f5f",
           "arrowhead": 0,
           "arrowwidth": 1
          },
          "autotypenumbers": "strict",
          "coloraxis": {
           "colorbar": {
            "outlinewidth": 0,
            "ticks": ""
           }
          },
          "colorscale": {
           "diverging": [
            [
             0,
             "#8e0152"
            ],
            [
             0.1,
             "#c51b7d"
            ],
            [
             0.2,
             "#de77ae"
            ],
            [
             0.3,
             "#f1b6da"
            ],
            [
             0.4,
             "#fde0ef"
            ],
            [
             0.5,
             "#f7f7f7"
            ],
            [
             0.6,
             "#e6f5d0"
            ],
            [
             0.7,
             "#b8e186"
            ],
            [
             0.8,
             "#7fbc41"
            ],
            [
             0.9,
             "#4d9221"
            ],
            [
             1,
             "#276419"
            ]
           ],
           "sequential": [
            [
             0,
             "#0d0887"
            ],
            [
             0.1111111111111111,
             "#46039f"
            ],
            [
             0.2222222222222222,
             "#7201a8"
            ],
            [
             0.3333333333333333,
             "#9c179e"
            ],
            [
             0.4444444444444444,
             "#bd3786"
            ],
            [
             0.5555555555555556,
             "#d8576b"
            ],
            [
             0.6666666666666666,
             "#ed7953"
            ],
            [
             0.7777777777777778,
             "#fb9f3a"
            ],
            [
             0.8888888888888888,
             "#fdca26"
            ],
            [
             1,
             "#f0f921"
            ]
           ],
           "sequentialminus": [
            [
             0,
             "#0d0887"
            ],
            [
             0.1111111111111111,
             "#46039f"
            ],
            [
             0.2222222222222222,
             "#7201a8"
            ],
            [
             0.3333333333333333,
             "#9c179e"
            ],
            [
             0.4444444444444444,
             "#bd3786"
            ],
            [
             0.5555555555555556,
             "#d8576b"
            ],
            [
             0.6666666666666666,
             "#ed7953"
            ],
            [
             0.7777777777777778,
             "#fb9f3a"
            ],
            [
             0.8888888888888888,
             "#fdca26"
            ],
            [
             1,
             "#f0f921"
            ]
           ]
          },
          "colorway": [
           "#636efa",
           "#EF553B",
           "#00cc96",
           "#ab63fa",
           "#FFA15A",
           "#19d3f3",
           "#FF6692",
           "#B6E880",
           "#FF97FF",
           "#FECB52"
          ],
          "font": {
           "color": "#2a3f5f"
          },
          "geo": {
           "bgcolor": "white",
           "lakecolor": "white",
           "landcolor": "#E5ECF6",
           "showlakes": true,
           "showland": true,
           "subunitcolor": "white"
          },
          "hoverlabel": {
           "align": "left"
          },
          "hovermode": "closest",
          "mapbox": {
           "style": "light"
          },
          "paper_bgcolor": "white",
          "plot_bgcolor": "#E5ECF6",
          "polar": {
           "angularaxis": {
            "gridcolor": "white",
            "linecolor": "white",
            "ticks": ""
           },
           "bgcolor": "#E5ECF6",
           "radialaxis": {
            "gridcolor": "white",
            "linecolor": "white",
            "ticks": ""
           }
          },
          "scene": {
           "xaxis": {
            "backgroundcolor": "#E5ECF6",
            "gridcolor": "white",
            "gridwidth": 2,
            "linecolor": "white",
            "showbackground": true,
            "ticks": "",
            "zerolinecolor": "white"
           },
           "yaxis": {
            "backgroundcolor": "#E5ECF6",
            "gridcolor": "white",
            "gridwidth": 2,
            "linecolor": "white",
            "showbackground": true,
            "ticks": "",
            "zerolinecolor": "white"
           },
           "zaxis": {
            "backgroundcolor": "#E5ECF6",
            "gridcolor": "white",
            "gridwidth": 2,
            "linecolor": "white",
            "showbackground": true,
            "ticks": "",
            "zerolinecolor": "white"
           }
          },
          "shapedefaults": {
           "line": {
            "color": "#2a3f5f"
           }
          },
          "ternary": {
           "aaxis": {
            "gridcolor": "white",
            "linecolor": "white",
            "ticks": ""
           },
           "baxis": {
            "gridcolor": "white",
            "linecolor": "white",
            "ticks": ""
           },
           "bgcolor": "#E5ECF6",
           "caxis": {
            "gridcolor": "white",
            "linecolor": "white",
            "ticks": ""
           }
          },
          "title": {
           "x": 0.05
          },
          "xaxis": {
           "automargin": true,
           "gridcolor": "white",
           "linecolor": "white",
           "ticks": "",
           "title": {
            "standoff": 15
           },
           "zerolinecolor": "white",
           "zerolinewidth": 2
          },
          "yaxis": {
           "automargin": true,
           "gridcolor": "white",
           "linecolor": "white",
           "ticks": "",
           "title": {
            "standoff": 15
           },
           "zerolinecolor": "white",
           "zerolinewidth": 2
          }
         }
        },
        "title": {
         "text": "Optimization History Plot"
        },
        "xaxis": {
         "title": {
          "text": "Trial"
         }
        },
        "yaxis": {
         "title": {
          "text": "Objective Value"
         }
        }
       }
      }
     },
     "metadata": {},
     "output_type": "display_data"
    },
    {
     "data": {
      "application/vnd.plotly.v1+json": {
       "config": {
        "plotlyServerURL": "https://plot.ly"
       },
       "data": [
        {
         "cliponaxis": false,
         "hovertemplate": [
          "alpha (FloatDistribution): 1.0<extra></extra>"
         ],
         "name": "Objective Value",
         "orientation": "h",
         "text": [
          "1.00"
         ],
         "textposition": "outside",
         "type": "bar",
         "x": [
          1
         ],
         "y": [
          "alpha"
         ]
        }
       ],
       "layout": {
        "template": {
         "data": {
          "bar": [
           {
            "error_x": {
             "color": "#2a3f5f"
            },
            "error_y": {
             "color": "#2a3f5f"
            },
            "marker": {
             "line": {
              "color": "#E5ECF6",
              "width": 0.5
             },
             "pattern": {
              "fillmode": "overlay",
              "size": 10,
              "solidity": 0.2
             }
            },
            "type": "bar"
           }
          ],
          "barpolar": [
           {
            "marker": {
             "line": {
              "color": "#E5ECF6",
              "width": 0.5
             },
             "pattern": {
              "fillmode": "overlay",
              "size": 10,
              "solidity": 0.2
             }
            },
            "type": "barpolar"
           }
          ],
          "carpet": [
           {
            "aaxis": {
             "endlinecolor": "#2a3f5f",
             "gridcolor": "white",
             "linecolor": "white",
             "minorgridcolor": "white",
             "startlinecolor": "#2a3f5f"
            },
            "baxis": {
             "endlinecolor": "#2a3f5f",
             "gridcolor": "white",
             "linecolor": "white",
             "minorgridcolor": "white",
             "startlinecolor": "#2a3f5f"
            },
            "type": "carpet"
           }
          ],
          "choropleth": [
           {
            "colorbar": {
             "outlinewidth": 0,
             "ticks": ""
            },
            "type": "choropleth"
           }
          ],
          "contour": [
           {
            "colorbar": {
             "outlinewidth": 0,
             "ticks": ""
            },
            "colorscale": [
             [
              0,
              "#0d0887"
             ],
             [
              0.1111111111111111,
              "#46039f"
             ],
             [
              0.2222222222222222,
              "#7201a8"
             ],
             [
              0.3333333333333333,
              "#9c179e"
             ],
             [
              0.4444444444444444,
              "#bd3786"
             ],
             [
              0.5555555555555556,
              "#d8576b"
             ],
             [
              0.6666666666666666,
              "#ed7953"
             ],
             [
              0.7777777777777778,
              "#fb9f3a"
             ],
             [
              0.8888888888888888,
              "#fdca26"
             ],
             [
              1,
              "#f0f921"
             ]
            ],
            "type": "contour"
           }
          ],
          "contourcarpet": [
           {
            "colorbar": {
             "outlinewidth": 0,
             "ticks": ""
            },
            "type": "contourcarpet"
           }
          ],
          "heatmap": [
           {
            "colorbar": {
             "outlinewidth": 0,
             "ticks": ""
            },
            "colorscale": [
             [
              0,
              "#0d0887"
             ],
             [
              0.1111111111111111,
              "#46039f"
             ],
             [
              0.2222222222222222,
              "#7201a8"
             ],
             [
              0.3333333333333333,
              "#9c179e"
             ],
             [
              0.4444444444444444,
              "#bd3786"
             ],
             [
              0.5555555555555556,
              "#d8576b"
             ],
             [
              0.6666666666666666,
              "#ed7953"
             ],
             [
              0.7777777777777778,
              "#fb9f3a"
             ],
             [
              0.8888888888888888,
              "#fdca26"
             ],
             [
              1,
              "#f0f921"
             ]
            ],
            "type": "heatmap"
           }
          ],
          "histogram": [
           {
            "marker": {
             "pattern": {
              "fillmode": "overlay",
              "size": 10,
              "solidity": 0.2
             }
            },
            "type": "histogram"
           }
          ],
          "histogram2d": [
           {
            "colorbar": {
             "outlinewidth": 0,
             "ticks": ""
            },
            "colorscale": [
             [
              0,
              "#0d0887"
             ],
             [
              0.1111111111111111,
              "#46039f"
             ],
             [
              0.2222222222222222,
              "#7201a8"
             ],
             [
              0.3333333333333333,
              "#9c179e"
             ],
             [
              0.4444444444444444,
              "#bd3786"
             ],
             [
              0.5555555555555556,
              "#d8576b"
             ],
             [
              0.6666666666666666,
              "#ed7953"
             ],
             [
              0.7777777777777778,
              "#fb9f3a"
             ],
             [
              0.8888888888888888,
              "#fdca26"
             ],
             [
              1,
              "#f0f921"
             ]
            ],
            "type": "histogram2d"
           }
          ],
          "histogram2dcontour": [
           {
            "colorbar": {
             "outlinewidth": 0,
             "ticks": ""
            },
            "colorscale": [
             [
              0,
              "#0d0887"
             ],
             [
              0.1111111111111111,
              "#46039f"
             ],
             [
              0.2222222222222222,
              "#7201a8"
             ],
             [
              0.3333333333333333,
              "#9c179e"
             ],
             [
              0.4444444444444444,
              "#bd3786"
             ],
             [
              0.5555555555555556,
              "#d8576b"
             ],
             [
              0.6666666666666666,
              "#ed7953"
             ],
             [
              0.7777777777777778,
              "#fb9f3a"
             ],
             [
              0.8888888888888888,
              "#fdca26"
             ],
             [
              1,
              "#f0f921"
             ]
            ],
            "type": "histogram2dcontour"
           }
          ],
          "mesh3d": [
           {
            "colorbar": {
             "outlinewidth": 0,
             "ticks": ""
            },
            "type": "mesh3d"
           }
          ],
          "parcoords": [
           {
            "line": {
             "colorbar": {
              "outlinewidth": 0,
              "ticks": ""
             }
            },
            "type": "parcoords"
           }
          ],
          "pie": [
           {
            "automargin": true,
            "type": "pie"
           }
          ],
          "scatter": [
           {
            "fillpattern": {
             "fillmode": "overlay",
             "size": 10,
             "solidity": 0.2
            },
            "type": "scatter"
           }
          ],
          "scatter3d": [
           {
            "line": {
             "colorbar": {
              "outlinewidth": 0,
              "ticks": ""
             }
            },
            "marker": {
             "colorbar": {
              "outlinewidth": 0,
              "ticks": ""
             }
            },
            "type": "scatter3d"
           }
          ],
          "scattercarpet": [
           {
            "marker": {
             "colorbar": {
              "outlinewidth": 0,
              "ticks": ""
             }
            },
            "type": "scattercarpet"
           }
          ],
          "scattergeo": [
           {
            "marker": {
             "colorbar": {
              "outlinewidth": 0,
              "ticks": ""
             }
            },
            "type": "scattergeo"
           }
          ],
          "scattergl": [
           {
            "marker": {
             "colorbar": {
              "outlinewidth": 0,
              "ticks": ""
             }
            },
            "type": "scattergl"
           }
          ],
          "scattermap": [
           {
            "marker": {
             "colorbar": {
              "outlinewidth": 0,
              "ticks": ""
             }
            },
            "type": "scattermap"
           }
          ],
          "scattermapbox": [
           {
            "marker": {
             "colorbar": {
              "outlinewidth": 0,
              "ticks": ""
             }
            },
            "type": "scattermapbox"
           }
          ],
          "scatterpolar": [
           {
            "marker": {
             "colorbar": {
              "outlinewidth": 0,
              "ticks": ""
             }
            },
            "type": "scatterpolar"
           }
          ],
          "scatterpolargl": [
           {
            "marker": {
             "colorbar": {
              "outlinewidth": 0,
              "ticks": ""
             }
            },
            "type": "scatterpolargl"
           }
          ],
          "scatterternary": [
           {
            "marker": {
             "colorbar": {
              "outlinewidth": 0,
              "ticks": ""
             }
            },
            "type": "scatterternary"
           }
          ],
          "surface": [
           {
            "colorbar": {
             "outlinewidth": 0,
             "ticks": ""
            },
            "colorscale": [
             [
              0,
              "#0d0887"
             ],
             [
              0.1111111111111111,
              "#46039f"
             ],
             [
              0.2222222222222222,
              "#7201a8"
             ],
             [
              0.3333333333333333,
              "#9c179e"
             ],
             [
              0.4444444444444444,
              "#bd3786"
             ],
             [
              0.5555555555555556,
              "#d8576b"
             ],
             [
              0.6666666666666666,
              "#ed7953"
             ],
             [
              0.7777777777777778,
              "#fb9f3a"
             ],
             [
              0.8888888888888888,
              "#fdca26"
             ],
             [
              1,
              "#f0f921"
             ]
            ],
            "type": "surface"
           }
          ],
          "table": [
           {
            "cells": {
             "fill": {
              "color": "#EBF0F8"
             },
             "line": {
              "color": "white"
             }
            },
            "header": {
             "fill": {
              "color": "#C8D4E3"
             },
             "line": {
              "color": "white"
             }
            },
            "type": "table"
           }
          ]
         },
         "layout": {
          "annotationdefaults": {
           "arrowcolor": "#2a3f5f",
           "arrowhead": 0,
           "arrowwidth": 1
          },
          "autotypenumbers": "strict",
          "coloraxis": {
           "colorbar": {
            "outlinewidth": 0,
            "ticks": ""
           }
          },
          "colorscale": {
           "diverging": [
            [
             0,
             "#8e0152"
            ],
            [
             0.1,
             "#c51b7d"
            ],
            [
             0.2,
             "#de77ae"
            ],
            [
             0.3,
             "#f1b6da"
            ],
            [
             0.4,
             "#fde0ef"
            ],
            [
             0.5,
             "#f7f7f7"
            ],
            [
             0.6,
             "#e6f5d0"
            ],
            [
             0.7,
             "#b8e186"
            ],
            [
             0.8,
             "#7fbc41"
            ],
            [
             0.9,
             "#4d9221"
            ],
            [
             1,
             "#276419"
            ]
           ],
           "sequential": [
            [
             0,
             "#0d0887"
            ],
            [
             0.1111111111111111,
             "#46039f"
            ],
            [
             0.2222222222222222,
             "#7201a8"
            ],
            [
             0.3333333333333333,
             "#9c179e"
            ],
            [
             0.4444444444444444,
             "#bd3786"
            ],
            [
             0.5555555555555556,
             "#d8576b"
            ],
            [
             0.6666666666666666,
             "#ed7953"
            ],
            [
             0.7777777777777778,
             "#fb9f3a"
            ],
            [
             0.8888888888888888,
             "#fdca26"
            ],
            [
             1,
             "#f0f921"
            ]
           ],
           "sequentialminus": [
            [
             0,
             "#0d0887"
            ],
            [
             0.1111111111111111,
             "#46039f"
            ],
            [
             0.2222222222222222,
             "#7201a8"
            ],
            [
             0.3333333333333333,
             "#9c179e"
            ],
            [
             0.4444444444444444,
             "#bd3786"
            ],
            [
             0.5555555555555556,
             "#d8576b"
            ],
            [
             0.6666666666666666,
             "#ed7953"
            ],
            [
             0.7777777777777778,
             "#fb9f3a"
            ],
            [
             0.8888888888888888,
             "#fdca26"
            ],
            [
             1,
             "#f0f921"
            ]
           ]
          },
          "colorway": [
           "#636efa",
           "#EF553B",
           "#00cc96",
           "#ab63fa",
           "#FFA15A",
           "#19d3f3",
           "#FF6692",
           "#B6E880",
           "#FF97FF",
           "#FECB52"
          ],
          "font": {
           "color": "#2a3f5f"
          },
          "geo": {
           "bgcolor": "white",
           "lakecolor": "white",
           "landcolor": "#E5ECF6",
           "showlakes": true,
           "showland": true,
           "subunitcolor": "white"
          },
          "hoverlabel": {
           "align": "left"
          },
          "hovermode": "closest",
          "mapbox": {
           "style": "light"
          },
          "paper_bgcolor": "white",
          "plot_bgcolor": "#E5ECF6",
          "polar": {
           "angularaxis": {
            "gridcolor": "white",
            "linecolor": "white",
            "ticks": ""
           },
           "bgcolor": "#E5ECF6",
           "radialaxis": {
            "gridcolor": "white",
            "linecolor": "white",
            "ticks": ""
           }
          },
          "scene": {
           "xaxis": {
            "backgroundcolor": "#E5ECF6",
            "gridcolor": "white",
            "gridwidth": 2,
            "linecolor": "white",
            "showbackground": true,
            "ticks": "",
            "zerolinecolor": "white"
           },
           "yaxis": {
            "backgroundcolor": "#E5ECF6",
            "gridcolor": "white",
            "gridwidth": 2,
            "linecolor": "white",
            "showbackground": true,
            "ticks": "",
            "zerolinecolor": "white"
           },
           "zaxis": {
            "backgroundcolor": "#E5ECF6",
            "gridcolor": "white",
            "gridwidth": 2,
            "linecolor": "white",
            "showbackground": true,
            "ticks": "",
            "zerolinecolor": "white"
           }
          },
          "shapedefaults": {
           "line": {
            "color": "#2a3f5f"
           }
          },
          "ternary": {
           "aaxis": {
            "gridcolor": "white",
            "linecolor": "white",
            "ticks": ""
           },
           "baxis": {
            "gridcolor": "white",
            "linecolor": "white",
            "ticks": ""
           },
           "bgcolor": "#E5ECF6",
           "caxis": {
            "gridcolor": "white",
            "linecolor": "white",
            "ticks": ""
           }
          },
          "title": {
           "x": 0.05
          },
          "xaxis": {
           "automargin": true,
           "gridcolor": "white",
           "linecolor": "white",
           "ticks": "",
           "title": {
            "standoff": 15
           },
           "zerolinecolor": "white",
           "zerolinewidth": 2
          },
          "yaxis": {
           "automargin": true,
           "gridcolor": "white",
           "linecolor": "white",
           "ticks": "",
           "title": {
            "standoff": 15
           },
           "zerolinecolor": "white",
           "zerolinewidth": 2
          }
         }
        },
        "title": {
         "text": "Hyperparameter Importances"
        },
        "xaxis": {
         "title": {
          "text": "Hyperparameter Importance"
         }
        },
        "yaxis": {
         "title": {
          "text": "Hyperparameter"
         }
        }
       }
      }
     },
     "metadata": {},
     "output_type": "display_data"
    },
    {
     "data": {
      "application/vnd.plotly.v1+json": {
       "config": {
        "plotlyServerURL": "https://plot.ly"
       },
       "data": [
        {
         "dimensions": [
          {
           "label": "Objective Value",
           "range": [
            -2.514730433011776,
            -1.5862559452073528
           ],
           "values": [
            -2.3406603804704003,
            -2.0895850786045305,
            -2.316933753442859,
            -2.0335313716428947,
            -2.3938883388709975,
            -2.181662405580609,
            -1.5939659066180376,
            -2.286258914619083,
            -1.6125775026649487,
            -1.6125775026649487,
            -1.6125775026649487,
            -1.6125775026649487,
            -1.6125775026649487,
            -1.6125775026649487,
            -1.627214324087367,
            -1.6125775026649487,
            -1.7381360006370732,
            -2.514730433011776,
            -1.7414943992052745,
            -1.6125775026649487,
            -1.6299320017423804,
            -1.6125775026649487,
            -1.6125775026649487,
            -1.6125775026649487,
            -1.9481421934789747,
            -1.6125775026649487,
            -2.2866026266352333,
            -1.6125775026649487,
            -1.6125775026649487,
            -1.5881787971746641,
            -2.3307426949357333,
            -1.5873728574496078,
            -1.8470596869708593,
            -1.5877358623997548,
            -1.5872655021291564,
            -1.9947167342487457,
            -2.2812739793925267,
            -2.088061990884383,
            -2.401684209289797,
            -2.3171094602755096,
            -1.694314557939815,
            -1.5862559452073528,
            -1.5914334091191413,
            -1.5918308655752043,
            -1.8978098457227504,
            -1.6125775026649487,
            -2.20692816099899,
            -1.6125775026649487,
            -1.6125775026649487,
            -1.6270528891687288
           ]
          },
          {
           "label": "alpha",
           "range": [
            -3.964451125572846,
            0.990610196806818
           ],
           "ticktext": [
            "0.000109",
            "0.001",
            "0.01",
            "0.1",
            "1",
            "9.79"
           ],
           "tickvals": [
            -3.964451125572846,
            -3,
            -2,
            -1,
            0,
            0.990610196806818
           ],
           "values": [
            -2.4885944123724264,
            -1.2632663146872605,
            -2.082599813672091,
            -1.1422243927815587,
            -3.638472683424085,
            -1.3840988573346038,
            -0.4252411259272291,
            -1.7089863751781613,
            0.001746940505220392,
            -0.06517171619311472,
            0.9400028424305338,
            0.04453077142364935,
            -0.15383691806828742,
            0.990610196806818,
            -0.5063875727730147,
            0.3678259161403974,
            -0.7242703284238211,
            -2.883481976034075,
            -0.7290893800921684,
            0.367993633861822,
            -0.527433188322092,
            0.33445419285937195,
            -0.12376128199591772,
            0.5730754866397241,
            -0.9809087194716186,
            -0.26084098125242355,
            -1.723267790718342,
            0.08348700188286631,
            0.6564627215598,
            -0.4035466052676903,
            -2.468015236090838,
            -0.40039868074991486,
            -0.825206448665379,
            -0.4017063740257161,
            -0.3761694384464587,
            -1.0757108652928082,
            -1.6468113315168178,
            -1.2610975551132737,
            -3.964451125572846,
            -2.101992259091545,
            -0.6520084106331497,
            -0.3878929573315585,
            -0.35384103329714894,
            -0.3520928431964041,
            -0.9058352554248015,
            0.15886365383125992,
            -1.407256589639022,
            -0.23339852569872166,
            0.6991665606182713,
            -0.5049507380264944
           ]
          }
         ],
         "labelangle": 30,
         "labelside": "bottom",
         "line": {
          "color": [
           -2.3406603804704003,
           -2.0895850786045305,
           -2.316933753442859,
           -2.0335313716428947,
           -2.3938883388709975,
           -2.181662405580609,
           -1.5939659066180376,
           -2.286258914619083,
           -1.6125775026649487,
           -1.6125775026649487,
           -1.6125775026649487,
           -1.6125775026649487,
           -1.6125775026649487,
           -1.6125775026649487,
           -1.627214324087367,
           -1.6125775026649487,
           -1.7381360006370732,
           -2.514730433011776,
           -1.7414943992052745,
           -1.6125775026649487,
           -1.6299320017423804,
           -1.6125775026649487,
           -1.6125775026649487,
           -1.6125775026649487,
           -1.9481421934789747,
           -1.6125775026649487,
           -2.2866026266352333,
           -1.6125775026649487,
           -1.6125775026649487,
           -1.5881787971746641,
           -2.3307426949357333,
           -1.5873728574496078,
           -1.8470596869708593,
           -1.5877358623997548,
           -1.5872655021291564,
           -1.9947167342487457,
           -2.2812739793925267,
           -2.088061990884383,
           -2.401684209289797,
           -2.3171094602755096,
           -1.694314557939815,
           -1.5862559452073528,
           -1.5914334091191413,
           -1.5918308655752043,
           -1.8978098457227504,
           -1.6125775026649487,
           -2.20692816099899,
           -1.6125775026649487,
           -1.6125775026649487,
           -1.6270528891687288
          ],
          "colorbar": {
           "title": {
            "text": "Objective Value"
           }
          },
          "colorscale": [
           [
            0,
            "rgb(247,251,255)"
           ],
           [
            0.125,
            "rgb(222,235,247)"
           ],
           [
            0.25,
            "rgb(198,219,239)"
           ],
           [
            0.375,
            "rgb(158,202,225)"
           ],
           [
            0.5,
            "rgb(107,174,214)"
           ],
           [
            0.625,
            "rgb(66,146,198)"
           ],
           [
            0.75,
            "rgb(33,113,181)"
           ],
           [
            0.875,
            "rgb(8,81,156)"
           ],
           [
            1,
            "rgb(8,48,107)"
           ]
          ],
          "reversescale": false,
          "showscale": true
         },
         "type": "parcoords"
        }
       ],
       "layout": {
        "template": {
         "data": {
          "bar": [
           {
            "error_x": {
             "color": "#2a3f5f"
            },
            "error_y": {
             "color": "#2a3f5f"
            },
            "marker": {
             "line": {
              "color": "#E5ECF6",
              "width": 0.5
             },
             "pattern": {
              "fillmode": "overlay",
              "size": 10,
              "solidity": 0.2
             }
            },
            "type": "bar"
           }
          ],
          "barpolar": [
           {
            "marker": {
             "line": {
              "color": "#E5ECF6",
              "width": 0.5
             },
             "pattern": {
              "fillmode": "overlay",
              "size": 10,
              "solidity": 0.2
             }
            },
            "type": "barpolar"
           }
          ],
          "carpet": [
           {
            "aaxis": {
             "endlinecolor": "#2a3f5f",
             "gridcolor": "white",
             "linecolor": "white",
             "minorgridcolor": "white",
             "startlinecolor": "#2a3f5f"
            },
            "baxis": {
             "endlinecolor": "#2a3f5f",
             "gridcolor": "white",
             "linecolor": "white",
             "minorgridcolor": "white",
             "startlinecolor": "#2a3f5f"
            },
            "type": "carpet"
           }
          ],
          "choropleth": [
           {
            "colorbar": {
             "outlinewidth": 0,
             "ticks": ""
            },
            "type": "choropleth"
           }
          ],
          "contour": [
           {
            "colorbar": {
             "outlinewidth": 0,
             "ticks": ""
            },
            "colorscale": [
             [
              0,
              "#0d0887"
             ],
             [
              0.1111111111111111,
              "#46039f"
             ],
             [
              0.2222222222222222,
              "#7201a8"
             ],
             [
              0.3333333333333333,
              "#9c179e"
             ],
             [
              0.4444444444444444,
              "#bd3786"
             ],
             [
              0.5555555555555556,
              "#d8576b"
             ],
             [
              0.6666666666666666,
              "#ed7953"
             ],
             [
              0.7777777777777778,
              "#fb9f3a"
             ],
             [
              0.8888888888888888,
              "#fdca26"
             ],
             [
              1,
              "#f0f921"
             ]
            ],
            "type": "contour"
           }
          ],
          "contourcarpet": [
           {
            "colorbar": {
             "outlinewidth": 0,
             "ticks": ""
            },
            "type": "contourcarpet"
           }
          ],
          "heatmap": [
           {
            "colorbar": {
             "outlinewidth": 0,
             "ticks": ""
            },
            "colorscale": [
             [
              0,
              "#0d0887"
             ],
             [
              0.1111111111111111,
              "#46039f"
             ],
             [
              0.2222222222222222,
              "#7201a8"
             ],
             [
              0.3333333333333333,
              "#9c179e"
             ],
             [
              0.4444444444444444,
              "#bd3786"
             ],
             [
              0.5555555555555556,
              "#d8576b"
             ],
             [
              0.6666666666666666,
              "#ed7953"
             ],
             [
              0.7777777777777778,
              "#fb9f3a"
             ],
             [
              0.8888888888888888,
              "#fdca26"
             ],
             [
              1,
              "#f0f921"
             ]
            ],
            "type": "heatmap"
           }
          ],
          "histogram": [
           {
            "marker": {
             "pattern": {
              "fillmode": "overlay",
              "size": 10,
              "solidity": 0.2
             }
            },
            "type": "histogram"
           }
          ],
          "histogram2d": [
           {
            "colorbar": {
             "outlinewidth": 0,
             "ticks": ""
            },
            "colorscale": [
             [
              0,
              "#0d0887"
             ],
             [
              0.1111111111111111,
              "#46039f"
             ],
             [
              0.2222222222222222,
              "#7201a8"
             ],
             [
              0.3333333333333333,
              "#9c179e"
             ],
             [
              0.4444444444444444,
              "#bd3786"
             ],
             [
              0.5555555555555556,
              "#d8576b"
             ],
             [
              0.6666666666666666,
              "#ed7953"
             ],
             [
              0.7777777777777778,
              "#fb9f3a"
             ],
             [
              0.8888888888888888,
              "#fdca26"
             ],
             [
              1,
              "#f0f921"
             ]
            ],
            "type": "histogram2d"
           }
          ],
          "histogram2dcontour": [
           {
            "colorbar": {
             "outlinewidth": 0,
             "ticks": ""
            },
            "colorscale": [
             [
              0,
              "#0d0887"
             ],
             [
              0.1111111111111111,
              "#46039f"
             ],
             [
              0.2222222222222222,
              "#7201a8"
             ],
             [
              0.3333333333333333,
              "#9c179e"
             ],
             [
              0.4444444444444444,
              "#bd3786"
             ],
             [
              0.5555555555555556,
              "#d8576b"
             ],
             [
              0.6666666666666666,
              "#ed7953"
             ],
             [
              0.7777777777777778,
              "#fb9f3a"
             ],
             [
              0.8888888888888888,
              "#fdca26"
             ],
             [
              1,
              "#f0f921"
             ]
            ],
            "type": "histogram2dcontour"
           }
          ],
          "mesh3d": [
           {
            "colorbar": {
             "outlinewidth": 0,
             "ticks": ""
            },
            "type": "mesh3d"
           }
          ],
          "parcoords": [
           {
            "line": {
             "colorbar": {
              "outlinewidth": 0,
              "ticks": ""
             }
            },
            "type": "parcoords"
           }
          ],
          "pie": [
           {
            "automargin": true,
            "type": "pie"
           }
          ],
          "scatter": [
           {
            "fillpattern": {
             "fillmode": "overlay",
             "size": 10,
             "solidity": 0.2
            },
            "type": "scatter"
           }
          ],
          "scatter3d": [
           {
            "line": {
             "colorbar": {
              "outlinewidth": 0,
              "ticks": ""
             }
            },
            "marker": {
             "colorbar": {
              "outlinewidth": 0,
              "ticks": ""
             }
            },
            "type": "scatter3d"
           }
          ],
          "scattercarpet": [
           {
            "marker": {
             "colorbar": {
              "outlinewidth": 0,
              "ticks": ""
             }
            },
            "type": "scattercarpet"
           }
          ],
          "scattergeo": [
           {
            "marker": {
             "colorbar": {
              "outlinewidth": 0,
              "ticks": ""
             }
            },
            "type": "scattergeo"
           }
          ],
          "scattergl": [
           {
            "marker": {
             "colorbar": {
              "outlinewidth": 0,
              "ticks": ""
             }
            },
            "type": "scattergl"
           }
          ],
          "scattermap": [
           {
            "marker": {
             "colorbar": {
              "outlinewidth": 0,
              "ticks": ""
             }
            },
            "type": "scattermap"
           }
          ],
          "scattermapbox": [
           {
            "marker": {
             "colorbar": {
              "outlinewidth": 0,
              "ticks": ""
             }
            },
            "type": "scattermapbox"
           }
          ],
          "scatterpolar": [
           {
            "marker": {
             "colorbar": {
              "outlinewidth": 0,
              "ticks": ""
             }
            },
            "type": "scatterpolar"
           }
          ],
          "scatterpolargl": [
           {
            "marker": {
             "colorbar": {
              "outlinewidth": 0,
              "ticks": ""
             }
            },
            "type": "scatterpolargl"
           }
          ],
          "scatterternary": [
           {
            "marker": {
             "colorbar": {
              "outlinewidth": 0,
              "ticks": ""
             }
            },
            "type": "scatterternary"
           }
          ],
          "surface": [
           {
            "colorbar": {
             "outlinewidth": 0,
             "ticks": ""
            },
            "colorscale": [
             [
              0,
              "#0d0887"
             ],
             [
              0.1111111111111111,
              "#46039f"
             ],
             [
              0.2222222222222222,
              "#7201a8"
             ],
             [
              0.3333333333333333,
              "#9c179e"
             ],
             [
              0.4444444444444444,
              "#bd3786"
             ],
             [
              0.5555555555555556,
              "#d8576b"
             ],
             [
              0.6666666666666666,
              "#ed7953"
             ],
             [
              0.7777777777777778,
              "#fb9f3a"
             ],
             [
              0.8888888888888888,
              "#fdca26"
             ],
             [
              1,
              "#f0f921"
             ]
            ],
            "type": "surface"
           }
          ],
          "table": [
           {
            "cells": {
             "fill": {
              "color": "#EBF0F8"
             },
             "line": {
              "color": "white"
             }
            },
            "header": {
             "fill": {
              "color": "#C8D4E3"
             },
             "line": {
              "color": "white"
             }
            },
            "type": "table"
           }
          ]
         },
         "layout": {
          "annotationdefaults": {
           "arrowcolor": "#2a3f5f",
           "arrowhead": 0,
           "arrowwidth": 1
          },
          "autotypenumbers": "strict",
          "coloraxis": {
           "colorbar": {
            "outlinewidth": 0,
            "ticks": ""
           }
          },
          "colorscale": {
           "diverging": [
            [
             0,
             "#8e0152"
            ],
            [
             0.1,
             "#c51b7d"
            ],
            [
             0.2,
             "#de77ae"
            ],
            [
             0.3,
             "#f1b6da"
            ],
            [
             0.4,
             "#fde0ef"
            ],
            [
             0.5,
             "#f7f7f7"
            ],
            [
             0.6,
             "#e6f5d0"
            ],
            [
             0.7,
             "#b8e186"
            ],
            [
             0.8,
             "#7fbc41"
            ],
            [
             0.9,
             "#4d9221"
            ],
            [
             1,
             "#276419"
            ]
           ],
           "sequential": [
            [
             0,
             "#0d0887"
            ],
            [
             0.1111111111111111,
             "#46039f"
            ],
            [
             0.2222222222222222,
             "#7201a8"
            ],
            [
             0.3333333333333333,
             "#9c179e"
            ],
            [
             0.4444444444444444,
             "#bd3786"
            ],
            [
             0.5555555555555556,
             "#d8576b"
            ],
            [
             0.6666666666666666,
             "#ed7953"
            ],
            [
             0.7777777777777778,
             "#fb9f3a"
            ],
            [
             0.8888888888888888,
             "#fdca26"
            ],
            [
             1,
             "#f0f921"
            ]
           ],
           "sequentialminus": [
            [
             0,
             "#0d0887"
            ],
            [
             0.1111111111111111,
             "#46039f"
            ],
            [
             0.2222222222222222,
             "#7201a8"
            ],
            [
             0.3333333333333333,
             "#9c179e"
            ],
            [
             0.4444444444444444,
             "#bd3786"
            ],
            [
             0.5555555555555556,
             "#d8576b"
            ],
            [
             0.6666666666666666,
             "#ed7953"
            ],
            [
             0.7777777777777778,
             "#fb9f3a"
            ],
            [
             0.8888888888888888,
             "#fdca26"
            ],
            [
             1,
             "#f0f921"
            ]
           ]
          },
          "colorway": [
           "#636efa",
           "#EF553B",
           "#00cc96",
           "#ab63fa",
           "#FFA15A",
           "#19d3f3",
           "#FF6692",
           "#B6E880",
           "#FF97FF",
           "#FECB52"
          ],
          "font": {
           "color": "#2a3f5f"
          },
          "geo": {
           "bgcolor": "white",
           "lakecolor": "white",
           "landcolor": "#E5ECF6",
           "showlakes": true,
           "showland": true,
           "subunitcolor": "white"
          },
          "hoverlabel": {
           "align": "left"
          },
          "hovermode": "closest",
          "mapbox": {
           "style": "light"
          },
          "paper_bgcolor": "white",
          "plot_bgcolor": "#E5ECF6",
          "polar": {
           "angularaxis": {
            "gridcolor": "white",
            "linecolor": "white",
            "ticks": ""
           },
           "bgcolor": "#E5ECF6",
           "radialaxis": {
            "gridcolor": "white",
            "linecolor": "white",
            "ticks": ""
           }
          },
          "scene": {
           "xaxis": {
            "backgroundcolor": "#E5ECF6",
            "gridcolor": "white",
            "gridwidth": 2,
            "linecolor": "white",
            "showbackground": true,
            "ticks": "",
            "zerolinecolor": "white"
           },
           "yaxis": {
            "backgroundcolor": "#E5ECF6",
            "gridcolor": "white",
            "gridwidth": 2,
            "linecolor": "white",
            "showbackground": true,
            "ticks": "",
            "zerolinecolor": "white"
           },
           "zaxis": {
            "backgroundcolor": "#E5ECF6",
            "gridcolor": "white",
            "gridwidth": 2,
            "linecolor": "white",
            "showbackground": true,
            "ticks": "",
            "zerolinecolor": "white"
           }
          },
          "shapedefaults": {
           "line": {
            "color": "#2a3f5f"
           }
          },
          "ternary": {
           "aaxis": {
            "gridcolor": "white",
            "linecolor": "white",
            "ticks": ""
           },
           "baxis": {
            "gridcolor": "white",
            "linecolor": "white",
            "ticks": ""
           },
           "bgcolor": "#E5ECF6",
           "caxis": {
            "gridcolor": "white",
            "linecolor": "white",
            "ticks": ""
           }
          },
          "title": {
           "x": 0.05
          },
          "xaxis": {
           "automargin": true,
           "gridcolor": "white",
           "linecolor": "white",
           "ticks": "",
           "title": {
            "standoff": 15
           },
           "zerolinecolor": "white",
           "zerolinewidth": 2
          },
          "yaxis": {
           "automargin": true,
           "gridcolor": "white",
           "linecolor": "white",
           "ticks": "",
           "title": {
            "standoff": 15
           },
           "zerolinecolor": "white",
           "zerolinewidth": 2
          }
         }
        },
        "title": {
         "text": "Parallel Coordinate Plot"
        }
       }
      }
     },
     "metadata": {},
     "output_type": "display_data"
    },
    {
     "data": {
      "application/vnd.plotly.v1+json": {
       "config": {
        "plotlyServerURL": "https://plot.ly"
       },
       "data": [
        {
         "marker": {
          "color": [
           0,
           1,
           2,
           3,
           4,
           5,
           6,
           7,
           8,
           9,
           10,
           11,
           12,
           13,
           14,
           15,
           16,
           17,
           18,
           19,
           20,
           21,
           22,
           23,
           24,
           25,
           26,
           27,
           28,
           29,
           30,
           31,
           32,
           33,
           34,
           35,
           36,
           37,
           38,
           39,
           40,
           41,
           42,
           43,
           44,
           45,
           46,
           47,
           48,
           49
          ],
          "colorbar": {
           "title": {
            "text": "Trial"
           },
           "x": 1,
           "xpad": 40
          },
          "colorscale": [
           [
            0,
            "rgb(247,251,255)"
           ],
           [
            0.125,
            "rgb(222,235,247)"
           ],
           [
            0.25,
            "rgb(198,219,239)"
           ],
           [
            0.375,
            "rgb(158,202,225)"
           ],
           [
            0.5,
            "rgb(107,174,214)"
           ],
           [
            0.625,
            "rgb(66,146,198)"
           ],
           [
            0.75,
            "rgb(33,113,181)"
           ],
           [
            0.875,
            "rgb(8,81,156)"
           ],
           [
            1,
            "rgb(8,48,107)"
           ]
          ],
          "line": {
           "color": "Grey",
           "width": 0.5
          }
         },
         "mode": "markers",
         "name": "Feasible Trial",
         "showlegend": false,
         "type": "scatter",
         "x": [
          0.003246426596097123,
          0.05454232982862997,
          0.008267994638444184,
          0.07207349911030816,
          0.000229893830504038,
          0.04129534917509442,
          0.3756287924060061,
          0.01954400768883654,
          1.0040305801934168,
          0.8606533901703,
          8.709692903775839,
          1.10797706700239,
          0.7017187513780635,
          9.786112336764797,
          0.311610746845845,
          2.332522899623346,
          0.1886816526628077,
          0.0013077298108242637,
          0.18659956195858102,
          2.3334238573619923,
          0.29687034124025397,
          2.1600021968750642,
          0.7520361510269553,
          3.7417561973527222,
          0.10449398228308182,
          0.5484777555909787,
          0.01891177138581842,
          1.2119564152604172,
          4.5338037939652605,
          0.3948693226236837,
          0.0034039624757569143,
          0.3977418773179583,
          0.1495524566132301,
          0.39654604794707626,
          0.420562515403877,
          0.08400190491848486,
          0.022552187233029593,
          0.054815381987363965,
          0.0001085297679477891,
          0.007906927212606855,
          0.2228391993370713,
          0.40936154462310437,
          0.44275040456723413,
          0.4445362246407611,
          0.12421234033425649,
          1.441662672411715,
          0.03915104967352528,
          0.5842537039011344,
          5.002263449993269,
          0.31264339780610706
         ],
         "y": [
          -2.3406603804704003,
          -2.0895850786045305,
          -2.316933753442859,
          -2.0335313716428947,
          -2.3938883388709975,
          -2.181662405580609,
          -1.5939659066180376,
          -2.286258914619083,
          -1.6125775026649487,
          -1.6125775026649487,
          -1.6125775026649487,
          -1.6125775026649487,
          -1.6125775026649487,
          -1.6125775026649487,
          -1.627214324087367,
          -1.6125775026649487,
          -1.7381360006370732,
          -2.514730433011776,
          -1.7414943992052745,
          -1.6125775026649487,
          -1.6299320017423804,
          -1.6125775026649487,
          -1.6125775026649487,
          -1.6125775026649487,
          -1.9481421934789747,
          -1.6125775026649487,
          -2.2866026266352333,
          -1.6125775026649487,
          -1.6125775026649487,
          -1.5881787971746641,
          -2.3307426949357333,
          -1.5873728574496078,
          -1.8470596869708593,
          -1.5877358623997548,
          -1.5872655021291564,
          -1.9947167342487457,
          -2.2812739793925267,
          -2.088061990884383,
          -2.401684209289797,
          -2.3171094602755096,
          -1.694314557939815,
          -1.5862559452073528,
          -1.5914334091191413,
          -1.5918308655752043,
          -1.8978098457227504,
          -1.6125775026649487,
          -2.20692816099899,
          -1.6125775026649487,
          -1.6125775026649487,
          -1.6270528891687288
         ]
        }
       ],
       "layout": {
        "template": {
         "data": {
          "bar": [
           {
            "error_x": {
             "color": "#2a3f5f"
            },
            "error_y": {
             "color": "#2a3f5f"
            },
            "marker": {
             "line": {
              "color": "#E5ECF6",
              "width": 0.5
             },
             "pattern": {
              "fillmode": "overlay",
              "size": 10,
              "solidity": 0.2
             }
            },
            "type": "bar"
           }
          ],
          "barpolar": [
           {
            "marker": {
             "line": {
              "color": "#E5ECF6",
              "width": 0.5
             },
             "pattern": {
              "fillmode": "overlay",
              "size": 10,
              "solidity": 0.2
             }
            },
            "type": "barpolar"
           }
          ],
          "carpet": [
           {
            "aaxis": {
             "endlinecolor": "#2a3f5f",
             "gridcolor": "white",
             "linecolor": "white",
             "minorgridcolor": "white",
             "startlinecolor": "#2a3f5f"
            },
            "baxis": {
             "endlinecolor": "#2a3f5f",
             "gridcolor": "white",
             "linecolor": "white",
             "minorgridcolor": "white",
             "startlinecolor": "#2a3f5f"
            },
            "type": "carpet"
           }
          ],
          "choropleth": [
           {
            "colorbar": {
             "outlinewidth": 0,
             "ticks": ""
            },
            "type": "choropleth"
           }
          ],
          "contour": [
           {
            "colorbar": {
             "outlinewidth": 0,
             "ticks": ""
            },
            "colorscale": [
             [
              0,
              "#0d0887"
             ],
             [
              0.1111111111111111,
              "#46039f"
             ],
             [
              0.2222222222222222,
              "#7201a8"
             ],
             [
              0.3333333333333333,
              "#9c179e"
             ],
             [
              0.4444444444444444,
              "#bd3786"
             ],
             [
              0.5555555555555556,
              "#d8576b"
             ],
             [
              0.6666666666666666,
              "#ed7953"
             ],
             [
              0.7777777777777778,
              "#fb9f3a"
             ],
             [
              0.8888888888888888,
              "#fdca26"
             ],
             [
              1,
              "#f0f921"
             ]
            ],
            "type": "contour"
           }
          ],
          "contourcarpet": [
           {
            "colorbar": {
             "outlinewidth": 0,
             "ticks": ""
            },
            "type": "contourcarpet"
           }
          ],
          "heatmap": [
           {
            "colorbar": {
             "outlinewidth": 0,
             "ticks": ""
            },
            "colorscale": [
             [
              0,
              "#0d0887"
             ],
             [
              0.1111111111111111,
              "#46039f"
             ],
             [
              0.2222222222222222,
              "#7201a8"
             ],
             [
              0.3333333333333333,
              "#9c179e"
             ],
             [
              0.4444444444444444,
              "#bd3786"
             ],
             [
              0.5555555555555556,
              "#d8576b"
             ],
             [
              0.6666666666666666,
              "#ed7953"
             ],
             [
              0.7777777777777778,
              "#fb9f3a"
             ],
             [
              0.8888888888888888,
              "#fdca26"
             ],
             [
              1,
              "#f0f921"
             ]
            ],
            "type": "heatmap"
           }
          ],
          "histogram": [
           {
            "marker": {
             "pattern": {
              "fillmode": "overlay",
              "size": 10,
              "solidity": 0.2
             }
            },
            "type": "histogram"
           }
          ],
          "histogram2d": [
           {
            "colorbar": {
             "outlinewidth": 0,
             "ticks": ""
            },
            "colorscale": [
             [
              0,
              "#0d0887"
             ],
             [
              0.1111111111111111,
              "#46039f"
             ],
             [
              0.2222222222222222,
              "#7201a8"
             ],
             [
              0.3333333333333333,
              "#9c179e"
             ],
             [
              0.4444444444444444,
              "#bd3786"
             ],
             [
              0.5555555555555556,
              "#d8576b"
             ],
             [
              0.6666666666666666,
              "#ed7953"
             ],
             [
              0.7777777777777778,
              "#fb9f3a"
             ],
             [
              0.8888888888888888,
              "#fdca26"
             ],
             [
              1,
              "#f0f921"
             ]
            ],
            "type": "histogram2d"
           }
          ],
          "histogram2dcontour": [
           {
            "colorbar": {
             "outlinewidth": 0,
             "ticks": ""
            },
            "colorscale": [
             [
              0,
              "#0d0887"
             ],
             [
              0.1111111111111111,
              "#46039f"
             ],
             [
              0.2222222222222222,
              "#7201a8"
             ],
             [
              0.3333333333333333,
              "#9c179e"
             ],
             [
              0.4444444444444444,
              "#bd3786"
             ],
             [
              0.5555555555555556,
              "#d8576b"
             ],
             [
              0.6666666666666666,
              "#ed7953"
             ],
             [
              0.7777777777777778,
              "#fb9f3a"
             ],
             [
              0.8888888888888888,
              "#fdca26"
             ],
             [
              1,
              "#f0f921"
             ]
            ],
            "type": "histogram2dcontour"
           }
          ],
          "mesh3d": [
           {
            "colorbar": {
             "outlinewidth": 0,
             "ticks": ""
            },
            "type": "mesh3d"
           }
          ],
          "parcoords": [
           {
            "line": {
             "colorbar": {
              "outlinewidth": 0,
              "ticks": ""
             }
            },
            "type": "parcoords"
           }
          ],
          "pie": [
           {
            "automargin": true,
            "type": "pie"
           }
          ],
          "scatter": [
           {
            "fillpattern": {
             "fillmode": "overlay",
             "size": 10,
             "solidity": 0.2
            },
            "type": "scatter"
           }
          ],
          "scatter3d": [
           {
            "line": {
             "colorbar": {
              "outlinewidth": 0,
              "ticks": ""
             }
            },
            "marker": {
             "colorbar": {
              "outlinewidth": 0,
              "ticks": ""
             }
            },
            "type": "scatter3d"
           }
          ],
          "scattercarpet": [
           {
            "marker": {
             "colorbar": {
              "outlinewidth": 0,
              "ticks": ""
             }
            },
            "type": "scattercarpet"
           }
          ],
          "scattergeo": [
           {
            "marker": {
             "colorbar": {
              "outlinewidth": 0,
              "ticks": ""
             }
            },
            "type": "scattergeo"
           }
          ],
          "scattergl": [
           {
            "marker": {
             "colorbar": {
              "outlinewidth": 0,
              "ticks": ""
             }
            },
            "type": "scattergl"
           }
          ],
          "scattermap": [
           {
            "marker": {
             "colorbar": {
              "outlinewidth": 0,
              "ticks": ""
             }
            },
            "type": "scattermap"
           }
          ],
          "scattermapbox": [
           {
            "marker": {
             "colorbar": {
              "outlinewidth": 0,
              "ticks": ""
             }
            },
            "type": "scattermapbox"
           }
          ],
          "scatterpolar": [
           {
            "marker": {
             "colorbar": {
              "outlinewidth": 0,
              "ticks": ""
             }
            },
            "type": "scatterpolar"
           }
          ],
          "scatterpolargl": [
           {
            "marker": {
             "colorbar": {
              "outlinewidth": 0,
              "ticks": ""
             }
            },
            "type": "scatterpolargl"
           }
          ],
          "scatterternary": [
           {
            "marker": {
             "colorbar": {
              "outlinewidth": 0,
              "ticks": ""
             }
            },
            "type": "scatterternary"
           }
          ],
          "surface": [
           {
            "colorbar": {
             "outlinewidth": 0,
             "ticks": ""
            },
            "colorscale": [
             [
              0,
              "#0d0887"
             ],
             [
              0.1111111111111111,
              "#46039f"
             ],
             [
              0.2222222222222222,
              "#7201a8"
             ],
             [
              0.3333333333333333,
              "#9c179e"
             ],
             [
              0.4444444444444444,
              "#bd3786"
             ],
             [
              0.5555555555555556,
              "#d8576b"
             ],
             [
              0.6666666666666666,
              "#ed7953"
             ],
             [
              0.7777777777777778,
              "#fb9f3a"
             ],
             [
              0.8888888888888888,
              "#fdca26"
             ],
             [
              1,
              "#f0f921"
             ]
            ],
            "type": "surface"
           }
          ],
          "table": [
           {
            "cells": {
             "fill": {
              "color": "#EBF0F8"
             },
             "line": {
              "color": "white"
             }
            },
            "header": {
             "fill": {
              "color": "#C8D4E3"
             },
             "line": {
              "color": "white"
             }
            },
            "type": "table"
           }
          ]
         },
         "layout": {
          "annotationdefaults": {
           "arrowcolor": "#2a3f5f",
           "arrowhead": 0,
           "arrowwidth": 1
          },
          "autotypenumbers": "strict",
          "coloraxis": {
           "colorbar": {
            "outlinewidth": 0,
            "ticks": ""
           }
          },
          "colorscale": {
           "diverging": [
            [
             0,
             "#8e0152"
            ],
            [
             0.1,
             "#c51b7d"
            ],
            [
             0.2,
             "#de77ae"
            ],
            [
             0.3,
             "#f1b6da"
            ],
            [
             0.4,
             "#fde0ef"
            ],
            [
             0.5,
             "#f7f7f7"
            ],
            [
             0.6,
             "#e6f5d0"
            ],
            [
             0.7,
             "#b8e186"
            ],
            [
             0.8,
             "#7fbc41"
            ],
            [
             0.9,
             "#4d9221"
            ],
            [
             1,
             "#276419"
            ]
           ],
           "sequential": [
            [
             0,
             "#0d0887"
            ],
            [
             0.1111111111111111,
             "#46039f"
            ],
            [
             0.2222222222222222,
             "#7201a8"
            ],
            [
             0.3333333333333333,
             "#9c179e"
            ],
            [
             0.4444444444444444,
             "#bd3786"
            ],
            [
             0.5555555555555556,
             "#d8576b"
            ],
            [
             0.6666666666666666,
             "#ed7953"
            ],
            [
             0.7777777777777778,
             "#fb9f3a"
            ],
            [
             0.8888888888888888,
             "#fdca26"
            ],
            [
             1,
             "#f0f921"
            ]
           ],
           "sequentialminus": [
            [
             0,
             "#0d0887"
            ],
            [
             0.1111111111111111,
             "#46039f"
            ],
            [
             0.2222222222222222,
             "#7201a8"
            ],
            [
             0.3333333333333333,
             "#9c179e"
            ],
            [
             0.4444444444444444,
             "#bd3786"
            ],
            [
             0.5555555555555556,
             "#d8576b"
            ],
            [
             0.6666666666666666,
             "#ed7953"
            ],
            [
             0.7777777777777778,
             "#fb9f3a"
            ],
            [
             0.8888888888888888,
             "#fdca26"
            ],
            [
             1,
             "#f0f921"
            ]
           ]
          },
          "colorway": [
           "#636efa",
           "#EF553B",
           "#00cc96",
           "#ab63fa",
           "#FFA15A",
           "#19d3f3",
           "#FF6692",
           "#B6E880",
           "#FF97FF",
           "#FECB52"
          ],
          "font": {
           "color": "#2a3f5f"
          },
          "geo": {
           "bgcolor": "white",
           "lakecolor": "white",
           "landcolor": "#E5ECF6",
           "showlakes": true,
           "showland": true,
           "subunitcolor": "white"
          },
          "hoverlabel": {
           "align": "left"
          },
          "hovermode": "closest",
          "mapbox": {
           "style": "light"
          },
          "paper_bgcolor": "white",
          "plot_bgcolor": "#E5ECF6",
          "polar": {
           "angularaxis": {
            "gridcolor": "white",
            "linecolor": "white",
            "ticks": ""
           },
           "bgcolor": "#E5ECF6",
           "radialaxis": {
            "gridcolor": "white",
            "linecolor": "white",
            "ticks": ""
           }
          },
          "scene": {
           "xaxis": {
            "backgroundcolor": "#E5ECF6",
            "gridcolor": "white",
            "gridwidth": 2,
            "linecolor": "white",
            "showbackground": true,
            "ticks": "",
            "zerolinecolor": "white"
           },
           "yaxis": {
            "backgroundcolor": "#E5ECF6",
            "gridcolor": "white",
            "gridwidth": 2,
            "linecolor": "white",
            "showbackground": true,
            "ticks": "",
            "zerolinecolor": "white"
           },
           "zaxis": {
            "backgroundcolor": "#E5ECF6",
            "gridcolor": "white",
            "gridwidth": 2,
            "linecolor": "white",
            "showbackground": true,
            "ticks": "",
            "zerolinecolor": "white"
           }
          },
          "shapedefaults": {
           "line": {
            "color": "#2a3f5f"
           }
          },
          "ternary": {
           "aaxis": {
            "gridcolor": "white",
            "linecolor": "white",
            "ticks": ""
           },
           "baxis": {
            "gridcolor": "white",
            "linecolor": "white",
            "ticks": ""
           },
           "bgcolor": "#E5ECF6",
           "caxis": {
            "gridcolor": "white",
            "linecolor": "white",
            "ticks": ""
           }
          },
          "title": {
           "x": 0.05
          },
          "xaxis": {
           "automargin": true,
           "gridcolor": "white",
           "linecolor": "white",
           "ticks": "",
           "title": {
            "standoff": 15
           },
           "zerolinecolor": "white",
           "zerolinewidth": 2
          },
          "yaxis": {
           "automargin": true,
           "gridcolor": "white",
           "linecolor": "white",
           "ticks": "",
           "title": {
            "standoff": 15
           },
           "zerolinecolor": "white",
           "zerolinewidth": 2
          }
         }
        },
        "title": {
         "text": "Slice Plot"
        },
        "xaxis": {
         "title": {
          "text": "alpha"
         },
         "type": "log"
        },
        "yaxis": {
         "title": {
          "text": "Objective Value"
         }
        }
       }
      }
     },
     "metadata": {},
     "output_type": "display_data"
    },
    {
     "data": {
      "application/vnd.plotly.v1+json": {
       "config": {
        "plotlyServerURL": "https://plot.ly"
       },
       "data": [],
       "layout": {
        "template": {
         "data": {
          "bar": [
           {
            "error_x": {
             "color": "#2a3f5f"
            },
            "error_y": {
             "color": "#2a3f5f"
            },
            "marker": {
             "line": {
              "color": "#E5ECF6",
              "width": 0.5
             },
             "pattern": {
              "fillmode": "overlay",
              "size": 10,
              "solidity": 0.2
             }
            },
            "type": "bar"
           }
          ],
          "barpolar": [
           {
            "marker": {
             "line": {
              "color": "#E5ECF6",
              "width": 0.5
             },
             "pattern": {
              "fillmode": "overlay",
              "size": 10,
              "solidity": 0.2
             }
            },
            "type": "barpolar"
           }
          ],
          "carpet": [
           {
            "aaxis": {
             "endlinecolor": "#2a3f5f",
             "gridcolor": "white",
             "linecolor": "white",
             "minorgridcolor": "white",
             "startlinecolor": "#2a3f5f"
            },
            "baxis": {
             "endlinecolor": "#2a3f5f",
             "gridcolor": "white",
             "linecolor": "white",
             "minorgridcolor": "white",
             "startlinecolor": "#2a3f5f"
            },
            "type": "carpet"
           }
          ],
          "choropleth": [
           {
            "colorbar": {
             "outlinewidth": 0,
             "ticks": ""
            },
            "type": "choropleth"
           }
          ],
          "contour": [
           {
            "colorbar": {
             "outlinewidth": 0,
             "ticks": ""
            },
            "colorscale": [
             [
              0,
              "#0d0887"
             ],
             [
              0.1111111111111111,
              "#46039f"
             ],
             [
              0.2222222222222222,
              "#7201a8"
             ],
             [
              0.3333333333333333,
              "#9c179e"
             ],
             [
              0.4444444444444444,
              "#bd3786"
             ],
             [
              0.5555555555555556,
              "#d8576b"
             ],
             [
              0.6666666666666666,
              "#ed7953"
             ],
             [
              0.7777777777777778,
              "#fb9f3a"
             ],
             [
              0.8888888888888888,
              "#fdca26"
             ],
             [
              1,
              "#f0f921"
             ]
            ],
            "type": "contour"
           }
          ],
          "contourcarpet": [
           {
            "colorbar": {
             "outlinewidth": 0,
             "ticks": ""
            },
            "type": "contourcarpet"
           }
          ],
          "heatmap": [
           {
            "colorbar": {
             "outlinewidth": 0,
             "ticks": ""
            },
            "colorscale": [
             [
              0,
              "#0d0887"
             ],
             [
              0.1111111111111111,
              "#46039f"
             ],
             [
              0.2222222222222222,
              "#7201a8"
             ],
             [
              0.3333333333333333,
              "#9c179e"
             ],
             [
              0.4444444444444444,
              "#bd3786"
             ],
             [
              0.5555555555555556,
              "#d8576b"
             ],
             [
              0.6666666666666666,
              "#ed7953"
             ],
             [
              0.7777777777777778,
              "#fb9f3a"
             ],
             [
              0.8888888888888888,
              "#fdca26"
             ],
             [
              1,
              "#f0f921"
             ]
            ],
            "type": "heatmap"
           }
          ],
          "histogram": [
           {
            "marker": {
             "pattern": {
              "fillmode": "overlay",
              "size": 10,
              "solidity": 0.2
             }
            },
            "type": "histogram"
           }
          ],
          "histogram2d": [
           {
            "colorbar": {
             "outlinewidth": 0,
             "ticks": ""
            },
            "colorscale": [
             [
              0,
              "#0d0887"
             ],
             [
              0.1111111111111111,
              "#46039f"
             ],
             [
              0.2222222222222222,
              "#7201a8"
             ],
             [
              0.3333333333333333,
              "#9c179e"
             ],
             [
              0.4444444444444444,
              "#bd3786"
             ],
             [
              0.5555555555555556,
              "#d8576b"
             ],
             [
              0.6666666666666666,
              "#ed7953"
             ],
             [
              0.7777777777777778,
              "#fb9f3a"
             ],
             [
              0.8888888888888888,
              "#fdca26"
             ],
             [
              1,
              "#f0f921"
             ]
            ],
            "type": "histogram2d"
           }
          ],
          "histogram2dcontour": [
           {
            "colorbar": {
             "outlinewidth": 0,
             "ticks": ""
            },
            "colorscale": [
             [
              0,
              "#0d0887"
             ],
             [
              0.1111111111111111,
              "#46039f"
             ],
             [
              0.2222222222222222,
              "#7201a8"
             ],
             [
              0.3333333333333333,
              "#9c179e"
             ],
             [
              0.4444444444444444,
              "#bd3786"
             ],
             [
              0.5555555555555556,
              "#d8576b"
             ],
             [
              0.6666666666666666,
              "#ed7953"
             ],
             [
              0.7777777777777778,
              "#fb9f3a"
             ],
             [
              0.8888888888888888,
              "#fdca26"
             ],
             [
              1,
              "#f0f921"
             ]
            ],
            "type": "histogram2dcontour"
           }
          ],
          "mesh3d": [
           {
            "colorbar": {
             "outlinewidth": 0,
             "ticks": ""
            },
            "type": "mesh3d"
           }
          ],
          "parcoords": [
           {
            "line": {
             "colorbar": {
              "outlinewidth": 0,
              "ticks": ""
             }
            },
            "type": "parcoords"
           }
          ],
          "pie": [
           {
            "automargin": true,
            "type": "pie"
           }
          ],
          "scatter": [
           {
            "fillpattern": {
             "fillmode": "overlay",
             "size": 10,
             "solidity": 0.2
            },
            "type": "scatter"
           }
          ],
          "scatter3d": [
           {
            "line": {
             "colorbar": {
              "outlinewidth": 0,
              "ticks": ""
             }
            },
            "marker": {
             "colorbar": {
              "outlinewidth": 0,
              "ticks": ""
             }
            },
            "type": "scatter3d"
           }
          ],
          "scattercarpet": [
           {
            "marker": {
             "colorbar": {
              "outlinewidth": 0,
              "ticks": ""
             }
            },
            "type": "scattercarpet"
           }
          ],
          "scattergeo": [
           {
            "marker": {
             "colorbar": {
              "outlinewidth": 0,
              "ticks": ""
             }
            },
            "type": "scattergeo"
           }
          ],
          "scattergl": [
           {
            "marker": {
             "colorbar": {
              "outlinewidth": 0,
              "ticks": ""
             }
            },
            "type": "scattergl"
           }
          ],
          "scattermap": [
           {
            "marker": {
             "colorbar": {
              "outlinewidth": 0,
              "ticks": ""
             }
            },
            "type": "scattermap"
           }
          ],
          "scattermapbox": [
           {
            "marker": {
             "colorbar": {
              "outlinewidth": 0,
              "ticks": ""
             }
            },
            "type": "scattermapbox"
           }
          ],
          "scatterpolar": [
           {
            "marker": {
             "colorbar": {
              "outlinewidth": 0,
              "ticks": ""
             }
            },
            "type": "scatterpolar"
           }
          ],
          "scatterpolargl": [
           {
            "marker": {
             "colorbar": {
              "outlinewidth": 0,
              "ticks": ""
             }
            },
            "type": "scatterpolargl"
           }
          ],
          "scatterternary": [
           {
            "marker": {
             "colorbar": {
              "outlinewidth": 0,
              "ticks": ""
             }
            },
            "type": "scatterternary"
           }
          ],
          "surface": [
           {
            "colorbar": {
             "outlinewidth": 0,
             "ticks": ""
            },
            "colorscale": [
             [
              0,
              "#0d0887"
             ],
             [
              0.1111111111111111,
              "#46039f"
             ],
             [
              0.2222222222222222,
              "#7201a8"
             ],
             [
              0.3333333333333333,
              "#9c179e"
             ],
             [
              0.4444444444444444,
              "#bd3786"
             ],
             [
              0.5555555555555556,
              "#d8576b"
             ],
             [
              0.6666666666666666,
              "#ed7953"
             ],
             [
              0.7777777777777778,
              "#fb9f3a"
             ],
             [
              0.8888888888888888,
              "#fdca26"
             ],
             [
              1,
              "#f0f921"
             ]
            ],
            "type": "surface"
           }
          ],
          "table": [
           {
            "cells": {
             "fill": {
              "color": "#EBF0F8"
             },
             "line": {
              "color": "white"
             }
            },
            "header": {
             "fill": {
              "color": "#C8D4E3"
             },
             "line": {
              "color": "white"
             }
            },
            "type": "table"
           }
          ]
         },
         "layout": {
          "annotationdefaults": {
           "arrowcolor": "#2a3f5f",
           "arrowhead": 0,
           "arrowwidth": 1
          },
          "autotypenumbers": "strict",
          "coloraxis": {
           "colorbar": {
            "outlinewidth": 0,
            "ticks": ""
           }
          },
          "colorscale": {
           "diverging": [
            [
             0,
             "#8e0152"
            ],
            [
             0.1,
             "#c51b7d"
            ],
            [
             0.2,
             "#de77ae"
            ],
            [
             0.3,
             "#f1b6da"
            ],
            [
             0.4,
             "#fde0ef"
            ],
            [
             0.5,
             "#f7f7f7"
            ],
            [
             0.6,
             "#e6f5d0"
            ],
            [
             0.7,
             "#b8e186"
            ],
            [
             0.8,
             "#7fbc41"
            ],
            [
             0.9,
             "#4d9221"
            ],
            [
             1,
             "#276419"
            ]
           ],
           "sequential": [
            [
             0,
             "#0d0887"
            ],
            [
             0.1111111111111111,
             "#46039f"
            ],
            [
             0.2222222222222222,
             "#7201a8"
            ],
            [
             0.3333333333333333,
             "#9c179e"
            ],
            [
             0.4444444444444444,
             "#bd3786"
            ],
            [
             0.5555555555555556,
             "#d8576b"
            ],
            [
             0.6666666666666666,
             "#ed7953"
            ],
            [
             0.7777777777777778,
             "#fb9f3a"
            ],
            [
             0.8888888888888888,
             "#fdca26"
            ],
            [
             1,
             "#f0f921"
            ]
           ],
           "sequentialminus": [
            [
             0,
             "#0d0887"
            ],
            [
             0.1111111111111111,
             "#46039f"
            ],
            [
             0.2222222222222222,
             "#7201a8"
            ],
            [
             0.3333333333333333,
             "#9c179e"
            ],
            [
             0.4444444444444444,
             "#bd3786"
            ],
            [
             0.5555555555555556,
             "#d8576b"
            ],
            [
             0.6666666666666666,
             "#ed7953"
            ],
            [
             0.7777777777777778,
             "#fb9f3a"
            ],
            [
             0.8888888888888888,
             "#fdca26"
            ],
            [
             1,
             "#f0f921"
            ]
           ]
          },
          "colorway": [
           "#636efa",
           "#EF553B",
           "#00cc96",
           "#ab63fa",
           "#FFA15A",
           "#19d3f3",
           "#FF6692",
           "#B6E880",
           "#FF97FF",
           "#FECB52"
          ],
          "font": {
           "color": "#2a3f5f"
          },
          "geo": {
           "bgcolor": "white",
           "lakecolor": "white",
           "landcolor": "#E5ECF6",
           "showlakes": true,
           "showland": true,
           "subunitcolor": "white"
          },
          "hoverlabel": {
           "align": "left"
          },
          "hovermode": "closest",
          "mapbox": {
           "style": "light"
          },
          "paper_bgcolor": "white",
          "plot_bgcolor": "#E5ECF6",
          "polar": {
           "angularaxis": {
            "gridcolor": "white",
            "linecolor": "white",
            "ticks": ""
           },
           "bgcolor": "#E5ECF6",
           "radialaxis": {
            "gridcolor": "white",
            "linecolor": "white",
            "ticks": ""
           }
          },
          "scene": {
           "xaxis": {
            "backgroundcolor": "#E5ECF6",
            "gridcolor": "white",
            "gridwidth": 2,
            "linecolor": "white",
            "showbackground": true,
            "ticks": "",
            "zerolinecolor": "white"
           },
           "yaxis": {
            "backgroundcolor": "#E5ECF6",
            "gridcolor": "white",
            "gridwidth": 2,
            "linecolor": "white",
            "showbackground": true,
            "ticks": "",
            "zerolinecolor": "white"
           },
           "zaxis": {
            "backgroundcolor": "#E5ECF6",
            "gridcolor": "white",
            "gridwidth": 2,
            "linecolor": "white",
            "showbackground": true,
            "ticks": "",
            "zerolinecolor": "white"
           }
          },
          "shapedefaults": {
           "line": {
            "color": "#2a3f5f"
           }
          },
          "ternary": {
           "aaxis": {
            "gridcolor": "white",
            "linecolor": "white",
            "ticks": ""
           },
           "baxis": {
            "gridcolor": "white",
            "linecolor": "white",
            "ticks": ""
           },
           "bgcolor": "#E5ECF6",
           "caxis": {
            "gridcolor": "white",
            "linecolor": "white",
            "ticks": ""
           }
          },
          "title": {
           "x": 0.05
          },
          "xaxis": {
           "automargin": true,
           "gridcolor": "white",
           "linecolor": "white",
           "ticks": "",
           "title": {
            "standoff": 15
           },
           "zerolinecolor": "white",
           "zerolinewidth": 2
          },
          "yaxis": {
           "automargin": true,
           "gridcolor": "white",
           "linecolor": "white",
           "ticks": "",
           "title": {
            "standoff": 15
           },
           "zerolinecolor": "white",
           "zerolinewidth": 2
          }
         }
        },
        "title": {
         "text": "Contour Plot"
        }
       }
      }
     },
     "metadata": {},
     "output_type": "display_data"
    }
   ],
   "source": [
    "# Example: visualize from results\n",
    "study = results[0][\"Study\"]  # Pick any model\n",
    "\n",
    "# 1. Optimization History (MSE over trials)\n",
    "vis.plot_optimization_history(study).show()\n",
    "\n",
    "# 2. Hyperparameter Importance\n",
    "vis.plot_param_importances(study).show()\n",
    "\n",
    "# 3. Parallel Coordinates Plot\n",
    "vis.plot_parallel_coordinate(study).show()\n",
    "\n",
    "# 4. Slice Plot (effect of individual params on score)\n",
    "vis.plot_slice(study).show()\n",
    "\n",
    "# 5. Contour Plot (for interactions between two params)\n",
    "vis.plot_contour(study).show()\n"
   ]
  },
  {
   "cell_type": "code",
   "execution_count": 25,
   "id": "edaf4fe3",
   "metadata": {},
   "outputs": [
    {
     "data": {
      "image/png": "[encoded data removed]",
      "text/plain": [
       "<Figure size 1400x700 with 1 Axes>"
      ]
     },
     "metadata": {},
     "output_type": "display_data"
    },
    {
     "data": {
      "image/png": "[encoded data removed]",
      "text/plain": [
       "<Figure size 1400x700 with 1 Axes>"
      ]
     },
     "metadata": {},
     "output_type": "display_data"
    }
   ],
   "source": [
    "# First, expand all trials with model info\n",
    "all_trials = []\n",
    "\n",
    "for _, row in df_results.iterrows():\n",
    "    df_temp = row[\"Trials\"].copy()\n",
    "    df_temp[\"Model_full\"] = row[\"Model\"]  # full string like \"Lasso Regression (K=3)\"\n",
    "    all_trials.append(df_temp)\n",
    "\n",
    "df_all = pd.concat(all_trials, ignore_index=True)\n",
    "\n",
    "# Extract model family and k from Model_full string\n",
    "import re\n",
    "\n",
    "def extract_info(model_str):\n",
    "    # Example input: \"Lasso Regression (K=3)\"\n",
    "    match = re.match(r\"(.+?)\\s+\\(K=(\\d+)\\)\", model_str)\n",
    "    if match:\n",
    "        return match.group(1), int(match.group(2))\n",
    "    else:\n",
    "        # fallback if no match found\n",
    "        return model_str, None\n",
    "\n",
    "df_all[[\"Model\", \"k\"]] = df_all[\"Model_full\"].apply(lambda x: pd.Series(extract_info(x)))\n",
    "\n",
    "# Now plot for each model family, showing lines for different k\n",
    "import matplotlib.pyplot as plt\n",
    "import seaborn as sns\n",
    "\n",
    "model_families = df_all[\"Model\"].unique()\n",
    "\n",
    "for model in model_families:\n",
    "    plt.figure(figsize=(14, 7))\n",
    "    df_subset = df_all[df_all[\"Model\"] == model]\n",
    "    sns.lineplot(data=df_subset, x=\"number\", y=\"value\", hue=\"k\", marker=\"o\")\n",
    "    plt.title(f\"Trial Objective Values Over Time — {model}\")\n",
    "    plt.xlabel(\"Trial Number\")\n",
    "    plt.ylabel(\"Objective (neg MSE)\")\n",
    "    plt.legend(title=\"k value\")\n",
    "    plt.tight_layout()\n",
    "    plt.show()\n"
   ]
  },
  {
   "cell_type": "markdown",
   "id": "b8c6082e",
   "metadata": {},
   "source": [
    "###  Distribution of Objective Values"
   ]
  },
  {
   "cell_type": "code",
   "execution_count": 13,
   "id": "e7821b3b",
   "metadata": {},
   "outputs": [
    {
     "data": {
      "image/png": "[encoded data removed]",
      "text/plain": [
       "<Figure size 1000x500 with 1 Axes>"
      ]
     },
     "metadata": {},
     "output_type": "display_data"
    }
   ],
   "source": [
    "all_trials_df = pd.concat([res[\"Trials\"] for res in results], ignore_index=True)\n",
    "\n",
    "plt.figure(figsize=(10,5))\n",
    "sns.histplot(all_trials_df[\"value\"], bins=20, kde=True, color='skyblue')\n",
    "plt.title(\"Distribution of Objective Values Across All Trials\")\n",
    "plt.xlabel(\"Objective Value\")\n",
    "plt.ylabel(\"Frequency\")\n",
    "plt.tight_layout()\n",
    "plt.show()\n"
   ]
  },
  {
   "cell_type": "markdown",
   "id": "85da187c",
   "metadata": {},
   "source": [
    "###  Alpha vs Performance (from Optuna Trials)"
   ]
  },
  {
   "cell_type": "code",
   "execution_count": 14,
   "id": "b6187095",
   "metadata": {},
   "outputs": [
    {
     "data": {
      "image/png": "[encoded data removed]",
      "text/plain": [
       "<Figure size 640x480 with 1 Axes>"
      ]
     },
     "metadata": {},
     "output_type": "display_data"
    }
   ],
   "source": [
    "# Assuming you have optuna study object\n",
    "df_trials = study.trials_dataframe()\n",
    "sns.scatterplot(data=df_trials, x='params_alpha', y='value')\n",
    "plt.title('Alpha vs Negative MSE')\n",
    "plt.xlabel('Alpha')\n",
    "plt.ylabel('Neg MSE')\n",
    "plt.xscale('log')\n",
    "plt.grid(True)\n",
    "plt.show()\n"
   ]
  }
 ],
 "metadata": {
  "kernelspec": {
   "display_name": "Python 3",
   "language": "python",
   "name": "python3"
  },
  "language_info": {
   "codemirror_mode": {
    "name": "ipython",
    "version": 3
   },
   "file_extension": ".py",
   "mimetype": "text/x-python",
   "name": "python",
   "nbconvert_exporter": "python",
   "pygments_lexer": "ipython3",
   "version": "3.10.11"
  }
 },
 "nbformat": 4,
 "nbformat_minor": 5
}
