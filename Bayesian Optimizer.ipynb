{
 "cells": [
  {
   "cell_type": "code",
   "execution_count": 1,
   "id": "c6f5e131",
   "metadata": {},
   "outputs": [],
   "source": [
    "import pandas as pd\n",
    "import numpy as np\n",
    "from sklearn.model_selection import train_test_split, KFold\n",
    "from sklearn.metrics import make_scorer, mean_squared_error, mean_absolute_error, r2_score\n",
    "from sklearn.linear_model import LinearRegression, Lasso\n",
    "from sklearn.tree import DecisionTreeRegressor\n",
    "from sklearn.ensemble import RandomForestRegressor, GradientBoostingRegressor\n",
    "import matplotlib.pyplot as plt\n",
    "import seaborn as sns\n",
    "from skopt import BayesSearchCV\n",
    "from skopt.space import Real, Integer, Categorical\n",
    "import joblib\n",
    "import os\n",
    "\n",
    "\n",
    "import warnings\n",
    "warnings.filterwarnings('ignore')"
   ]
  },
  {
   "cell_type": "markdown",
   "id": "6c9458fe",
   "metadata": {},
   "source": [
    "# Bayesian Optimizer"
   ]
  },
  {
   "cell_type": "code",
   "execution_count": null,
   "id": "191820ff",
   "metadata": {},
   "outputs": [],
   "source": [
    "\n",
    "\n",
    "# Define models\n",
    "def get_models():\n",
    "    return {\n",
    "        \"Linear Regression\": LinearRegression(n_jobs=1),\n",
    "        \"Decision Tree\": DecisionTreeRegressor(),\n",
    "        \"Random Forest\": RandomForestRegressor(n_jobs=1),\n",
    "        \"Gradient Boosting\": GradientBoostingRegressor(),\n",
    "        \"Lasso Regression\": Lasso(),\n",
    "    }\n",
    "\n",
    "# Define scoring metrics\n",
    "def get_scoring():\n",
    "    return {\n",
    "        'MSE': make_scorer(mean_squared_error, greater_is_better=False),\n",
    "        'MAE': make_scorer(mean_absolute_error, greater_is_better=False),\n",
    "        'R2': make_scorer(r2_score)\n",
    "    }\n",
    "\n",
    "# Bayesian search space\n",
    "def get_param_spaces():\n",
    "    return {\n",
    "        \"Linear Regression\": {},\n",
    "        \"Decision Tree\": {\n",
    "            'max_depth': Integer(1, 20)\n",
    "        },\n",
    "        \"Random Forest\": {\n",
    "            'n_estimators': Integer(10, 200),\n",
    "            'max_depth': Integer(3, 20)\n",
    "        },\n",
    "        \"Gradient Boosting\": {\n",
    "            'n_estimators': Integer(10, 200),\n",
    "            'learning_rate': Real(0.001, 1.0, prior='log-uniform')\n",
    "        },\n",
    "        \"Lasso Regression\": {\n",
    "            'alpha': Real(1e-4, 1e1, prior='log-uniform')\n",
    "        }\n",
    "    }\n",
    "\n",
    "# Create Bayesian SearchCV setup\n",
    "def create_bayesian_searches(X, y, k_values):\n",
    "    searches = {}\n",
    "    models = get_models()\n",
    "    param_spaces = get_param_spaces()\n",
    "\n",
    "    for model_name, model in models.items():\n",
    "        for k in k_values:\n",
    "            cv = KFold(n_splits=k, shuffle=True, random_state=42)\n",
    "            search = BayesSearchCV(\n",
    "                estimator=model,\n",
    "                search_spaces=param_spaces.get(model_name, {}),\n",
    "                scoring='r2',\n",
    "                cv=cv,\n",
    "                n_iter=32,\n",
    "                n_jobs=-1,\n",
    "                verbose=2,\n",
    "                random_state=42\n",
    "            )\n",
    "            key = f\"{model_name} (K={k})\"\n",
    "            searches[key] = search\n",
    "    return searches\n"
   ]
  },
  {
   "cell_type": "code",
   "execution_count": null,
   "id": "5c0b662b",
   "metadata": {},
   "outputs": [],
   "source": [
    "param_grids = {\n",
    "    \"Linear Regression\": {},\n",
    "    \"Decision Tree\": {\n",
    "        \"max_depth\": [3, 5, 7, None]\n",
    "    },\n",
    "    \"Random Forest\": {\n",
    "        \"n_estimators\": [50, 100],\n",
    "        \"max_depth\": [5, 10]\n",
    "    },\n",
    "    \"Gradient Boosting\": {\n",
    "        \"n_estimators\": [50, 100],\n",
    "        \"learning_rate\": [0.01, 0.1]\n",
    "    },\n",
    "    \"Lasso Regression\": {\n",
    "        \"alpha\": [0.01, 0.1, 1.0, 10.0]\n",
    "    }\n",
    "    # \"XGBoost\": {\n",
    "    #     \"n_estimators\": [50, 100],\n",
    "    #     \"max_depth\": [3, 5],\n",
    "    #     \"learning_rate\": [0.01, 0.1]\n",
    "    # },\n",
    "    # \"LightGBM\": {\n",
    "    #     \"n_estimators\": [50, 100],\n",
    "    #     \"learning_rate\": [0.01, 0.1],\n",
    "    #     \"num_leaves\": [31, 50]\n",
    "    # },\n",
    "    # \"CatBoost\": {\n",
    "    #     \"iterations\": [100, 200],\n",
    "    #     \"learning_rate\": [0.01, 0.1],\n",
    "    #     \"depth\": [4, 6]\n",
    "    # }\n",
    "}"
   ]
  },
  {
   "cell_type": "code",
   "execution_count": null,
   "id": "f41c1702",
   "metadata": {},
   "outputs": [],
   "source": [
    "def train_with_progress_bayesian(searches, X, y, save_dir=\"saved_models_bayes\"):\n",
    "    all_results = []\n",
    "\n",
    "    # Create directory to save models\n",
    "    os.makedirs(save_dir, exist_ok=True)\n",
    "\n",
    "    total_tasks = len(searches)\n",
    "    pbar = tqdm(total=total_tasks, desc=\"Bayesian Training\", ncols=100)\n",
    "\n",
    "    for name, search in searches.items():\n",
    "        print(f\"\\n🔍 Training with Bayesian Optimization: {name}\")\n",
    "        start_time = time.time()\n",
    "\n",
    "        # Fit model\n",
    "        search.fit(X, y)\n",
    "\n",
    "        best_model = search.best_estimator_\n",
    "        best_params = search.best_params_\n",
    "\n",
    "        # Predict on training set\n",
    "        y_pred = best_model.predict(X)\n",
    "\n",
    "        mean_mse = mean_squared_error(y, y_pred)\n",
    "        mean_mae = mean_absolute_error(y, y_pred)\n",
    "        mean_r2  = r2_score(y, y_pred)\n",
    "\n",
    "        # Save the model\n",
    "        safe_model_name = name.replace(\" \", \"_\").replace(\"(\", \"\").replace(\")\", \"\").replace(\"=\", \"\")\n",
    "        model_path = os.path.join(save_dir, f\"{safe_model_name}.pkl\")\n",
    "        joblib.dump(best_model, model_path)\n",
    "\n",
    "        # Record results\n",
    "        all_results.append({\n",
    "            \"Model\": name,\n",
    "            \"Best Params\": best_params,\n",
    "            \"MSE\": mean_mse,\n",
    "            \"MAE\": mean_mae,\n",
    "            \"R2\": mean_r2,\n",
    "            \"Training Time (s)\": round(time.time() - start_time, 2)\n",
    "        })\n",
    "\n",
    "        pbar.update(1)\n",
    "\n",
    "    pbar.close()\n",
    "\n",
    "    # Save results as DataFrame\n",
    "    results_df = pd.DataFrame(all_results)\n",
    "    results_df = results_df.sort_values(by=\"R2\", ascending=False)\n",
    "    return results_df\n"
   ]
  },
  {
   "cell_type": "code",
   "execution_count": null,
   "id": "3ab38d21",
   "metadata": {},
   "outputs": [
    {
     "name": "stderr",
     "output_type": "stream",
     "text": [
      "Training Models:   0%|                                                       | 0/15 [00:00<?, ?it/s]"
     ]
    },
    {
     "name": "stdout",
     "output_type": "stream",
     "text": [
      "\n",
      "🔍 Training: Linear Regression (K=3)\n",
      "n_iterations: 1\n",
      "n_required_iterations: 1\n",
      "n_possible_iterations: 1\n",
      "min_resources_: 119\n",
      "max_resources_: 119\n",
      "aggressive_elimination: False\n",
      "factor: 2\n",
      "----------\n",
      "iter: 0\n",
      "n_candidates: 1\n",
      "n_resources: 119\n",
      "Fitting 3 folds for each of 1 candidates, totalling 3 fits\n"
     ]
    },
    {
     "name": "stderr",
     "output_type": "stream",
     "text": [
      "Training Models:   7%|███▏                                           | 1/15 [00:01<00:22,  1.61s/it]"
     ]
    },
    {
     "name": "stdout",
     "output_type": "stream",
     "text": [
      "\n",
      "🔍 Training: Linear Regression (K=5)\n",
      "n_iterations: 1\n",
      "n_required_iterations: 1\n",
      "n_possible_iterations: 1\n",
      "min_resources_: 119\n",
      "max_resources_: 119\n",
      "aggressive_elimination: False\n",
      "factor: 2\n",
      "----------\n",
      "iter: 0\n",
      "n_candidates: 1\n",
      "n_resources: 119\n",
      "Fitting 5 folds for each of 1 candidates, totalling 5 fits\n"
     ]
    },
    {
     "name": "stderr",
     "output_type": "stream",
     "text": [
      "Training Models:  13%|██████▎                                        | 2/15 [00:03<00:23,  1.79s/it]"
     ]
    },
    {
     "name": "stdout",
     "output_type": "stream",
     "text": [
      "\n",
      "🔍 Training: Linear Regression (K=7)\n",
      "n_iterations: 1\n",
      "n_required_iterations: 1\n",
      "n_possible_iterations: 1\n",
      "min_resources_: 119\n",
      "max_resources_: 119\n",
      "aggressive_elimination: False\n",
      "factor: 2\n",
      "----------\n",
      "iter: 0\n",
      "n_candidates: 1\n",
      "n_resources: 119\n",
      "Fitting 7 folds for each of 1 candidates, totalling 7 fits\n"
     ]
    },
    {
     "name": "stderr",
     "output_type": "stream",
     "text": [
      "Training Models:  20%|█████████▍                                     | 3/15 [00:05<00:24,  2.07s/it]"
     ]
    },
    {
     "name": "stdout",
     "output_type": "stream",
     "text": [
      "\n",
      "🔍 Training: Decision Tree (K=3)\n",
      "n_iterations: 3\n",
      "n_required_iterations: 3\n",
      "n_possible_iterations: 3\n",
      "min_resources_: 29\n",
      "max_resources_: 119\n",
      "aggressive_elimination: False\n",
      "factor: 2\n",
      "----------\n",
      "iter: 0\n",
      "n_candidates: 4\n",
      "n_resources: 29\n",
      "Fitting 3 folds for each of 4 candidates, totalling 12 fits\n",
      "----------\n",
      "iter: 1\n",
      "n_candidates: 2\n",
      "n_resources: 58\n",
      "Fitting 3 folds for each of 2 candidates, totalling 6 fits\n",
      "----------\n",
      "iter: 2\n",
      "n_candidates: 1\n",
      "n_resources: 116\n",
      "Fitting 3 folds for each of 1 candidates, totalling 3 fits\n"
     ]
    },
    {
     "name": "stderr",
     "output_type": "stream",
     "text": [
      "Training Models:  27%|████████████▌                                  | 4/15 [00:09<00:27,  2.50s/it]"
     ]
    },
    {
     "name": "stdout",
     "output_type": "stream",
     "text": [
      "\n",
      "🔍 Training: Decision Tree (K=5)\n",
      "n_iterations: 3\n",
      "n_required_iterations: 3\n",
      "n_possible_iterations: 3\n",
      "min_resources_: 29\n",
      "max_resources_: 119\n",
      "aggressive_elimination: False\n",
      "factor: 2\n",
      "----------\n",
      "iter: 0\n",
      "n_candidates: 4\n",
      "n_resources: 29\n",
      "Fitting 5 folds for each of 4 candidates, totalling 20 fits\n",
      "----------\n",
      "iter: 1\n",
      "n_candidates: 2\n",
      "n_resources: 58\n",
      "Fitting 5 folds for each of 2 candidates, totalling 10 fits\n",
      "----------\n",
      "iter: 2\n",
      "n_candidates: 1\n",
      "n_resources: 116\n",
      "Fitting 5 folds for each of 1 candidates, totalling 5 fits\n"
     ]
    },
    {
     "name": "stderr",
     "output_type": "stream",
     "text": [
      "Training Models:  33%|███████████████▋                               | 5/15 [00:13<00:30,  3.06s/it]"
     ]
    },
    {
     "name": "stdout",
     "output_type": "stream",
     "text": [
      "\n",
      "🔍 Training: Decision Tree (K=7)\n",
      "n_iterations: 3\n",
      "n_required_iterations: 3\n",
      "n_possible_iterations: 3\n",
      "min_resources_: 29\n",
      "max_resources_: 119\n",
      "aggressive_elimination: False\n",
      "factor: 2\n",
      "----------\n",
      "iter: 0\n",
      "n_candidates: 4\n",
      "n_resources: 29\n",
      "Fitting 7 folds for each of 4 candidates, totalling 28 fits\n",
      "----------\n",
      "iter: 1\n",
      "n_candidates: 2\n",
      "n_resources: 58\n",
      "Fitting 7 folds for each of 2 candidates, totalling 14 fits\n",
      "----------\n",
      "iter: 2\n",
      "n_candidates: 1\n",
      "n_resources: 116\n",
      "Fitting 7 folds for each of 1 candidates, totalling 7 fits\n"
     ]
    },
    {
     "name": "stderr",
     "output_type": "stream",
     "text": [
      "Training Models:  40%|██████████████████▊                            | 6/15 [00:17<00:32,  3.64s/it]"
     ]
    },
    {
     "name": "stdout",
     "output_type": "stream",
     "text": [
      "\n",
      "🔍 Training: Random Forest (K=3)\n",
      "n_iterations: 3\n",
      "n_required_iterations: 3\n",
      "n_possible_iterations: 3\n",
      "min_resources_: 29\n",
      "max_resources_: 119\n",
      "aggressive_elimination: False\n",
      "factor: 2\n",
      "----------\n",
      "iter: 0\n",
      "n_candidates: 4\n",
      "n_resources: 29\n",
      "Fitting 3 folds for each of 4 candidates, totalling 12 fits\n",
      "----------\n",
      "iter: 1\n",
      "n_candidates: 2\n",
      "n_resources: 58\n",
      "Fitting 3 folds for each of 2 candidates, totalling 6 fits\n",
      "----------\n",
      "iter: 2\n",
      "n_candidates: 1\n",
      "n_resources: 116\n",
      "Fitting 3 folds for each of 1 candidates, totalling 3 fits\n"
     ]
    },
    {
     "name": "stderr",
     "output_type": "stream",
     "text": [
      "Training Models:  47%|█████████████████████▉                         | 7/15 [01:07<02:28, 18.61s/it]"
     ]
    },
    {
     "name": "stdout",
     "output_type": "stream",
     "text": [
      "\n",
      "🔍 Training: Random Forest (K=5)\n",
      "n_iterations: 3\n",
      "n_required_iterations: 3\n",
      "n_possible_iterations: 3\n",
      "min_resources_: 29\n",
      "max_resources_: 119\n",
      "aggressive_elimination: False\n",
      "factor: 2\n",
      "----------\n",
      "iter: 0\n",
      "n_candidates: 4\n",
      "n_resources: 29\n",
      "Fitting 5 folds for each of 4 candidates, totalling 20 fits\n",
      "----------\n",
      "iter: 1\n",
      "n_candidates: 2\n",
      "n_resources: 58\n",
      "Fitting 5 folds for each of 2 candidates, totalling 10 fits\n",
      "----------\n",
      "iter: 2\n",
      "n_candidates: 1\n",
      "n_resources: 116\n",
      "Fitting 5 folds for each of 1 candidates, totalling 5 fits\n"
     ]
    },
    {
     "name": "stderr",
     "output_type": "stream",
     "text": [
      "Training Models:  53%|█████████████████████████                      | 8/15 [02:18<04:08, 35.45s/it]"
     ]
    },
    {
     "name": "stdout",
     "output_type": "stream",
     "text": [
      "\n",
      "🔍 Training: Random Forest (K=7)\n",
      "n_iterations: 3\n",
      "n_required_iterations: 3\n",
      "n_possible_iterations: 3\n",
      "min_resources_: 29\n",
      "max_resources_: 119\n",
      "aggressive_elimination: False\n",
      "factor: 2\n",
      "----------\n",
      "iter: 0\n",
      "n_candidates: 4\n",
      "n_resources: 29\n",
      "Fitting 7 folds for each of 4 candidates, totalling 28 fits\n",
      "----------\n",
      "iter: 1\n",
      "n_candidates: 2\n",
      "n_resources: 58\n",
      "Fitting 7 folds for each of 2 candidates, totalling 14 fits\n",
      "----------\n",
      "iter: 2\n",
      "n_candidates: 1\n",
      "n_resources: 116\n",
      "Fitting 7 folds for each of 1 candidates, totalling 7 fits\n"
     ]
    },
    {
     "name": "stderr",
     "output_type": "stream",
     "text": [
      "Training Models:  60%|████████████████████████████▏                  | 9/15 [03:20<04:22, 43.75s/it]"
     ]
    },
    {
     "name": "stdout",
     "output_type": "stream",
     "text": [
      "\n",
      "🔍 Training: Gradient Boosting (K=3)\n",
      "n_iterations: 3\n",
      "n_required_iterations: 3\n",
      "n_possible_iterations: 3\n",
      "min_resources_: 29\n",
      "max_resources_: 119\n",
      "aggressive_elimination: False\n",
      "factor: 2\n",
      "----------\n",
      "iter: 0\n",
      "n_candidates: 4\n",
      "n_resources: 29\n",
      "Fitting 3 folds for each of 4 candidates, totalling 12 fits\n",
      "----------\n",
      "iter: 1\n",
      "n_candidates: 2\n",
      "n_resources: 58\n",
      "Fitting 3 folds for each of 2 candidates, totalling 6 fits\n",
      "----------\n",
      "iter: 2\n",
      "n_candidates: 1\n",
      "n_resources: 116\n",
      "Fitting 3 folds for each of 1 candidates, totalling 3 fits\n"
     ]
    },
    {
     "name": "stderr",
     "output_type": "stream",
     "text": [
      "Training Models:  67%|██████████████████████████████▋               | 10/15 [03:36<02:55, 35.13s/it]"
     ]
    },
    {
     "name": "stdout",
     "output_type": "stream",
     "text": [
      "\n",
      "🔍 Training: Gradient Boosting (K=5)\n",
      "n_iterations: 3\n",
      "n_required_iterations: 3\n",
      "n_possible_iterations: 3\n",
      "min_resources_: 29\n",
      "max_resources_: 119\n",
      "aggressive_elimination: False\n",
      "factor: 2\n",
      "----------\n",
      "iter: 0\n",
      "n_candidates: 4\n",
      "n_resources: 29\n",
      "Fitting 5 folds for each of 4 candidates, totalling 20 fits\n",
      "----------\n",
      "iter: 1\n",
      "n_candidates: 2\n",
      "n_resources: 58\n",
      "Fitting 5 folds for each of 2 candidates, totalling 10 fits\n",
      "----------\n",
      "iter: 2\n",
      "n_candidates: 1\n",
      "n_resources: 116\n",
      "Fitting 5 folds for each of 1 candidates, totalling 5 fits\n"
     ]
    },
    {
     "name": "stderr",
     "output_type": "stream",
     "text": [
      "Training Models:  73%|█████████████████████████████████▋            | 11/15 [03:56<02:01, 30.45s/it]"
     ]
    },
    {
     "name": "stdout",
     "output_type": "stream",
     "text": [
      "\n",
      "🔍 Training: Gradient Boosting (K=7)\n",
      "n_iterations: 3\n",
      "n_required_iterations: 3\n",
      "n_possible_iterations: 3\n",
      "min_resources_: 29\n",
      "max_resources_: 119\n",
      "aggressive_elimination: False\n",
      "factor: 2\n",
      "----------\n",
      "iter: 0\n",
      "n_candidates: 4\n",
      "n_resources: 29\n",
      "Fitting 7 folds for each of 4 candidates, totalling 28 fits\n",
      "----------\n",
      "iter: 1\n",
      "n_candidates: 2\n",
      "n_resources: 58\n",
      "Fitting 7 folds for each of 2 candidates, totalling 14 fits\n",
      "----------\n",
      "iter: 2\n",
      "n_candidates: 1\n",
      "n_resources: 116\n",
      "Fitting 7 folds for each of 1 candidates, totalling 7 fits\n"
     ]
    },
    {
     "name": "stderr",
     "output_type": "stream",
     "text": [
      "Training Models:  80%|████████████████████████████████████▊         | 12/15 [04:19<01:24, 28.25s/it]"
     ]
    },
    {
     "name": "stdout",
     "output_type": "stream",
     "text": [
      "\n",
      "🔍 Training: Lasso Regression (K=3)\n",
      "n_iterations: 3\n",
      "n_required_iterations: 3\n",
      "n_possible_iterations: 3\n",
      "min_resources_: 29\n",
      "max_resources_: 119\n",
      "aggressive_elimination: False\n",
      "factor: 2\n",
      "----------\n",
      "iter: 0\n",
      "n_candidates: 4\n",
      "n_resources: 29\n",
      "Fitting 3 folds for each of 4 candidates, totalling 12 fits\n",
      "----------\n",
      "iter: 1\n",
      "n_candidates: 2\n",
      "n_resources: 58\n",
      "Fitting 3 folds for each of 2 candidates, totalling 6 fits\n",
      "----------\n",
      "iter: 2\n",
      "n_candidates: 1\n",
      "n_resources: 116\n",
      "Fitting 3 folds for each of 1 candidates, totalling 3 fits\n"
     ]
    },
    {
     "name": "stderr",
     "output_type": "stream",
     "text": [
      "Training Models:  87%|███████████████████████████████████████▊      | 13/15 [04:22<00:41, 20.52s/it]"
     ]
    },
    {
     "name": "stdout",
     "output_type": "stream",
     "text": [
      "\n",
      "🔍 Training: Lasso Regression (K=5)\n",
      "n_iterations: 3\n",
      "n_required_iterations: 3\n",
      "n_possible_iterations: 3\n",
      "min_resources_: 29\n",
      "max_resources_: 119\n",
      "aggressive_elimination: False\n",
      "factor: 2\n",
      "----------\n",
      "iter: 0\n",
      "n_candidates: 4\n",
      "n_resources: 29\n",
      "Fitting 5 folds for each of 4 candidates, totalling 20 fits\n",
      "----------\n",
      "iter: 1\n",
      "n_candidates: 2\n",
      "n_resources: 58\n",
      "Fitting 5 folds for each of 2 candidates, totalling 10 fits\n",
      "----------\n",
      "iter: 2\n",
      "n_candidates: 1\n",
      "n_resources: 116\n",
      "Fitting 5 folds for each of 1 candidates, totalling 5 fits\n"
     ]
    },
    {
     "name": "stderr",
     "output_type": "stream",
     "text": [
      "Training Models:  93%|██████████████████████████████████████████▉   | 14/15 [04:25<00:15, 15.37s/it]"
     ]
    },
    {
     "name": "stdout",
     "output_type": "stream",
     "text": [
      "\n",
      "🔍 Training: Lasso Regression (K=7)\n",
      "n_iterations: 3\n",
      "n_required_iterations: 3\n",
      "n_possible_iterations: 3\n",
      "min_resources_: 29\n",
      "max_resources_: 119\n",
      "aggressive_elimination: False\n",
      "factor: 2\n",
      "----------\n",
      "iter: 0\n",
      "n_candidates: 4\n",
      "n_resources: 29\n",
      "Fitting 7 folds for each of 4 candidates, totalling 28 fits\n",
      "----------\n",
      "iter: 1\n",
      "n_candidates: 2\n",
      "n_resources: 58\n",
      "Fitting 7 folds for each of 2 candidates, totalling 14 fits\n",
      "----------\n",
      "iter: 2\n",
      "n_candidates: 1\n",
      "n_resources: 116\n",
      "Fitting 7 folds for each of 1 candidates, totalling 7 fits\n"
     ]
    },
    {
     "name": "stderr",
     "output_type": "stream",
     "text": [
      "Training Models: 100%|██████████████████████████████████████████████| 15/15 [04:30<00:00, 18.03s/it]\n"
     ]
    }
   ],
   "source": [
    "k_values = [3,5,7]\n",
    "# Create grid searches\n",
    "searches = create_grid_searches(X_train, y_train, param_grids, k_values)\n",
    "\n",
    "# Run training\n",
    "results_df = train_with_progress(searches, X_train, y_train)\n"
   ]
  },
  {
   "cell_type": "code",
   "execution_count": null,
   "id": "49cb90a8",
   "metadata": {},
   "outputs": [
    {
     "name": "stdout",
     "output_type": "stream",
     "text": [
      "🏆 Best Model Based on Combined R², MSE, and MAE:\n",
      "\n",
      "Model             Decision Tree (K=5)\n",
      "R2                                1.0\n",
      "MSE                               0.0\n",
      "MAE                               0.0\n",
      "Combined_Score                    3.0\n",
      "Name: 0, dtype: object\n"
     ]
    }
   ],
   "source": [
    "from sklearn.preprocessing import MinMaxScaler\n",
    "\n",
    "def get_best_overall_model(results_df):\n",
    "    df = results_df.copy()\n",
    "\n",
    "    # Invert MSE and MAE (since lower is better, we flip them for scoring)\n",
    "    df[\"Inv_MSE\"] = -df[\"MSE\"]\n",
    "    df[\"Inv_MAE\"] = -df[\"MAE\"]\n",
    "\n",
    "    # Normalize all metrics to [0, 1] range\n",
    "    scaler = MinMaxScaler()\n",
    "    df[[\"Norm_R2\", \"Norm_MSE\", \"Norm_MAE\"]] = scaler.fit_transform(\n",
    "        df[[\"R2\", \"Inv_MSE\", \"Inv_MAE\"]]\n",
    "    )\n",
    "\n",
    "    # Combine all three normalized scores\n",
    "    df[\"Combined_Score\"] = df[\"Norm_R2\"] + df[\"Norm_MSE\"] + df[\"Norm_MAE\"]\n",
    "\n",
    "    # Sort by combined score\n",
    "    df = df.sort_values(by=\"Combined_Score\", ascending=False).reset_index(drop=True)\n",
    "\n",
    "    # Print the best model's stats\n",
    "    print(\"🏆 Best Model Based on Combined R², MSE, and MAE:\\n\")\n",
    "    print(df.loc[0, [\"Model\", \"R2\", \"MSE\", \"MAE\", \"Combined_Score\"]])\n",
    "\n",
    "    return df.loc[0]\n",
    "\n",
    "best_model = get_best_overall_model(results_df)\n"
   ]
  }
 ],
 "metadata": {
  "kernelspec": {
   "display_name": "Python 3",
   "language": "python",
   "name": "python3"
  },
  "language_info": {
   "codemirror_mode": {
    "name": "ipython",
    "version": 3
   },
   "file_extension": ".py",
   "mimetype": "text/x-python",
   "name": "python",
   "nbconvert_exporter": "python",
   "pygments_lexer": "ipython3",
   "version": "3.10.11"
  }
 },
 "nbformat": 4,
 "nbformat_minor": 5
}
